{
  "nbformat": 4,
  "nbformat_minor": 0,
  "metadata": {
    "colab": {
      "name": "0x05 自动求导.ipynb",
      "provenance": [],
      "authorship_tag": "ABX9TyNiz4rEprrXlnmmPKCnIABa",
      "include_colab_link": true
    },
    "kernelspec": {
      "name": "python3",
      "display_name": "Python 3"
    },
    "language_info": {
      "name": "python"
    }
  },
  "cells": [
    {
      "cell_type": "markdown",
      "metadata": {
        "id": "view-in-github",
        "colab_type": "text"
      },
      "source": [
        "<a href=\"https://colab.research.google.com/github/Matrixmax/Dive_into_DeepLearning/blob/main/0x05_%E8%87%AA%E5%8A%A8%E6%B1%82%E5%AF%BC.ipynb\" target=\"_parent\"><img src=\"https://colab.research.google.com/assets/colab-badge.svg\" alt=\"Open In Colab\"/></a>"
      ]
    },
    {
      "cell_type": "markdown",
      "metadata": {
        "id": "rEfRlojbxhSu"
      },
      "source": [
        "## 1. 一个简单的例子"
      ]
    },
    {
      "cell_type": "code",
      "metadata": {
        "colab": {
          "base_uri": "https://localhost:8080/"
        },
        "id": "-w5JBzuhwK_v",
        "outputId": "12c18796-12fd-4f30-b45b-1ce2b19ec0a2"
      },
      "source": [
        "import torch\n",
        "x = torch.arange(4.0)\n",
        "x"
      ],
      "execution_count": 1,
      "outputs": [
        {
          "output_type": "execute_result",
          "data": {
            "text/plain": [
              "tensor([0., 1., 2., 3.])"
            ]
          },
          "metadata": {
            "tags": []
          },
          "execution_count": 1
        }
      ]
    },
    {
      "cell_type": "markdown",
      "metadata": {
        "id": "2_34aGSNwgcW"
      },
      "source": [
        "在我们计算 y 关于 x 的梯度之前，我们需要一个地方来存储梯度。 重要的是，我们不会在每次对一个参数求导时都分配新的内存。因为我们经常会成千上万次地更新相同的参数，每次都分配新的内存可能很快就会将内存耗尽。注意，标量函数关于向量 x 的梯度是向量，并且与 x 具有相同的形状。"
      ]
    },
    {
      "cell_type": "code",
      "metadata": {
        "id": "ssh0uZrLwZVP"
      },
      "source": [
        "x.requires_grad_(True) # 等价于 `x = torch.arange(4.0, requires_grad=True)`\n",
        "x.grad # 默认值是None"
      ],
      "execution_count": 2,
      "outputs": []
    },
    {
      "cell_type": "code",
      "metadata": {
        "colab": {
          "base_uri": "https://localhost:8080/"
        },
        "id": "AsJ-pQuOwoh8",
        "outputId": "5b8448a9-990c-438d-d310-393e73b52547"
      },
      "source": [
        "y = 2*torch.dot(x,x)\n",
        "y"
      ],
      "execution_count": 4,
      "outputs": [
        {
          "output_type": "execute_result",
          "data": {
            "text/plain": [
              "tensor(28., grad_fn=<MulBackward0>)"
            ]
          },
          "metadata": {
            "tags": []
          },
          "execution_count": 4
        }
      ]
    },
    {
      "cell_type": "code",
      "metadata": {
        "colab": {
          "base_uri": "https://localhost:8080/"
        },
        "id": "DHYtyRHJw6oq",
        "outputId": "da698c73-628d-4205-dc72-c12872c3e5b3"
      },
      "source": [
        "y.backward()\n",
        "x.grad"
      ],
      "execution_count": 5,
      "outputs": [
        {
          "output_type": "execute_result",
          "data": {
            "text/plain": [
              "tensor([ 0.,  4.,  8., 12.])"
            ]
          },
          "metadata": {
            "tags": []
          },
          "execution_count": 5
        }
      ]
    },
    {
      "cell_type": "markdown",
      "metadata": {
        "id": "KX2stwLzxCKs"
      },
      "source": [
        "函数  y=2x⊤x  关于 x  的梯度应为 4x 。让我们快速验证我们想要的梯度是否正确计算。"
      ]
    },
    {
      "cell_type": "code",
      "metadata": {
        "colab": {
          "base_uri": "https://localhost:8080/"
        },
        "id": "DgfBBzZaxBhg",
        "outputId": "98933a6c-ba44-472e-8deb-7d1f1e9f22cd"
      },
      "source": [
        "x.grad == 4*x"
      ],
      "execution_count": 6,
      "outputs": [
        {
          "output_type": "execute_result",
          "data": {
            "text/plain": [
              "tensor([True, True, True, True])"
            ]
          },
          "metadata": {
            "tags": []
          },
          "execution_count": 6
        }
      ]
    },
    {
      "cell_type": "markdown",
      "metadata": {
        "id": "8mTGZCYjw5Mc"
      },
      "source": [
        "现在让我们计算 x 的另一个函数。"
      ]
    },
    {
      "cell_type": "code",
      "metadata": {
        "colab": {
          "base_uri": "https://localhost:8080/"
        },
        "id": "x21aWEiCxMfJ",
        "outputId": "3152c720-35dd-4633-ae3e-686cf6cd5c87"
      },
      "source": [
        "# 在默认情况下，PyTorch会累积梯度，我们需要清除之前的值\n",
        "x.grad.zero_()\n",
        "y = x.sum()\n",
        "y.backward()\n",
        "x.grad"
      ],
      "execution_count": 10,
      "outputs": [
        {
          "output_type": "execute_result",
          "data": {
            "text/plain": [
              "tensor([1., 1., 1., 1.])"
            ]
          },
          "metadata": {
            "tags": []
          },
          "execution_count": 10
        }
      ]
    },
    {
      "cell_type": "markdown",
      "metadata": {
        "id": "1Ivpf34Qxkz0"
      },
      "source": [
        "## 2. 非标量变量的反向传播"
      ]
    },
    {
      "cell_type": "markdown",
      "metadata": {
        "id": "PQWC5G8oyUE7"
      },
      "source": [
        "当 y 不是标量时，向量y关于向量x的导数的最自然解释是一个矩阵。对于高阶和高维的 y 和 x，求导的结果可以是一个高阶张量。"
      ]
    },
    {
      "cell_type": "code",
      "metadata": {
        "colab": {
          "base_uri": "https://localhost:8080/"
        },
        "id": "F6X8hYT8xoOB",
        "outputId": "727aa882-41bf-45a8-d34e-57de02e69ad2"
      },
      "source": [
        "# 对非标量调用`backward`需要传入一个`gradient`参数，该参数指定微分函数关于`self`的梯度。\n",
        "# 在我们的例子中，我们只想求偏导数的和，所以传递一个1的梯度是合适的\n",
        "x.grad.zero_()\n",
        "y = x*x\n",
        "# 等价于y.backward(torch.ones(len(x)))\n",
        "y.sum().backward()\n",
        "x.grad"
      ],
      "execution_count": 12,
      "outputs": [
        {
          "output_type": "execute_result",
          "data": {
            "text/plain": [
              "tensor([0., 2., 4., 6.])"
            ]
          },
          "metadata": {
            "tags": []
          },
          "execution_count": 12
        }
      ]
    },
    {
      "cell_type": "markdown",
      "metadata": {
        "id": "gHcvHZJAzGoC"
      },
      "source": [
        "## 3. 分离计算\n",
        "有时，我们希望将某些计算移动到记录的计算图之外。 例如，假设y是作为x的函数计算的，而z则是作为y和x的函数计算的。 现在，想象一下，我们想计算 z 关于 x 的梯度，但由于某种原因，我们希望将 y 视为一个常数，并且只考虑到 x 在y被计算后发挥的作用。\n",
        "\n",
        "在这里，我们可以分离 y 来返回一个新变量 u，该变量与 y 具有相同的值，但丢弃计算图中如何计算 y 的任何信息。换句话说，梯度不会向后流经 u 到 x。因此，下面的反向传播函数计算 z = u * x 关于 x 的偏导数，同时将 u 作为常数处理，而不是z = x * x * x关于 x 的偏导数。"
      ]
    },
    {
      "cell_type": "code",
      "metadata": {
        "colab": {
          "base_uri": "https://localhost:8080/"
        },
        "id": "ZiFIomTxzi26",
        "outputId": "e05aee56-a586-4aa4-9e71-a612cc7cc3b5"
      },
      "source": [
        "x.grad.zero_()\n",
        "y = x*x\n",
        "u = y.detach()\n",
        "z = u*x\n",
        "z.sum().backward()\n",
        "x.grad == u"
      ],
      "execution_count": 13,
      "outputs": [
        {
          "output_type": "execute_result",
          "data": {
            "text/plain": [
              "tensor([True, True, True, True])"
            ]
          },
          "metadata": {
            "tags": []
          },
          "execution_count": 13
        }
      ]
    },
    {
      "cell_type": "markdown",
      "metadata": {
        "id": "peQgs5Ic0k0m"
      },
      "source": [
        "由于记录了 y 的计算结果，我们可以随后在 y 上调用反向传播，得到 y = x * x 关于的x的导数，这里是 2 * x。"
      ]
    },
    {
      "cell_type": "code",
      "metadata": {
        "colab": {
          "base_uri": "https://localhost:8080/"
        },
        "id": "V0TzowE80lzH",
        "outputId": "7ca0df2c-570e-4d31-d06d-226853bab953"
      },
      "source": [
        "x.grad.zero_()\n",
        "y.sum().backward()\n",
        "x.grad ==2*x"
      ],
      "execution_count": 14,
      "outputs": [
        {
          "output_type": "execute_result",
          "data": {
            "text/plain": [
              "tensor([True, True, True, True])"
            ]
          },
          "metadata": {
            "tags": []
          },
          "execution_count": 14
        }
      ]
    },
    {
      "cell_type": "markdown",
      "metadata": {
        "id": "b8vX7oCK0sfr"
      },
      "source": [
        "## 4. python控制流的梯度计算\n",
        "使用自动求导的一个好处是，即使构建函数的计算图需要通过 Python控制流（例如，条件、循环或任意函数调用），我们仍然可以计算得到的变量的梯度。在下面的代码中，while 循环的迭代次数和 if 语句的结果都取决于输入 a 的值。"
      ]
    },
    {
      "cell_type": "code",
      "metadata": {
        "id": "77q7VZR90w9g"
      },
      "source": [
        "def f(a):\n",
        "    b = a*2\n",
        "    while b.norm() < 1000:\n",
        "        b = b*2\n",
        "    if b.sum()>0:\n",
        "        c = b\n",
        "    else:\n",
        "        c = 100*b\n",
        "    return c"
      ],
      "execution_count": 17,
      "outputs": []
    },
    {
      "cell_type": "code",
      "metadata": {
        "id": "IjqoLERO1Xdk"
      },
      "source": [
        "a = torch.randn(size=(),requires_grad=True)\n",
        "d = f(a)\n",
        "d.backward()"
      ],
      "execution_count": 18,
      "outputs": []
    },
    {
      "cell_type": "code",
      "metadata": {
        "colab": {
          "base_uri": "https://localhost:8080/"
        },
        "id": "N-xvXam11ckX",
        "outputId": "58488c0b-a95a-40d2-9e4c-605624afcda9"
      },
      "source": [
        "a.grad == d/a"
      ],
      "execution_count": 19,
      "outputs": [
        {
          "output_type": "execute_result",
          "data": {
            "text/plain": [
              "tensor(True)"
            ]
          },
          "metadata": {
            "tags": []
          },
          "execution_count": 19
        }
      ]
    }
  ]
}