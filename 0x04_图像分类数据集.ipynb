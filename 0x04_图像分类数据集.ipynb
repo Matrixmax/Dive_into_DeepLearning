{
  "nbformat": 4,
  "nbformat_minor": 0,
  "metadata": {
    "colab": {
      "name": "0x04_图像分类数据集.ipynb",
      "provenance": [],
      "collapsed_sections": [],
      "authorship_tag": "ABX9TyOOi+blbgPV1ei+Emn/hdPj",
      "include_colab_link": true
    },
    "kernelspec": {
      "name": "python3",
      "display_name": "Python 3"
    },
    "widgets": {
      "application/vnd.jupyter.widget-state+json": {
        "b72f78050ea84331a7037ff87d6f01e9": {
          "model_module": "@jupyter-widgets/controls",
          "model_name": "HBoxModel",
          "state": {
            "_view_name": "HBoxView",
            "_dom_classes": [],
            "_model_name": "HBoxModel",
            "_view_module": "@jupyter-widgets/controls",
            "_model_module_version": "1.5.0",
            "_view_count": null,
            "_view_module_version": "1.5.0",
            "box_style": "",
            "layout": "IPY_MODEL_6ae8c83e1c2b4cdebf871650bbebe9dc",
            "_model_module": "@jupyter-widgets/controls",
            "children": [
              "IPY_MODEL_7babd2406c104f61a92e8c3f6f84b2dc",
              "IPY_MODEL_c73167ea5df948838854c531a019a433"
            ]
          }
        },
        "6ae8c83e1c2b4cdebf871650bbebe9dc": {
          "model_module": "@jupyter-widgets/base",
          "model_name": "LayoutModel",
          "state": {
            "_view_name": "LayoutView",
            "grid_template_rows": null,
            "right": null,
            "justify_content": null,
            "_view_module": "@jupyter-widgets/base",
            "overflow": null,
            "_model_module_version": "1.2.0",
            "_view_count": null,
            "flex_flow": null,
            "width": null,
            "min_width": null,
            "border": null,
            "align_items": null,
            "bottom": null,
            "_model_module": "@jupyter-widgets/base",
            "top": null,
            "grid_column": null,
            "overflow_y": null,
            "overflow_x": null,
            "grid_auto_flow": null,
            "grid_area": null,
            "grid_template_columns": null,
            "flex": null,
            "_model_name": "LayoutModel",
            "justify_items": null,
            "grid_row": null,
            "max_height": null,
            "align_content": null,
            "visibility": null,
            "align_self": null,
            "height": null,
            "min_height": null,
            "padding": null,
            "grid_auto_rows": null,
            "grid_gap": null,
            "max_width": null,
            "order": null,
            "_view_module_version": "1.2.0",
            "grid_template_areas": null,
            "object_position": null,
            "object_fit": null,
            "grid_auto_columns": null,
            "margin": null,
            "display": null,
            "left": null
          }
        },
        "7babd2406c104f61a92e8c3f6f84b2dc": {
          "model_module": "@jupyter-widgets/controls",
          "model_name": "FloatProgressModel",
          "state": {
            "_view_name": "ProgressView",
            "style": "IPY_MODEL_c7e7afd859ee4ad5bb308f901db49291",
            "_dom_classes": [],
            "description": "",
            "_model_name": "FloatProgressModel",
            "bar_style": "info",
            "max": 1,
            "_view_module": "@jupyter-widgets/controls",
            "_model_module_version": "1.5.0",
            "value": 1,
            "_view_count": null,
            "_view_module_version": "1.5.0",
            "orientation": "horizontal",
            "min": 0,
            "description_tooltip": null,
            "_model_module": "@jupyter-widgets/controls",
            "layout": "IPY_MODEL_9db462daf84241d4b13513abad31bd5d"
          }
        },
        "c73167ea5df948838854c531a019a433": {
          "model_module": "@jupyter-widgets/controls",
          "model_name": "HTMLModel",
          "state": {
            "_view_name": "HTMLView",
            "style": "IPY_MODEL_b122fa32ba76498ca84311a2fb2b54f8",
            "_dom_classes": [],
            "description": "",
            "_model_name": "HTMLModel",
            "placeholder": "​",
            "_view_module": "@jupyter-widgets/controls",
            "_model_module_version": "1.5.0",
            "value": " 26427392/? [00:20&lt;00:00, 9801118.10it/s]",
            "_view_count": null,
            "_view_module_version": "1.5.0",
            "description_tooltip": null,
            "_model_module": "@jupyter-widgets/controls",
            "layout": "IPY_MODEL_a34d06d3771c4360b6c8969cb79195c0"
          }
        },
        "c7e7afd859ee4ad5bb308f901db49291": {
          "model_module": "@jupyter-widgets/controls",
          "model_name": "ProgressStyleModel",
          "state": {
            "_view_name": "StyleView",
            "_model_name": "ProgressStyleModel",
            "description_width": "initial",
            "_view_module": "@jupyter-widgets/base",
            "_model_module_version": "1.5.0",
            "_view_count": null,
            "_view_module_version": "1.2.0",
            "bar_color": null,
            "_model_module": "@jupyter-widgets/controls"
          }
        },
        "9db462daf84241d4b13513abad31bd5d": {
          "model_module": "@jupyter-widgets/base",
          "model_name": "LayoutModel",
          "state": {
            "_view_name": "LayoutView",
            "grid_template_rows": null,
            "right": null,
            "justify_content": null,
            "_view_module": "@jupyter-widgets/base",
            "overflow": null,
            "_model_module_version": "1.2.0",
            "_view_count": null,
            "flex_flow": null,
            "width": null,
            "min_width": null,
            "border": null,
            "align_items": null,
            "bottom": null,
            "_model_module": "@jupyter-widgets/base",
            "top": null,
            "grid_column": null,
            "overflow_y": null,
            "overflow_x": null,
            "grid_auto_flow": null,
            "grid_area": null,
            "grid_template_columns": null,
            "flex": null,
            "_model_name": "LayoutModel",
            "justify_items": null,
            "grid_row": null,
            "max_height": null,
            "align_content": null,
            "visibility": null,
            "align_self": null,
            "height": null,
            "min_height": null,
            "padding": null,
            "grid_auto_rows": null,
            "grid_gap": null,
            "max_width": null,
            "order": null,
            "_view_module_version": "1.2.0",
            "grid_template_areas": null,
            "object_position": null,
            "object_fit": null,
            "grid_auto_columns": null,
            "margin": null,
            "display": null,
            "left": null
          }
        },
        "b122fa32ba76498ca84311a2fb2b54f8": {
          "model_module": "@jupyter-widgets/controls",
          "model_name": "DescriptionStyleModel",
          "state": {
            "_view_name": "StyleView",
            "_model_name": "DescriptionStyleModel",
            "description_width": "",
            "_view_module": "@jupyter-widgets/base",
            "_model_module_version": "1.5.0",
            "_view_count": null,
            "_view_module_version": "1.2.0",
            "_model_module": "@jupyter-widgets/controls"
          }
        },
        "a34d06d3771c4360b6c8969cb79195c0": {
          "model_module": "@jupyter-widgets/base",
          "model_name": "LayoutModel",
          "state": {
            "_view_name": "LayoutView",
            "grid_template_rows": null,
            "right": null,
            "justify_content": null,
            "_view_module": "@jupyter-widgets/base",
            "overflow": null,
            "_model_module_version": "1.2.0",
            "_view_count": null,
            "flex_flow": null,
            "width": null,
            "min_width": null,
            "border": null,
            "align_items": null,
            "bottom": null,
            "_model_module": "@jupyter-widgets/base",
            "top": null,
            "grid_column": null,
            "overflow_y": null,
            "overflow_x": null,
            "grid_auto_flow": null,
            "grid_area": null,
            "grid_template_columns": null,
            "flex": null,
            "_model_name": "LayoutModel",
            "justify_items": null,
            "grid_row": null,
            "max_height": null,
            "align_content": null,
            "visibility": null,
            "align_self": null,
            "height": null,
            "min_height": null,
            "padding": null,
            "grid_auto_rows": null,
            "grid_gap": null,
            "max_width": null,
            "order": null,
            "_view_module_version": "1.2.0",
            "grid_template_areas": null,
            "object_position": null,
            "object_fit": null,
            "grid_auto_columns": null,
            "margin": null,
            "display": null,
            "left": null
          }
        },
        "0ec6484fedd24d6687ae5c70e640766b": {
          "model_module": "@jupyter-widgets/controls",
          "model_name": "HBoxModel",
          "state": {
            "_view_name": "HBoxView",
            "_dom_classes": [],
            "_model_name": "HBoxModel",
            "_view_module": "@jupyter-widgets/controls",
            "_model_module_version": "1.5.0",
            "_view_count": null,
            "_view_module_version": "1.5.0",
            "box_style": "",
            "layout": "IPY_MODEL_47bad650e51246b08f6e9a5e84cb8006",
            "_model_module": "@jupyter-widgets/controls",
            "children": [
              "IPY_MODEL_e13f591cdfd148fdbdfd6f0b3d08f06d",
              "IPY_MODEL_0c0971577e304fb69bcdb01b3980198e"
            ]
          }
        },
        "47bad650e51246b08f6e9a5e84cb8006": {
          "model_module": "@jupyter-widgets/base",
          "model_name": "LayoutModel",
          "state": {
            "_view_name": "LayoutView",
            "grid_template_rows": null,
            "right": null,
            "justify_content": null,
            "_view_module": "@jupyter-widgets/base",
            "overflow": null,
            "_model_module_version": "1.2.0",
            "_view_count": null,
            "flex_flow": null,
            "width": null,
            "min_width": null,
            "border": null,
            "align_items": null,
            "bottom": null,
            "_model_module": "@jupyter-widgets/base",
            "top": null,
            "grid_column": null,
            "overflow_y": null,
            "overflow_x": null,
            "grid_auto_flow": null,
            "grid_area": null,
            "grid_template_columns": null,
            "flex": null,
            "_model_name": "LayoutModel",
            "justify_items": null,
            "grid_row": null,
            "max_height": null,
            "align_content": null,
            "visibility": null,
            "align_self": null,
            "height": null,
            "min_height": null,
            "padding": null,
            "grid_auto_rows": null,
            "grid_gap": null,
            "max_width": null,
            "order": null,
            "_view_module_version": "1.2.0",
            "grid_template_areas": null,
            "object_position": null,
            "object_fit": null,
            "grid_auto_columns": null,
            "margin": null,
            "display": null,
            "left": null
          }
        },
        "e13f591cdfd148fdbdfd6f0b3d08f06d": {
          "model_module": "@jupyter-widgets/controls",
          "model_name": "FloatProgressModel",
          "state": {
            "_view_name": "ProgressView",
            "style": "IPY_MODEL_889c763bb2fb4ff0be1471302155acd0",
            "_dom_classes": [],
            "description": "",
            "_model_name": "FloatProgressModel",
            "bar_style": "success",
            "max": 1,
            "_view_module": "@jupyter-widgets/controls",
            "_model_module_version": "1.5.0",
            "value": 1,
            "_view_count": null,
            "_view_module_version": "1.5.0",
            "orientation": "horizontal",
            "min": 0,
            "description_tooltip": null,
            "_model_module": "@jupyter-widgets/controls",
            "layout": "IPY_MODEL_bcc3975266974c18bf6a1b5cbfc72554"
          }
        },
        "0c0971577e304fb69bcdb01b3980198e": {
          "model_module": "@jupyter-widgets/controls",
          "model_name": "HTMLModel",
          "state": {
            "_view_name": "HTMLView",
            "style": "IPY_MODEL_eccae6d17c1e4e18b8d9a2e9da511ad4",
            "_dom_classes": [],
            "description": "",
            "_model_name": "HTMLModel",
            "placeholder": "​",
            "_view_module": "@jupyter-widgets/controls",
            "_model_module_version": "1.5.0",
            "value": " 32768/? [00:00&lt;00:00, 87250.09it/s]",
            "_view_count": null,
            "_view_module_version": "1.5.0",
            "description_tooltip": null,
            "_model_module": "@jupyter-widgets/controls",
            "layout": "IPY_MODEL_0ab06ab7148948b1b5dc2eba65d2f9f7"
          }
        },
        "889c763bb2fb4ff0be1471302155acd0": {
          "model_module": "@jupyter-widgets/controls",
          "model_name": "ProgressStyleModel",
          "state": {
            "_view_name": "StyleView",
            "_model_name": "ProgressStyleModel",
            "description_width": "initial",
            "_view_module": "@jupyter-widgets/base",
            "_model_module_version": "1.5.0",
            "_view_count": null,
            "_view_module_version": "1.2.0",
            "bar_color": null,
            "_model_module": "@jupyter-widgets/controls"
          }
        },
        "bcc3975266974c18bf6a1b5cbfc72554": {
          "model_module": "@jupyter-widgets/base",
          "model_name": "LayoutModel",
          "state": {
            "_view_name": "LayoutView",
            "grid_template_rows": null,
            "right": null,
            "justify_content": null,
            "_view_module": "@jupyter-widgets/base",
            "overflow": null,
            "_model_module_version": "1.2.0",
            "_view_count": null,
            "flex_flow": null,
            "width": null,
            "min_width": null,
            "border": null,
            "align_items": null,
            "bottom": null,
            "_model_module": "@jupyter-widgets/base",
            "top": null,
            "grid_column": null,
            "overflow_y": null,
            "overflow_x": null,
            "grid_auto_flow": null,
            "grid_area": null,
            "grid_template_columns": null,
            "flex": null,
            "_model_name": "LayoutModel",
            "justify_items": null,
            "grid_row": null,
            "max_height": null,
            "align_content": null,
            "visibility": null,
            "align_self": null,
            "height": null,
            "min_height": null,
            "padding": null,
            "grid_auto_rows": null,
            "grid_gap": null,
            "max_width": null,
            "order": null,
            "_view_module_version": "1.2.0",
            "grid_template_areas": null,
            "object_position": null,
            "object_fit": null,
            "grid_auto_columns": null,
            "margin": null,
            "display": null,
            "left": null
          }
        },
        "eccae6d17c1e4e18b8d9a2e9da511ad4": {
          "model_module": "@jupyter-widgets/controls",
          "model_name": "DescriptionStyleModel",
          "state": {
            "_view_name": "StyleView",
            "_model_name": "DescriptionStyleModel",
            "description_width": "",
            "_view_module": "@jupyter-widgets/base",
            "_model_module_version": "1.5.0",
            "_view_count": null,
            "_view_module_version": "1.2.0",
            "_model_module": "@jupyter-widgets/controls"
          }
        },
        "0ab06ab7148948b1b5dc2eba65d2f9f7": {
          "model_module": "@jupyter-widgets/base",
          "model_name": "LayoutModel",
          "state": {
            "_view_name": "LayoutView",
            "grid_template_rows": null,
            "right": null,
            "justify_content": null,
            "_view_module": "@jupyter-widgets/base",
            "overflow": null,
            "_model_module_version": "1.2.0",
            "_view_count": null,
            "flex_flow": null,
            "width": null,
            "min_width": null,
            "border": null,
            "align_items": null,
            "bottom": null,
            "_model_module": "@jupyter-widgets/base",
            "top": null,
            "grid_column": null,
            "overflow_y": null,
            "overflow_x": null,
            "grid_auto_flow": null,
            "grid_area": null,
            "grid_template_columns": null,
            "flex": null,
            "_model_name": "LayoutModel",
            "justify_items": null,
            "grid_row": null,
            "max_height": null,
            "align_content": null,
            "visibility": null,
            "align_self": null,
            "height": null,
            "min_height": null,
            "padding": null,
            "grid_auto_rows": null,
            "grid_gap": null,
            "max_width": null,
            "order": null,
            "_view_module_version": "1.2.0",
            "grid_template_areas": null,
            "object_position": null,
            "object_fit": null,
            "grid_auto_columns": null,
            "margin": null,
            "display": null,
            "left": null
          }
        },
        "9ef7f50a9e2d43178bf282487344e9ae": {
          "model_module": "@jupyter-widgets/controls",
          "model_name": "HBoxModel",
          "state": {
            "_view_name": "HBoxView",
            "_dom_classes": [],
            "_model_name": "HBoxModel",
            "_view_module": "@jupyter-widgets/controls",
            "_model_module_version": "1.5.0",
            "_view_count": null,
            "_view_module_version": "1.5.0",
            "box_style": "",
            "layout": "IPY_MODEL_f3e1904ccd414b6d88a356b279623f36",
            "_model_module": "@jupyter-widgets/controls",
            "children": [
              "IPY_MODEL_af430ae129a849668c418c87dcdec1ee",
              "IPY_MODEL_cedee7b9c3f9446eb9ba69516b12edac"
            ]
          }
        },
        "f3e1904ccd414b6d88a356b279623f36": {
          "model_module": "@jupyter-widgets/base",
          "model_name": "LayoutModel",
          "state": {
            "_view_name": "LayoutView",
            "grid_template_rows": null,
            "right": null,
            "justify_content": null,
            "_view_module": "@jupyter-widgets/base",
            "overflow": null,
            "_model_module_version": "1.2.0",
            "_view_count": null,
            "flex_flow": null,
            "width": null,
            "min_width": null,
            "border": null,
            "align_items": null,
            "bottom": null,
            "_model_module": "@jupyter-widgets/base",
            "top": null,
            "grid_column": null,
            "overflow_y": null,
            "overflow_x": null,
            "grid_auto_flow": null,
            "grid_area": null,
            "grid_template_columns": null,
            "flex": null,
            "_model_name": "LayoutModel",
            "justify_items": null,
            "grid_row": null,
            "max_height": null,
            "align_content": null,
            "visibility": null,
            "align_self": null,
            "height": null,
            "min_height": null,
            "padding": null,
            "grid_auto_rows": null,
            "grid_gap": null,
            "max_width": null,
            "order": null,
            "_view_module_version": "1.2.0",
            "grid_template_areas": null,
            "object_position": null,
            "object_fit": null,
            "grid_auto_columns": null,
            "margin": null,
            "display": null,
            "left": null
          }
        },
        "af430ae129a849668c418c87dcdec1ee": {
          "model_module": "@jupyter-widgets/controls",
          "model_name": "FloatProgressModel",
          "state": {
            "_view_name": "ProgressView",
            "style": "IPY_MODEL_ced11308dfb843d0a498921147d891c6",
            "_dom_classes": [],
            "description": "",
            "_model_name": "FloatProgressModel",
            "bar_style": "info",
            "max": 1,
            "_view_module": "@jupyter-widgets/controls",
            "_model_module_version": "1.5.0",
            "value": 1,
            "_view_count": null,
            "_view_module_version": "1.5.0",
            "orientation": "horizontal",
            "min": 0,
            "description_tooltip": null,
            "_model_module": "@jupyter-widgets/controls",
            "layout": "IPY_MODEL_efe83e8f08a54d7b82289d85c58de7d4"
          }
        },
        "cedee7b9c3f9446eb9ba69516b12edac": {
          "model_module": "@jupyter-widgets/controls",
          "model_name": "HTMLModel",
          "state": {
            "_view_name": "HTMLView",
            "style": "IPY_MODEL_b11d3395432648e7965ff201d8285241",
            "_dom_classes": [],
            "description": "",
            "_model_name": "HTMLModel",
            "placeholder": "​",
            "_view_module": "@jupyter-widgets/controls",
            "_model_module_version": "1.5.0",
            "value": " 4423680/? [00:17&lt;00:00, 1328509.13it/s]",
            "_view_count": null,
            "_view_module_version": "1.5.0",
            "description_tooltip": null,
            "_model_module": "@jupyter-widgets/controls",
            "layout": "IPY_MODEL_39b31e1d27894a48ae2e66b8857a5bfb"
          }
        },
        "ced11308dfb843d0a498921147d891c6": {
          "model_module": "@jupyter-widgets/controls",
          "model_name": "ProgressStyleModel",
          "state": {
            "_view_name": "StyleView",
            "_model_name": "ProgressStyleModel",
            "description_width": "initial",
            "_view_module": "@jupyter-widgets/base",
            "_model_module_version": "1.5.0",
            "_view_count": null,
            "_view_module_version": "1.2.0",
            "bar_color": null,
            "_model_module": "@jupyter-widgets/controls"
          }
        },
        "efe83e8f08a54d7b82289d85c58de7d4": {
          "model_module": "@jupyter-widgets/base",
          "model_name": "LayoutModel",
          "state": {
            "_view_name": "LayoutView",
            "grid_template_rows": null,
            "right": null,
            "justify_content": null,
            "_view_module": "@jupyter-widgets/base",
            "overflow": null,
            "_model_module_version": "1.2.0",
            "_view_count": null,
            "flex_flow": null,
            "width": null,
            "min_width": null,
            "border": null,
            "align_items": null,
            "bottom": null,
            "_model_module": "@jupyter-widgets/base",
            "top": null,
            "grid_column": null,
            "overflow_y": null,
            "overflow_x": null,
            "grid_auto_flow": null,
            "grid_area": null,
            "grid_template_columns": null,
            "flex": null,
            "_model_name": "LayoutModel",
            "justify_items": null,
            "grid_row": null,
            "max_height": null,
            "align_content": null,
            "visibility": null,
            "align_self": null,
            "height": null,
            "min_height": null,
            "padding": null,
            "grid_auto_rows": null,
            "grid_gap": null,
            "max_width": null,
            "order": null,
            "_view_module_version": "1.2.0",
            "grid_template_areas": null,
            "object_position": null,
            "object_fit": null,
            "grid_auto_columns": null,
            "margin": null,
            "display": null,
            "left": null
          }
        },
        "b11d3395432648e7965ff201d8285241": {
          "model_module": "@jupyter-widgets/controls",
          "model_name": "DescriptionStyleModel",
          "state": {
            "_view_name": "StyleView",
            "_model_name": "DescriptionStyleModel",
            "description_width": "",
            "_view_module": "@jupyter-widgets/base",
            "_model_module_version": "1.5.0",
            "_view_count": null,
            "_view_module_version": "1.2.0",
            "_model_module": "@jupyter-widgets/controls"
          }
        },
        "39b31e1d27894a48ae2e66b8857a5bfb": {
          "model_module": "@jupyter-widgets/base",
          "model_name": "LayoutModel",
          "state": {
            "_view_name": "LayoutView",
            "grid_template_rows": null,
            "right": null,
            "justify_content": null,
            "_view_module": "@jupyter-widgets/base",
            "overflow": null,
            "_model_module_version": "1.2.0",
            "_view_count": null,
            "flex_flow": null,
            "width": null,
            "min_width": null,
            "border": null,
            "align_items": null,
            "bottom": null,
            "_model_module": "@jupyter-widgets/base",
            "top": null,
            "grid_column": null,
            "overflow_y": null,
            "overflow_x": null,
            "grid_auto_flow": null,
            "grid_area": null,
            "grid_template_columns": null,
            "flex": null,
            "_model_name": "LayoutModel",
            "justify_items": null,
            "grid_row": null,
            "max_height": null,
            "align_content": null,
            "visibility": null,
            "align_self": null,
            "height": null,
            "min_height": null,
            "padding": null,
            "grid_auto_rows": null,
            "grid_gap": null,
            "max_width": null,
            "order": null,
            "_view_module_version": "1.2.0",
            "grid_template_areas": null,
            "object_position": null,
            "object_fit": null,
            "grid_auto_columns": null,
            "margin": null,
            "display": null,
            "left": null
          }
        },
        "e9cafc25cd75470bbadb152172ee612a": {
          "model_module": "@jupyter-widgets/controls",
          "model_name": "HBoxModel",
          "state": {
            "_view_name": "HBoxView",
            "_dom_classes": [],
            "_model_name": "HBoxModel",
            "_view_module": "@jupyter-widgets/controls",
            "_model_module_version": "1.5.0",
            "_view_count": null,
            "_view_module_version": "1.5.0",
            "box_style": "",
            "layout": "IPY_MODEL_f690efe029ca482cbf056eb83b47614f",
            "_model_module": "@jupyter-widgets/controls",
            "children": [
              "IPY_MODEL_84f5f81ee32742a9a514e7ac6a7d4364",
              "IPY_MODEL_8ef0250084954c3dad936fb4caaba70f"
            ]
          }
        },
        "f690efe029ca482cbf056eb83b47614f": {
          "model_module": "@jupyter-widgets/base",
          "model_name": "LayoutModel",
          "state": {
            "_view_name": "LayoutView",
            "grid_template_rows": null,
            "right": null,
            "justify_content": null,
            "_view_module": "@jupyter-widgets/base",
            "overflow": null,
            "_model_module_version": "1.2.0",
            "_view_count": null,
            "flex_flow": null,
            "width": null,
            "min_width": null,
            "border": null,
            "align_items": null,
            "bottom": null,
            "_model_module": "@jupyter-widgets/base",
            "top": null,
            "grid_column": null,
            "overflow_y": null,
            "overflow_x": null,
            "grid_auto_flow": null,
            "grid_area": null,
            "grid_template_columns": null,
            "flex": null,
            "_model_name": "LayoutModel",
            "justify_items": null,
            "grid_row": null,
            "max_height": null,
            "align_content": null,
            "visibility": null,
            "align_self": null,
            "height": null,
            "min_height": null,
            "padding": null,
            "grid_auto_rows": null,
            "grid_gap": null,
            "max_width": null,
            "order": null,
            "_view_module_version": "1.2.0",
            "grid_template_areas": null,
            "object_position": null,
            "object_fit": null,
            "grid_auto_columns": null,
            "margin": null,
            "display": null,
            "left": null
          }
        },
        "84f5f81ee32742a9a514e7ac6a7d4364": {
          "model_module": "@jupyter-widgets/controls",
          "model_name": "FloatProgressModel",
          "state": {
            "_view_name": "ProgressView",
            "style": "IPY_MODEL_b45546029cda466983f32186963157aa",
            "_dom_classes": [],
            "description": "  0%",
            "_model_name": "FloatProgressModel",
            "bar_style": "info",
            "max": 1,
            "_view_module": "@jupyter-widgets/controls",
            "_model_module_version": "1.5.0",
            "value": 0,
            "_view_count": null,
            "_view_module_version": "1.5.0",
            "orientation": "horizontal",
            "min": 0,
            "description_tooltip": null,
            "_model_module": "@jupyter-widgets/controls",
            "layout": "IPY_MODEL_3925ed6f28c44705bea49b30e76f5d59"
          }
        },
        "8ef0250084954c3dad936fb4caaba70f": {
          "model_module": "@jupyter-widgets/controls",
          "model_name": "HTMLModel",
          "state": {
            "_view_name": "HTMLView",
            "style": "IPY_MODEL_b48ebb8f5bb14b7086227088b53494eb",
            "_dom_classes": [],
            "description": "",
            "_model_name": "HTMLModel",
            "placeholder": "​",
            "_view_module": "@jupyter-widgets/controls",
            "_model_module_version": "1.5.0",
            "value": " 0/5148 [00:00&lt;?, ?it/s]",
            "_view_count": null,
            "_view_module_version": "1.5.0",
            "description_tooltip": null,
            "_model_module": "@jupyter-widgets/controls",
            "layout": "IPY_MODEL_0de24f4046e24f5c8132237f0db369b5"
          }
        },
        "b45546029cda466983f32186963157aa": {
          "model_module": "@jupyter-widgets/controls",
          "model_name": "ProgressStyleModel",
          "state": {
            "_view_name": "StyleView",
            "_model_name": "ProgressStyleModel",
            "description_width": "initial",
            "_view_module": "@jupyter-widgets/base",
            "_model_module_version": "1.5.0",
            "_view_count": null,
            "_view_module_version": "1.2.0",
            "bar_color": null,
            "_model_module": "@jupyter-widgets/controls"
          }
        },
        "3925ed6f28c44705bea49b30e76f5d59": {
          "model_module": "@jupyter-widgets/base",
          "model_name": "LayoutModel",
          "state": {
            "_view_name": "LayoutView",
            "grid_template_rows": null,
            "right": null,
            "justify_content": null,
            "_view_module": "@jupyter-widgets/base",
            "overflow": null,
            "_model_module_version": "1.2.0",
            "_view_count": null,
            "flex_flow": null,
            "width": null,
            "min_width": null,
            "border": null,
            "align_items": null,
            "bottom": null,
            "_model_module": "@jupyter-widgets/base",
            "top": null,
            "grid_column": null,
            "overflow_y": null,
            "overflow_x": null,
            "grid_auto_flow": null,
            "grid_area": null,
            "grid_template_columns": null,
            "flex": null,
            "_model_name": "LayoutModel",
            "justify_items": null,
            "grid_row": null,
            "max_height": null,
            "align_content": null,
            "visibility": null,
            "align_self": null,
            "height": null,
            "min_height": null,
            "padding": null,
            "grid_auto_rows": null,
            "grid_gap": null,
            "max_width": null,
            "order": null,
            "_view_module_version": "1.2.0",
            "grid_template_areas": null,
            "object_position": null,
            "object_fit": null,
            "grid_auto_columns": null,
            "margin": null,
            "display": null,
            "left": null
          }
        },
        "b48ebb8f5bb14b7086227088b53494eb": {
          "model_module": "@jupyter-widgets/controls",
          "model_name": "DescriptionStyleModel",
          "state": {
            "_view_name": "StyleView",
            "_model_name": "DescriptionStyleModel",
            "description_width": "",
            "_view_module": "@jupyter-widgets/base",
            "_model_module_version": "1.5.0",
            "_view_count": null,
            "_view_module_version": "1.2.0",
            "_model_module": "@jupyter-widgets/controls"
          }
        },
        "0de24f4046e24f5c8132237f0db369b5": {
          "model_module": "@jupyter-widgets/base",
          "model_name": "LayoutModel",
          "state": {
            "_view_name": "LayoutView",
            "grid_template_rows": null,
            "right": null,
            "justify_content": null,
            "_view_module": "@jupyter-widgets/base",
            "overflow": null,
            "_model_module_version": "1.2.0",
            "_view_count": null,
            "flex_flow": null,
            "width": null,
            "min_width": null,
            "border": null,
            "align_items": null,
            "bottom": null,
            "_model_module": "@jupyter-widgets/base",
            "top": null,
            "grid_column": null,
            "overflow_y": null,
            "overflow_x": null,
            "grid_auto_flow": null,
            "grid_area": null,
            "grid_template_columns": null,
            "flex": null,
            "_model_name": "LayoutModel",
            "justify_items": null,
            "grid_row": null,
            "max_height": null,
            "align_content": null,
            "visibility": null,
            "align_self": null,
            "height": null,
            "min_height": null,
            "padding": null,
            "grid_auto_rows": null,
            "grid_gap": null,
            "max_width": null,
            "order": null,
            "_view_module_version": "1.2.0",
            "grid_template_areas": null,
            "object_position": null,
            "object_fit": null,
            "grid_auto_columns": null,
            "margin": null,
            "display": null,
            "left": null
          }
        }
      }
    }
  },
  "cells": [
    {
      "cell_type": "markdown",
      "metadata": {
        "id": "view-in-github",
        "colab_type": "text"
      },
      "source": [
        "<a href=\"https://colab.research.google.com/github/Matrixmax/Dive_into_DeepLearning/blob/main/0x04_%E5%9B%BE%E5%83%8F%E5%88%86%E7%B1%BB%E6%95%B0%E6%8D%AE%E9%9B%86.ipynb\" target=\"_parent\"><img src=\"https://colab.research.google.com/assets/colab-badge.svg\" alt=\"Open In Colab\"/></a>"
      ]
    },
    {
      "cell_type": "markdown",
      "metadata": {
        "id": "62k-OF5qDhq2"
      },
      "source": [
        "softmax回归跟线性回归一样将输入特征与权重做线性叠加。与线性回归的一个主要不同在于，softmax回归的输出值个数等于标签里的类别数。因为一共有4种特征和3种输出动物类别，所以权重包含12个标量（带下标的ww）、偏差包含3个标量（带下标的bb），且对每个输入计算o1,o2,o3 这3个输出：\r\n",
        "![image.png](data:image/png;base64,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)"
      ]
    },
    {
      "cell_type": "markdown",
      "metadata": {
        "id": "_rdCkSwUEeQX"
      },
      "source": [
        "![image.png](data:image/png;base64,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)"
      ]
    },
    {
      "cell_type": "markdown",
      "metadata": {
        "id": "fZ99k-ceMKes"
      },
      "source": [
        "## 0.图像分类数据集"
      ]
    },
    {
      "cell_type": "code",
      "metadata": {
        "id": "2mCigO4cDKYU"
      },
      "source": [
        "import torch\r\n",
        "import torchvision\r\n",
        "import torchvision.transforms as transforms\r\n",
        "import matplotlib.pyplot as plt\r\n",
        "import time\r\n",
        "import sys\r\n",
        "from IPython import display\r\n",
        "%matplotlib inline"
      ],
      "execution_count": 1,
      "outputs": []
    },
    {
      "cell_type": "markdown",
      "metadata": {
        "id": "bV4zDFgBNEMj"
      },
      "source": [
        "下面，我们通过torchvision的torchvision.datasets来下载这个数据集。第一次调用时会自动从网上获取数据。我们通过参数train来指定获取训练数据集或测试数据集（testing data set）。测试数据集也叫测试集（testing set），只用来评价模型的表现，并不用来训练模型。\r\n",
        "\r\n",
        "另外我们还指定了参数transform = transforms.ToTensor()使所有数据转换为Tensor，如果不进行转换则返回的是PIL图片。transforms.ToTensor()将尺寸为 (H x W x C) 且数据位于[0, 255]的PIL图片或者数据类型为np.uint8的NumPy数组转换为尺寸为(C x H x W)且数据类型为torch.float32且位于[0.0, 1.0]的Tensor。"
      ]
    },
    {
      "cell_type": "code",
      "metadata": {
        "colab": {
          "base_uri": "https://localhost:8080/",
          "height": 392,
          "referenced_widgets": [
            "b72f78050ea84331a7037ff87d6f01e9",
            "6ae8c83e1c2b4cdebf871650bbebe9dc",
            "7babd2406c104f61a92e8c3f6f84b2dc",
            "c73167ea5df948838854c531a019a433",
            "c7e7afd859ee4ad5bb308f901db49291",
            "9db462daf84241d4b13513abad31bd5d",
            "b122fa32ba76498ca84311a2fb2b54f8",
            "a34d06d3771c4360b6c8969cb79195c0",
            "0ec6484fedd24d6687ae5c70e640766b",
            "47bad650e51246b08f6e9a5e84cb8006",
            "e13f591cdfd148fdbdfd6f0b3d08f06d",
            "0c0971577e304fb69bcdb01b3980198e",
            "889c763bb2fb4ff0be1471302155acd0",
            "bcc3975266974c18bf6a1b5cbfc72554",
            "eccae6d17c1e4e18b8d9a2e9da511ad4",
            "0ab06ab7148948b1b5dc2eba65d2f9f7",
            "9ef7f50a9e2d43178bf282487344e9ae",
            "f3e1904ccd414b6d88a356b279623f36",
            "af430ae129a849668c418c87dcdec1ee",
            "cedee7b9c3f9446eb9ba69516b12edac",
            "ced11308dfb843d0a498921147d891c6",
            "efe83e8f08a54d7b82289d85c58de7d4",
            "b11d3395432648e7965ff201d8285241",
            "39b31e1d27894a48ae2e66b8857a5bfb",
            "e9cafc25cd75470bbadb152172ee612a",
            "f690efe029ca482cbf056eb83b47614f",
            "84f5f81ee32742a9a514e7ac6a7d4364",
            "8ef0250084954c3dad936fb4caaba70f",
            "b45546029cda466983f32186963157aa",
            "3925ed6f28c44705bea49b30e76f5d59",
            "b48ebb8f5bb14b7086227088b53494eb",
            "0de24f4046e24f5c8132237f0db369b5"
          ]
        },
        "id": "lSyuj5XqM-Ij",
        "outputId": "34b94d2c-c625-4e39-cec1-805cf5bf9847"
      },
      "source": [
        "mnist_train = torchvision.datasets.FashionMNIST(root='~/Datasets/FashionMNIST', train=True, download=True, transform=transforms.ToTensor())\r\n",
        "mnist_test = torchvision.datasets.FashionMNIST(root='~/Datasets/FashionMNIST', train=False, download=True, transform=transforms.ToTensor())\r\n"
      ],
      "execution_count": 2,
      "outputs": [
        {
          "output_type": "stream",
          "text": [
            "Downloading http://fashion-mnist.s3-website.eu-central-1.amazonaws.com/train-images-idx3-ubyte.gz to /root/Datasets/FashionMNIST/FashionMNIST/raw/train-images-idx3-ubyte.gz\n"
          ],
          "name": "stdout"
        },
        {
          "output_type": "display_data",
          "data": {
            "application/vnd.jupyter.widget-view+json": {
              "model_id": "b72f78050ea84331a7037ff87d6f01e9",
              "version_minor": 0,
              "version_major": 2
            },
            "text/plain": [
              "HBox(children=(FloatProgress(value=1.0, bar_style='info', max=1.0), HTML(value='')))"
            ]
          },
          "metadata": {
            "tags": []
          }
        },
        {
          "output_type": "stream",
          "text": [
            "Extracting /root/Datasets/FashionMNIST/FashionMNIST/raw/train-images-idx3-ubyte.gz to /root/Datasets/FashionMNIST/FashionMNIST/raw\n",
            "Downloading http://fashion-mnist.s3-website.eu-central-1.amazonaws.com/train-labels-idx1-ubyte.gz to /root/Datasets/FashionMNIST/FashionMNIST/raw/train-labels-idx1-ubyte.gz\n"
          ],
          "name": "stdout"
        },
        {
          "output_type": "display_data",
          "data": {
            "application/vnd.jupyter.widget-view+json": {
              "model_id": "0ec6484fedd24d6687ae5c70e640766b",
              "version_minor": 0,
              "version_major": 2
            },
            "text/plain": [
              "HBox(children=(FloatProgress(value=1.0, bar_style='info', max=1.0), HTML(value='')))"
            ]
          },
          "metadata": {
            "tags": []
          }
        },
        {
          "output_type": "stream",
          "text": [
            "Extracting /root/Datasets/FashionMNIST/FashionMNIST/raw/train-labels-idx1-ubyte.gz to /root/Datasets/FashionMNIST/FashionMNIST/raw\n",
            "Downloading http://fashion-mnist.s3-website.eu-central-1.amazonaws.com/t10k-images-idx3-ubyte.gz to /root/Datasets/FashionMNIST/FashionMNIST/raw/t10k-images-idx3-ubyte.gz\n",
            "\n"
          ],
          "name": "stdout"
        },
        {
          "output_type": "display_data",
          "data": {
            "application/vnd.jupyter.widget-view+json": {
              "model_id": "9ef7f50a9e2d43178bf282487344e9ae",
              "version_minor": 0,
              "version_major": 2
            },
            "text/plain": [
              "HBox(children=(FloatProgress(value=1.0, bar_style='info', max=1.0), HTML(value='')))"
            ]
          },
          "metadata": {
            "tags": []
          }
        },
        {
          "output_type": "stream",
          "text": [
            "Extracting /root/Datasets/FashionMNIST/FashionMNIST/raw/t10k-images-idx3-ubyte.gz to /root/Datasets/FashionMNIST/FashionMNIST/raw\n",
            "Downloading http://fashion-mnist.s3-website.eu-central-1.amazonaws.com/t10k-labels-idx1-ubyte.gz to /root/Datasets/FashionMNIST/FashionMNIST/raw/t10k-labels-idx1-ubyte.gz\n"
          ],
          "name": "stdout"
        },
        {
          "output_type": "display_data",
          "data": {
            "application/vnd.jupyter.widget-view+json": {
              "model_id": "e9cafc25cd75470bbadb152172ee612a",
              "version_minor": 0,
              "version_major": 2
            },
            "text/plain": [
              "HBox(children=(FloatProgress(value=1.0, bar_style='info', max=1.0), HTML(value='')))"
            ]
          },
          "metadata": {
            "tags": []
          }
        },
        {
          "output_type": "stream",
          "text": [
            "Extracting /root/Datasets/FashionMNIST/FashionMNIST/raw/t10k-labels-idx1-ubyte.gz to /root/Datasets/FashionMNIST/FashionMNIST/raw\n",
            "Processing...\n"
          ],
          "name": "stdout"
        },
        {
          "output_type": "stream",
          "text": [
            "/usr/local/lib/python3.6/dist-packages/torchvision/datasets/mnist.py:480: UserWarning: The given NumPy array is not writeable, and PyTorch does not support non-writeable tensors. This means you can write to the underlying (supposedly non-writeable) NumPy array using the tensor. You may want to copy the array to protect its data or make it writeable before converting it to a tensor. This type of warning will be suppressed for the rest of this program. (Triggered internally at  /pytorch/torch/csrc/utils/tensor_numpy.cpp:141.)\n",
            "  return torch.from_numpy(parsed.astype(m[2], copy=False)).view(*s)\n"
          ],
          "name": "stderr"
        },
        {
          "output_type": "stream",
          "text": [
            "Done!\n"
          ],
          "name": "stdout"
        }
      ]
    },
    {
      "cell_type": "code",
      "metadata": {
        "colab": {
          "base_uri": "https://localhost:8080/"
        },
        "id": "r7Xlq2cANtV4",
        "outputId": "2c3473f4-a4c9-443b-ec00-b47b9c346851"
      },
      "source": [
        "print(type(mnist_train))\r\n",
        "print(len(mnist_train),len(mnist_test))"
      ],
      "execution_count": 3,
      "outputs": [
        {
          "output_type": "stream",
          "text": [
            "torchvision.datasets.mnist.FashionMNIST\n",
            "60000 10000\n"
          ],
          "name": "stdout"
        }
      ]
    },
    {
      "cell_type": "code",
      "metadata": {
        "id": "Q8kbogY0N3sm",
        "colab": {
          "base_uri": "https://localhost:8080/"
        },
        "outputId": "74eaed64-e4f5-41ff-cea7-f1d9700f85f2"
      },
      "source": [
        "feature, label = mnist_train[0]\r\n",
        "print(feature.shape, label)  # Channel x Height x Width\r\n"
      ],
      "execution_count": 4,
      "outputs": [
        {
          "output_type": "stream",
          "text": [
            "torch.Size([1, 28, 28]) 9\n"
          ],
          "name": "stdout"
        }
      ]
    },
    {
      "cell_type": "markdown",
      "metadata": {
        "id": "R1xc_EKtzh36"
      },
      "source": [
        "变量feature对应高和宽均为28像素的图像。由于我们使用了transforms.ToTensor()，所以每个像素的数值为[0.0, 1.0]的32位浮点数。需要注意的是，feature的尺寸是 (C x H x W) 的，而不是 (H x W x C)。第一维是通道数，因为数据集中是灰度图像，所以通道数为1。后面两维分别是图像的高和宽。\r\n",
        "\r\n",
        "Fashion-MNIST中一共包括了10个类别，分别为t-shirt（T恤）、trouser（裤子）、pullover（套衫）、dress（连衣裙）、coat（外套）、sandal（凉鞋）、shirt（衬衫）、sneaker（运动鞋）、bag（包）和ankle boot（短靴）。以下函数可以将数值标签转成相应的文本标签"
      ]
    },
    {
      "cell_type": "code",
      "metadata": {
        "id": "NLl0YEqFzi3w"
      },
      "source": [
        "def get_fashion_mnist_labels(labels):\r\n",
        "    text_labels = ['t-shirt', 'trouser', 'pullover', 'dress', 'coat',\r\n",
        "                   'sandal', 'shirt', 'sneaker', 'bag', 'ankle boot']\r\n",
        "    return [text_labels[int(i)] for i in labels]"
      ],
      "execution_count": 5,
      "outputs": []
    },
    {
      "cell_type": "markdown",
      "metadata": {
        "id": "i4fRFv-d0N0F"
      },
      "source": [
        "下面定义一个可以在一行里画出多张图像和对应标签的函数。"
      ]
    },
    {
      "cell_type": "code",
      "metadata": {
        "id": "aZkCYMlS0aKq"
      },
      "source": [
        "def use_svg_display():\r\n",
        "    # 用矢量图显示\r\n",
        "    display.set_matplotlib_formats('svg')\r\n",
        "\r\n",
        "def set_figsize(figsize=(3.5, 2.5)):\r\n",
        "    use_svg_display()\r\n",
        "    # 设置图的尺寸\r\n",
        "    plt.rcParams['figure.figsize'] = figsize\r\n",
        "\r\n",
        "# # 在../d2lzh_pytorch里面添加上面两个函数后就可以这样导入\r\n",
        "# import sys\r\n",
        "# sys.path.append(\"..\")\r\n",
        "# from d2lzh_pytorch import * \r\n",
        "\r\n",
        "set_figsize()\r\n"
      ],
      "execution_count": 6,
      "outputs": []
    },
    {
      "cell_type": "code",
      "metadata": {
        "id": "rAVDS-Os0MXf"
      },
      "source": [
        "\r\n",
        "def show_fashion_mnist(images, labels):\r\n",
        "    use_svg_display()\r\n",
        "    # 这里的_表示我们忽略（不使用）的变量\r\n",
        "    _, figs = plt.subplots(1, len(images), figsize=(12, 12))\r\n",
        "    for f, img, lbl in zip(figs, images, labels):\r\n",
        "        f.imshow(img.view((28, 28)).numpy())\r\n",
        "        f.set_title(lbl)\r\n",
        "        f.axes.get_xaxis().set_visible(False)\r\n",
        "        f.axes.get_yaxis().set_visible(False)\r\n",
        "    plt.show()\r\n"
      ],
      "execution_count": 7,
      "outputs": []
    },
    {
      "cell_type": "code",
      "metadata": {
        "colab": {
          "base_uri": "https://localhost:8080/",
          "height": 159
        },
        "id": "28WLHNm-1Qzv",
        "outputId": "70cfe4e5-3ef1-49d4-886a-714b71a8fcd1"
      },
      "source": [
        "X,y = [],[]\r\n",
        "for i in range(10):\r\n",
        "    X.append(mnist_train[i][0])\r\n",
        "    y.append(mnist_train[i][1])\r\n",
        "show_fashion_mnist(X,get_fashion_mnist_labels(y))"
      ],
      "execution_count": 8,
      "outputs": [
        {
          "output_type": "display_data",
          "data": {
            "text/plain": [
              "<Figure size 864x864 with 10 Axes>"
            ],
            "image/svg+xml": "<?xml version=\"1.0\" encoding=\"utf-8\" standalone=\"no\"?>\n<!DOCTYPE svg PUBLIC \"-//W3C//DTD SVG 1.1//EN\"\n  \"http://www.w3.org/Graphics/SVG/1.1/DTD/svg11.dtd\">\n<!-- Created with matplotlib (https://matplotlib.org/) -->\n<svg height=\"89.763888pt\" version=\"1.1\" viewBox=\"0 0 687.5 89.763888\" width=\"687.5pt\" xmlns=\"http://www.w3.org/2000/svg\" xmlns:xlink=\"http://www.w3.org/1999/xlink\">\n <defs>\n  <style type=\"text/css\">\n*{stroke-linecap:butt;stroke-linejoin:round;}\n  </style>\n </defs>\n <g id=\"figure_1\">\n  <g id=\"patch_1\">\n   <path d=\"M 0 89.763888 \nL 687.5 89.763888 \nL 687.5 -0 \nL 0 -0 \nz\n\" style=\"fill:none;\"/>\n  </g>\n  <g id=\"axes_1\">\n   <g id=\"patch_2\">\n    <path d=\"M 10.7 79.063888 \nL 67.445763 79.063888 \nL 67.445763 22.318125 \nL 10.7 22.318125 \nz\n\" style=\"fill:#ffffff;\"/>\n   </g>\n   <g clip-path=\"url(#p6a3e3bad69)\">\n    <image height=\"57\" id=\"imagec7975fa0ac\" transform=\"scale(1 -1)translate(0 -57)\" width=\"57\" x=\"10.7\" xlink:href=\"data:image/png;base64,\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\" y=\"-22.063888\"/>\n   </g>\n   <g id=\"patch_3\">\n    <path d=\"M 10.7 79.063888 \nL 10.7 22.318125 \n\" style=\"fill:none;stroke:#000000;stroke-linecap:square;stroke-linejoin:miter;stroke-width:0.8;\"/>\n   </g>\n   <g id=\"patch_4\">\n    <path d=\"M 67.445763 79.063888 \nL 67.445763 22.318125 \n\" style=\"fill:none;stroke:#000000;stroke-linecap:square;stroke-linejoin:miter;stroke-width:0.8;\"/>\n   </g>\n   <g id=\"patch_5\">\n    <path d=\"M 10.7 79.063888 \nL 67.445763 79.063888 \n\" style=\"fill:none;stroke:#000000;stroke-linecap:square;stroke-linejoin:miter;stroke-width:0.8;\"/>\n   </g>\n   <g id=\"patch_6\">\n    <path d=\"M 10.7 22.318125 \nL 67.445763 22.318125 \n\" style=\"fill:none;stroke:#000000;stroke-linecap:square;stroke-linejoin:miter;stroke-width:0.8;\"/>\n   </g>\n   <g id=\"text_1\">\n    <!-- ankle boot -->\n    <defs>\n     <path d=\"M 34.28125 27.484375 \nQ 23.390625 27.484375 19.1875 25 \nQ 14.984375 22.515625 14.984375 16.5 \nQ 14.984375 11.71875 18.140625 8.90625 \nQ 21.296875 6.109375 26.703125 6.109375 \nQ 34.1875 6.109375 38.703125 11.40625 \nQ 43.21875 16.703125 43.21875 25.484375 \nL 43.21875 27.484375 \nz\nM 52.203125 31.203125 \nL 52.203125 0 \nL 43.21875 0 \nL 43.21875 8.296875 \nQ 40.140625 3.328125 35.546875 0.953125 \nQ 30.953125 -1.421875 24.3125 -1.421875 \nQ 15.921875 -1.421875 10.953125 3.296875 \nQ 6 8.015625 6 15.921875 \nQ 6 25.140625 12.171875 29.828125 \nQ 18.359375 34.515625 30.609375 34.515625 \nL 43.21875 34.515625 \nL 43.21875 35.40625 \nQ 43.21875 41.609375 39.140625 45 \nQ 35.0625 48.390625 27.6875 48.390625 \nQ 23 48.390625 18.546875 47.265625 \nQ 14.109375 46.140625 10.015625 43.890625 \nL 10.015625 52.203125 \nQ 14.9375 54.109375 19.578125 55.046875 \nQ 24.21875 56 28.609375 56 \nQ 40.484375 56 46.34375 49.84375 \nQ 52.203125 43.703125 52.203125 31.203125 \nz\n\" id=\"DejaVuSans-97\"/>\n     <path d=\"M 54.890625 33.015625 \nL 54.890625 0 \nL 45.90625 0 \nL 45.90625 32.71875 \nQ 45.90625 40.484375 42.875 44.328125 \nQ 39.84375 48.1875 33.796875 48.1875 \nQ 26.515625 48.1875 22.3125 43.546875 \nQ 18.109375 38.921875 18.109375 30.90625 \nL 18.109375 0 \nL 9.078125 0 \nL 9.078125 54.6875 \nL 18.109375 54.6875 \nL 18.109375 46.1875 \nQ 21.34375 51.125 25.703125 53.5625 \nQ 30.078125 56 35.796875 56 \nQ 45.21875 56 50.046875 50.171875 \nQ 54.890625 44.34375 54.890625 33.015625 \nz\n\" id=\"DejaVuSans-110\"/>\n     <path d=\"M 9.078125 75.984375 \nL 18.109375 75.984375 \nL 18.109375 31.109375 \nL 44.921875 54.6875 \nL 56.390625 54.6875 \nL 27.390625 29.109375 \nL 57.625 0 \nL 45.90625 0 \nL 18.109375 26.703125 \nL 18.109375 0 \nL 9.078125 0 \nz\n\" id=\"DejaVuSans-107\"/>\n     <path d=\"M 9.421875 75.984375 \nL 18.40625 75.984375 \nL 18.40625 0 \nL 9.421875 0 \nz\n\" id=\"DejaVuSans-108\"/>\n     <path d=\"M 56.203125 29.59375 \nL 56.203125 25.203125 \nL 14.890625 25.203125 \nQ 15.484375 15.921875 20.484375 11.0625 \nQ 25.484375 6.203125 34.421875 6.203125 \nQ 39.59375 6.203125 44.453125 7.46875 \nQ 49.3125 8.734375 54.109375 11.28125 \nL 54.109375 2.78125 \nQ 49.265625 0.734375 44.1875 -0.34375 \nQ 39.109375 -1.421875 33.890625 -1.421875 \nQ 20.796875 -1.421875 13.15625 6.1875 \nQ 5.515625 13.8125 5.515625 26.8125 \nQ 5.515625 40.234375 12.765625 48.109375 \nQ 20.015625 56 32.328125 56 \nQ 43.359375 56 49.78125 48.890625 \nQ 56.203125 41.796875 56.203125 29.59375 \nz\nM 47.21875 32.234375 \nQ 47.125 39.59375 43.09375 43.984375 \nQ 39.0625 48.390625 32.421875 48.390625 \nQ 24.90625 48.390625 20.390625 44.140625 \nQ 15.875 39.890625 15.1875 32.171875 \nz\n\" id=\"DejaVuSans-101\"/>\n     <path id=\"DejaVuSans-32\"/>\n     <path d=\"M 48.6875 27.296875 \nQ 48.6875 37.203125 44.609375 42.84375 \nQ 40.53125 48.484375 33.40625 48.484375 \nQ 26.265625 48.484375 22.1875 42.84375 \nQ 18.109375 37.203125 18.109375 27.296875 \nQ 18.109375 17.390625 22.1875 11.75 \nQ 26.265625 6.109375 33.40625 6.109375 \nQ 40.53125 6.109375 44.609375 11.75 \nQ 48.6875 17.390625 48.6875 27.296875 \nz\nM 18.109375 46.390625 \nQ 20.953125 51.265625 25.265625 53.625 \nQ 29.59375 56 35.59375 56 \nQ 45.5625 56 51.78125 48.09375 \nQ 58.015625 40.1875 58.015625 27.296875 \nQ 58.015625 14.40625 51.78125 6.484375 \nQ 45.5625 -1.421875 35.59375 -1.421875 \nQ 29.59375 -1.421875 25.265625 0.953125 \nQ 20.953125 3.328125 18.109375 8.203125 \nL 18.109375 0 \nL 9.078125 0 \nL 9.078125 75.984375 \nL 18.109375 75.984375 \nz\n\" id=\"DejaVuSans-98\"/>\n     <path d=\"M 30.609375 48.390625 \nQ 23.390625 48.390625 19.1875 42.75 \nQ 14.984375 37.109375 14.984375 27.296875 \nQ 14.984375 17.484375 19.15625 11.84375 \nQ 23.34375 6.203125 30.609375 6.203125 \nQ 37.796875 6.203125 41.984375 11.859375 \nQ 46.1875 17.53125 46.1875 27.296875 \nQ 46.1875 37.015625 41.984375 42.703125 \nQ 37.796875 48.390625 30.609375 48.390625 \nz\nM 30.609375 56 \nQ 42.328125 56 49.015625 48.375 \nQ 55.71875 40.765625 55.71875 27.296875 \nQ 55.71875 13.875 49.015625 6.21875 \nQ 42.328125 -1.421875 30.609375 -1.421875 \nQ 18.84375 -1.421875 12.171875 6.21875 \nQ 5.515625 13.875 5.515625 27.296875 \nQ 5.515625 40.765625 12.171875 48.375 \nQ 18.84375 56 30.609375 56 \nz\n\" id=\"DejaVuSans-111\"/>\n     <path d=\"M 18.3125 70.21875 \nL 18.3125 54.6875 \nL 36.8125 54.6875 \nL 36.8125 47.703125 \nL 18.3125 47.703125 \nL 18.3125 18.015625 \nQ 18.3125 11.328125 20.140625 9.421875 \nQ 21.96875 7.515625 27.59375 7.515625 \nL 36.8125 7.515625 \nL 36.8125 0 \nL 27.59375 0 \nQ 17.1875 0 13.234375 3.875 \nQ 9.28125 7.765625 9.28125 18.015625 \nL 9.28125 47.703125 \nL 2.6875 47.703125 \nL 2.6875 54.6875 \nL 9.28125 54.6875 \nL 9.28125 70.21875 \nz\n\" id=\"DejaVuSans-116\"/>\n    </defs>\n    <g transform=\"translate(7.349756 16.318125)scale(0.12 -0.12)\">\n     <use xlink:href=\"#DejaVuSans-97\"/>\n     <use x=\"61.279297\" xlink:href=\"#DejaVuSans-110\"/>\n     <use x=\"124.658203\" xlink:href=\"#DejaVuSans-107\"/>\n     <use x=\"182.568359\" xlink:href=\"#DejaVuSans-108\"/>\n     <use x=\"210.351562\" xlink:href=\"#DejaVuSans-101\"/>\n     <use x=\"271.875\" xlink:href=\"#DejaVuSans-32\"/>\n     <use x=\"303.662109\" xlink:href=\"#DejaVuSans-98\"/>\n     <use x=\"367.138672\" xlink:href=\"#DejaVuSans-111\"/>\n     <use x=\"428.320312\" xlink:href=\"#DejaVuSans-111\"/>\n     <use x=\"489.501953\" xlink:href=\"#DejaVuSans-116\"/>\n    </g>\n   </g>\n  </g>\n  <g id=\"axes_2\">\n   <g id=\"patch_7\">\n    <path d=\"M 78.794915 79.063888 \nL 135.540678 79.063888 \nL 135.540678 22.318125 \nL 78.794915 22.318125 \nz\n\" style=\"fill:#ffffff;\"/>\n   </g>\n   <g clip-path=\"url(#p283f766a18)\">\n    <image height=\"57\" id=\"imageb7de5d080a\" transform=\"scale(1 -1)translate(0 -57)\" width=\"57\" x=\"78.794915\" xlink:href=\"data:image/png;base64,\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\" y=\"-22.063888\"/>\n   </g>\n   <g id=\"patch_8\">\n    <path d=\"M 78.794915 79.063888 \nL 78.794915 22.318125 \n\" style=\"fill:none;stroke:#000000;stroke-linecap:square;stroke-linejoin:miter;stroke-width:0.8;\"/>\n   </g>\n   <g id=\"patch_9\">\n    <path d=\"M 135.540678 79.063888 \nL 135.540678 22.318125 \n\" style=\"fill:none;stroke:#000000;stroke-linecap:square;stroke-linejoin:miter;stroke-width:0.8;\"/>\n   </g>\n   <g id=\"patch_10\">\n    <path d=\"M 78.794915 79.063888 \nL 135.540678 79.063888 \n\" style=\"fill:none;stroke:#000000;stroke-linecap:square;stroke-linejoin:miter;stroke-width:0.8;\"/>\n   </g>\n   <g id=\"patch_11\">\n    <path d=\"M 78.794915 22.318125 \nL 135.540678 22.318125 \n\" style=\"fill:none;stroke:#000000;stroke-linecap:square;stroke-linejoin:miter;stroke-width:0.8;\"/>\n   </g>\n   <g id=\"text_2\">\n    <!-- t-shirt -->\n    <defs>\n     <path d=\"M 4.890625 31.390625 \nL 31.203125 31.390625 \nL 31.203125 23.390625 \nL 4.890625 23.390625 \nz\n\" id=\"DejaVuSans-45\"/>\n     <path d=\"M 44.28125 53.078125 \nL 44.28125 44.578125 \nQ 40.484375 46.53125 36.375 47.5 \nQ 32.28125 48.484375 27.875 48.484375 \nQ 21.1875 48.484375 17.84375 46.4375 \nQ 14.5 44.390625 14.5 40.28125 \nQ 14.5 37.15625 16.890625 35.375 \nQ 19.28125 33.59375 26.515625 31.984375 \nL 29.59375 31.296875 \nQ 39.15625 29.25 43.1875 25.515625 \nQ 47.21875 21.78125 47.21875 15.09375 \nQ 47.21875 7.46875 41.1875 3.015625 \nQ 35.15625 -1.421875 24.609375 -1.421875 \nQ 20.21875 -1.421875 15.453125 -0.5625 \nQ 10.6875 0.296875 5.421875 2 \nL 5.421875 11.28125 \nQ 10.40625 8.6875 15.234375 7.390625 \nQ 20.0625 6.109375 24.8125 6.109375 \nQ 31.15625 6.109375 34.5625 8.28125 \nQ 37.984375 10.453125 37.984375 14.40625 \nQ 37.984375 18.0625 35.515625 20.015625 \nQ 33.0625 21.96875 24.703125 23.78125 \nL 21.578125 24.515625 \nQ 13.234375 26.265625 9.515625 29.90625 \nQ 5.8125 33.546875 5.8125 39.890625 \nQ 5.8125 47.609375 11.28125 51.796875 \nQ 16.75 56 26.8125 56 \nQ 31.78125 56 36.171875 55.265625 \nQ 40.578125 54.546875 44.28125 53.078125 \nz\n\" id=\"DejaVuSans-115\"/>\n     <path d=\"M 54.890625 33.015625 \nL 54.890625 0 \nL 45.90625 0 \nL 45.90625 32.71875 \nQ 45.90625 40.484375 42.875 44.328125 \nQ 39.84375 48.1875 33.796875 48.1875 \nQ 26.515625 48.1875 22.3125 43.546875 \nQ 18.109375 38.921875 18.109375 30.90625 \nL 18.109375 0 \nL 9.078125 0 \nL 9.078125 75.984375 \nL 18.109375 75.984375 \nL 18.109375 46.1875 \nQ 21.34375 51.125 25.703125 53.5625 \nQ 30.078125 56 35.796875 56 \nQ 45.21875 56 50.046875 50.171875 \nQ 54.890625 44.34375 54.890625 33.015625 \nz\n\" id=\"DejaVuSans-104\"/>\n     <path d=\"M 9.421875 54.6875 \nL 18.40625 54.6875 \nL 18.40625 0 \nL 9.421875 0 \nz\nM 9.421875 75.984375 \nL 18.40625 75.984375 \nL 18.40625 64.59375 \nL 9.421875 64.59375 \nz\n\" id=\"DejaVuSans-105\"/>\n     <path d=\"M 41.109375 46.296875 \nQ 39.59375 47.171875 37.8125 47.578125 \nQ 36.03125 48 33.890625 48 \nQ 26.265625 48 22.1875 43.046875 \nQ 18.109375 38.09375 18.109375 28.8125 \nL 18.109375 0 \nL 9.078125 0 \nL 9.078125 54.6875 \nL 18.109375 54.6875 \nL 18.109375 46.1875 \nQ 20.953125 51.171875 25.484375 53.578125 \nQ 30.03125 56 36.53125 56 \nQ 37.453125 56 38.578125 55.875 \nQ 39.703125 55.765625 41.0625 55.515625 \nz\n\" id=\"DejaVuSans-114\"/>\n    </defs>\n    <g transform=\"translate(89.237172 16.318125)scale(0.12 -0.12)\">\n     <use xlink:href=\"#DejaVuSans-116\"/>\n     <use x=\"39.208984\" xlink:href=\"#DejaVuSans-45\"/>\n     <use x=\"75.292969\" xlink:href=\"#DejaVuSans-115\"/>\n     <use x=\"127.392578\" xlink:href=\"#DejaVuSans-104\"/>\n     <use x=\"190.771484\" xlink:href=\"#DejaVuSans-105\"/>\n     <use x=\"218.554688\" xlink:href=\"#DejaVuSans-114\"/>\n     <use x=\"259.667969\" xlink:href=\"#DejaVuSans-116\"/>\n    </g>\n   </g>\n  </g>\n  <g id=\"axes_3\">\n   <g id=\"patch_12\">\n    <path d=\"M 146.889831 79.063888 \nL 203.635593 79.063888 \nL 203.635593 22.318125 \nL 146.889831 22.318125 \nz\n\" style=\"fill:#ffffff;\"/>\n   </g>\n   <g clip-path=\"url(#pd0e3c9dee6)\">\n    <image height=\"57\" id=\"image88ad46281a\" transform=\"scale(1 -1)translate(0 -57)\" width=\"57\" x=\"146.889831\" xlink:href=\"data:image/png;base64,\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\" y=\"-22.063888\"/>\n   </g>\n   <g id=\"patch_13\">\n    <path d=\"M 146.889831 79.063888 \nL 146.889831 22.318125 \n\" style=\"fill:none;stroke:#000000;stroke-linecap:square;stroke-linejoin:miter;stroke-width:0.8;\"/>\n   </g>\n   <g id=\"patch_14\">\n    <path d=\"M 203.635593 79.063888 \nL 203.635593 22.318125 \n\" style=\"fill:none;stroke:#000000;stroke-linecap:square;stroke-linejoin:miter;stroke-width:0.8;\"/>\n   </g>\n   <g id=\"patch_15\">\n    <path d=\"M 146.889831 79.063888 \nL 203.635593 79.063888 \n\" style=\"fill:none;stroke:#000000;stroke-linecap:square;stroke-linejoin:miter;stroke-width:0.8;\"/>\n   </g>\n   <g id=\"patch_16\">\n    <path d=\"M 146.889831 22.318125 \nL 203.635593 22.318125 \n\" style=\"fill:none;stroke:#000000;stroke-linecap:square;stroke-linejoin:miter;stroke-width:0.8;\"/>\n   </g>\n   <g id=\"text_3\">\n    <!-- t-shirt -->\n    <g transform=\"translate(157.332087 16.318125)scale(0.12 -0.12)\">\n     <use xlink:href=\"#DejaVuSans-116\"/>\n     <use x=\"39.208984\" xlink:href=\"#DejaVuSans-45\"/>\n     <use x=\"75.292969\" xlink:href=\"#DejaVuSans-115\"/>\n     <use x=\"127.392578\" xlink:href=\"#DejaVuSans-104\"/>\n     <use x=\"190.771484\" xlink:href=\"#DejaVuSans-105\"/>\n     <use x=\"218.554688\" xlink:href=\"#DejaVuSans-114\"/>\n     <use x=\"259.667969\" xlink:href=\"#DejaVuSans-116\"/>\n    </g>\n   </g>\n  </g>\n  <g id=\"axes_4\">\n   <g id=\"patch_17\">\n    <path d=\"M 214.984746 79.063888 \nL 271.730508 79.063888 \nL 271.730508 22.318125 \nL 214.984746 22.318125 \nz\n\" style=\"fill:#ffffff;\"/>\n   </g>\n   <g clip-path=\"url(#p488aa611aa)\">\n    <image height=\"57\" id=\"imagec92e983aa1\" transform=\"scale(1 -1)translate(0 -57)\" width=\"57\" x=\"214.984746\" xlink:href=\"data:image/png;base64,\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\" y=\"-22.063888\"/>\n   </g>\n   <g id=\"patch_18\">\n    <path d=\"M 214.984746 79.063888 \nL 214.984746 22.318125 \n\" style=\"fill:none;stroke:#000000;stroke-linecap:square;stroke-linejoin:miter;stroke-width:0.8;\"/>\n   </g>\n   <g id=\"patch_19\">\n    <path d=\"M 271.730508 79.063888 \nL 271.730508 22.318125 \n\" style=\"fill:none;stroke:#000000;stroke-linecap:square;stroke-linejoin:miter;stroke-width:0.8;\"/>\n   </g>\n   <g id=\"patch_20\">\n    <path d=\"M 214.984746 79.063888 \nL 271.730508 79.063888 \n\" style=\"fill:none;stroke:#000000;stroke-linecap:square;stroke-linejoin:miter;stroke-width:0.8;\"/>\n   </g>\n   <g id=\"patch_21\">\n    <path d=\"M 214.984746 22.318125 \nL 271.730508 22.318125 \n\" style=\"fill:none;stroke:#000000;stroke-linecap:square;stroke-linejoin:miter;stroke-width:0.8;\"/>\n   </g>\n   <g id=\"text_4\">\n    <!-- dress -->\n    <defs>\n     <path d=\"M 45.40625 46.390625 \nL 45.40625 75.984375 \nL 54.390625 75.984375 \nL 54.390625 0 \nL 45.40625 0 \nL 45.40625 8.203125 \nQ 42.578125 3.328125 38.25 0.953125 \nQ 33.9375 -1.421875 27.875 -1.421875 \nQ 17.96875 -1.421875 11.734375 6.484375 \nQ 5.515625 14.40625 5.515625 27.296875 \nQ 5.515625 40.1875 11.734375 48.09375 \nQ 17.96875 56 27.875 56 \nQ 33.9375 56 38.25 53.625 \nQ 42.578125 51.265625 45.40625 46.390625 \nz\nM 14.796875 27.296875 \nQ 14.796875 17.390625 18.875 11.75 \nQ 22.953125 6.109375 30.078125 6.109375 \nQ 37.203125 6.109375 41.296875 11.75 \nQ 45.40625 17.390625 45.40625 27.296875 \nQ 45.40625 37.203125 41.296875 42.84375 \nQ 37.203125 48.484375 30.078125 48.484375 \nQ 22.953125 48.484375 18.875 42.84375 \nQ 14.796875 37.203125 14.796875 27.296875 \nz\n\" id=\"DejaVuSans-100\"/>\n    </defs>\n    <g transform=\"translate(227.273877 16.318125)scale(0.12 -0.12)\">\n     <use xlink:href=\"#DejaVuSans-100\"/>\n     <use x=\"63.476562\" xlink:href=\"#DejaVuSans-114\"/>\n     <use x=\"102.339844\" xlink:href=\"#DejaVuSans-101\"/>\n     <use x=\"163.863281\" xlink:href=\"#DejaVuSans-115\"/>\n     <use x=\"215.962891\" xlink:href=\"#DejaVuSans-115\"/>\n    </g>\n   </g>\n  </g>\n  <g id=\"axes_5\">\n   <g id=\"patch_22\">\n    <path d=\"M 283.079661 79.063888 \nL 339.825424 79.063888 \nL 339.825424 22.318125 \nL 283.079661 22.318125 \nz\n\" style=\"fill:#ffffff;\"/>\n   </g>\n   <g clip-path=\"url(#p0ed1652867)\">\n    <image height=\"57\" id=\"imagef5384e59cd\" transform=\"scale(1 -1)translate(0 -57)\" width=\"57\" x=\"283.079661\" xlink:href=\"data:image/png;base64,\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\" y=\"-22.063888\"/>\n   </g>\n   <g id=\"patch_23\">\n    <path d=\"M 283.079661 79.063888 \nL 283.079661 22.318125 \n\" style=\"fill:none;stroke:#000000;stroke-linecap:square;stroke-linejoin:miter;stroke-width:0.8;\"/>\n   </g>\n   <g id=\"patch_24\">\n    <path d=\"M 339.825424 79.063888 \nL 339.825424 22.318125 \n\" style=\"fill:none;stroke:#000000;stroke-linecap:square;stroke-linejoin:miter;stroke-width:0.8;\"/>\n   </g>\n   <g id=\"patch_25\">\n    <path d=\"M 283.079661 79.063888 \nL 339.825424 79.063888 \n\" style=\"fill:none;stroke:#000000;stroke-linecap:square;stroke-linejoin:miter;stroke-width:0.8;\"/>\n   </g>\n   <g id=\"patch_26\">\n    <path d=\"M 283.079661 22.318125 \nL 339.825424 22.318125 \n\" style=\"fill:none;stroke:#000000;stroke-linecap:square;stroke-linejoin:miter;stroke-width:0.8;\"/>\n   </g>\n   <g id=\"text_5\">\n    <!-- t-shirt -->\n    <g transform=\"translate(293.521917 16.318125)scale(0.12 -0.12)\">\n     <use xlink:href=\"#DejaVuSans-116\"/>\n     <use x=\"39.208984\" xlink:href=\"#DejaVuSans-45\"/>\n     <use x=\"75.292969\" xlink:href=\"#DejaVuSans-115\"/>\n     <use x=\"127.392578\" xlink:href=\"#DejaVuSans-104\"/>\n     <use x=\"190.771484\" xlink:href=\"#DejaVuSans-105\"/>\n     <use x=\"218.554688\" xlink:href=\"#DejaVuSans-114\"/>\n     <use x=\"259.667969\" xlink:href=\"#DejaVuSans-116\"/>\n    </g>\n   </g>\n  </g>\n  <g id=\"axes_6\">\n   <g id=\"patch_27\">\n    <path d=\"M 351.174576 79.063888 \nL 407.920339 79.063888 \nL 407.920339 22.318125 \nL 351.174576 22.318125 \nz\n\" style=\"fill:#ffffff;\"/>\n   </g>\n   <g clip-path=\"url(#p0952ce1a13)\">\n    <image height=\"57\" id=\"image5ba345c06b\" transform=\"scale(1 -1)translate(0 -57)\" width=\"57\" x=\"351.174576\" xlink:href=\"data:image/png;base64,\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\" y=\"-22.063888\"/>\n   </g>\n   <g id=\"patch_28\">\n    <path d=\"M 351.174576 79.063888 \nL 351.174576 22.318125 \n\" style=\"fill:none;stroke:#000000;stroke-linecap:square;stroke-linejoin:miter;stroke-width:0.8;\"/>\n   </g>\n   <g id=\"patch_29\">\n    <path d=\"M 407.920339 79.063888 \nL 407.920339 22.318125 \n\" style=\"fill:none;stroke:#000000;stroke-linecap:square;stroke-linejoin:miter;stroke-width:0.8;\"/>\n   </g>\n   <g id=\"patch_30\">\n    <path d=\"M 351.174576 79.063888 \nL 407.920339 79.063888 \n\" style=\"fill:none;stroke:#000000;stroke-linecap:square;stroke-linejoin:miter;stroke-width:0.8;\"/>\n   </g>\n   <g id=\"patch_31\">\n    <path d=\"M 351.174576 22.318125 \nL 407.920339 22.318125 \n\" style=\"fill:none;stroke:#000000;stroke-linecap:square;stroke-linejoin:miter;stroke-width:0.8;\"/>\n   </g>\n   <g id=\"text_6\">\n    <!-- pullover -->\n    <defs>\n     <path d=\"M 18.109375 8.203125 \nL 18.109375 -20.796875 \nL 9.078125 -20.796875 \nL 9.078125 54.6875 \nL 18.109375 54.6875 \nL 18.109375 46.390625 \nQ 20.953125 51.265625 25.265625 53.625 \nQ 29.59375 56 35.59375 56 \nQ 45.5625 56 51.78125 48.09375 \nQ 58.015625 40.1875 58.015625 27.296875 \nQ 58.015625 14.40625 51.78125 6.484375 \nQ 45.5625 -1.421875 35.59375 -1.421875 \nQ 29.59375 -1.421875 25.265625 0.953125 \nQ 20.953125 3.328125 18.109375 8.203125 \nz\nM 48.6875 27.296875 \nQ 48.6875 37.203125 44.609375 42.84375 \nQ 40.53125 48.484375 33.40625 48.484375 \nQ 26.265625 48.484375 22.1875 42.84375 \nQ 18.109375 37.203125 18.109375 27.296875 \nQ 18.109375 17.390625 22.1875 11.75 \nQ 26.265625 6.109375 33.40625 6.109375 \nQ 40.53125 6.109375 44.609375 11.75 \nQ 48.6875 17.390625 48.6875 27.296875 \nz\n\" id=\"DejaVuSans-112\"/>\n     <path d=\"M 8.5 21.578125 \nL 8.5 54.6875 \nL 17.484375 54.6875 \nL 17.484375 21.921875 \nQ 17.484375 14.15625 20.5 10.265625 \nQ 23.53125 6.390625 29.59375 6.390625 \nQ 36.859375 6.390625 41.078125 11.03125 \nQ 45.3125 15.671875 45.3125 23.6875 \nL 45.3125 54.6875 \nL 54.296875 54.6875 \nL 54.296875 0 \nL 45.3125 0 \nL 45.3125 8.40625 \nQ 42.046875 3.421875 37.71875 1 \nQ 33.40625 -1.421875 27.6875 -1.421875 \nQ 18.265625 -1.421875 13.375 4.4375 \nQ 8.5 10.296875 8.5 21.578125 \nz\nM 31.109375 56 \nz\n\" id=\"DejaVuSans-117\"/>\n     <path d=\"M 2.984375 54.6875 \nL 12.5 54.6875 \nL 29.59375 8.796875 \nL 46.6875 54.6875 \nL 56.203125 54.6875 \nL 35.6875 0 \nL 23.484375 0 \nz\n\" id=\"DejaVuSans-118\"/>\n    </defs>\n    <g transform=\"translate(355.221208 16.318125)scale(0.12 -0.12)\">\n     <use xlink:href=\"#DejaVuSans-112\"/>\n     <use x=\"63.476562\" xlink:href=\"#DejaVuSans-117\"/>\n     <use x=\"126.855469\" xlink:href=\"#DejaVuSans-108\"/>\n     <use x=\"154.638672\" xlink:href=\"#DejaVuSans-108\"/>\n     <use x=\"182.421875\" xlink:href=\"#DejaVuSans-111\"/>\n     <use x=\"243.603516\" xlink:href=\"#DejaVuSans-118\"/>\n     <use x=\"302.783203\" xlink:href=\"#DejaVuSans-101\"/>\n     <use x=\"364.306641\" xlink:href=\"#DejaVuSans-114\"/>\n    </g>\n   </g>\n  </g>\n  <g id=\"axes_7\">\n   <g id=\"patch_32\">\n    <path d=\"M 419.269492 79.063888 \nL 476.015254 79.063888 \nL 476.015254 22.318125 \nL 419.269492 22.318125 \nz\n\" style=\"fill:#ffffff;\"/>\n   </g>\n   <g clip-path=\"url(#p3f65a3b792)\">\n    <image height=\"57\" id=\"imagea9b7bce8a8\" transform=\"scale(1 -1)translate(0 -57)\" width=\"57\" x=\"419.269492\" xlink:href=\"data:image/png;base64,\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\" y=\"-22.063888\"/>\n   </g>\n   <g id=\"patch_33\">\n    <path d=\"M 419.269492 79.063888 \nL 419.269492 22.318125 \n\" style=\"fill:none;stroke:#000000;stroke-linecap:square;stroke-linejoin:miter;stroke-width:0.8;\"/>\n   </g>\n   <g id=\"patch_34\">\n    <path d=\"M 476.015254 79.063888 \nL 476.015254 22.318125 \n\" style=\"fill:none;stroke:#000000;stroke-linecap:square;stroke-linejoin:miter;stroke-width:0.8;\"/>\n   </g>\n   <g id=\"patch_35\">\n    <path d=\"M 419.269492 79.063888 \nL 476.015254 79.063888 \n\" style=\"fill:none;stroke:#000000;stroke-linecap:square;stroke-linejoin:miter;stroke-width:0.8;\"/>\n   </g>\n   <g id=\"patch_36\">\n    <path d=\"M 419.269492 22.318125 \nL 476.015254 22.318125 \n\" style=\"fill:none;stroke:#000000;stroke-linecap:square;stroke-linejoin:miter;stroke-width:0.8;\"/>\n   </g>\n   <g id=\"text_7\">\n    <!-- sneaker -->\n    <g transform=\"translate(423.930185 16.318125)scale(0.12 -0.12)\">\n     <use xlink:href=\"#DejaVuSans-115\"/>\n     <use x=\"52.099609\" xlink:href=\"#DejaVuSans-110\"/>\n     <use x=\"115.478516\" xlink:href=\"#DejaVuSans-101\"/>\n     <use x=\"177.001953\" xlink:href=\"#DejaVuSans-97\"/>\n     <use x=\"238.28125\" xlink:href=\"#DejaVuSans-107\"/>\n     <use x=\"292.566406\" xlink:href=\"#DejaVuSans-101\"/>\n     <use x=\"354.089844\" xlink:href=\"#DejaVuSans-114\"/>\n    </g>\n   </g>\n  </g>\n  <g id=\"axes_8\">\n   <g id=\"patch_37\">\n    <path d=\"M 487.364407 79.063888 \nL 544.110169 79.063888 \nL 544.110169 22.318125 \nL 487.364407 22.318125 \nz\n\" style=\"fill:#ffffff;\"/>\n   </g>\n   <g clip-path=\"url(#pd71af78bf1)\">\n    <image height=\"57\" id=\"image7a7f0aecc5\" transform=\"scale(1 -1)translate(0 -57)\" width=\"57\" x=\"487.364407\" xlink:href=\"data:image/png;base64,\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\" y=\"-22.063888\"/>\n   </g>\n   <g id=\"patch_38\">\n    <path d=\"M 487.364407 79.063888 \nL 487.364407 22.318125 \n\" style=\"fill:none;stroke:#000000;stroke-linecap:square;stroke-linejoin:miter;stroke-width:0.8;\"/>\n   </g>\n   <g id=\"patch_39\">\n    <path d=\"M 544.110169 79.063888 \nL 544.110169 22.318125 \n\" style=\"fill:none;stroke:#000000;stroke-linecap:square;stroke-linejoin:miter;stroke-width:0.8;\"/>\n   </g>\n   <g id=\"patch_40\">\n    <path d=\"M 487.364407 79.063888 \nL 544.110169 79.063888 \n\" style=\"fill:none;stroke:#000000;stroke-linecap:square;stroke-linejoin:miter;stroke-width:0.8;\"/>\n   </g>\n   <g id=\"patch_41\">\n    <path d=\"M 487.364407 22.318125 \nL 544.110169 22.318125 \n\" style=\"fill:none;stroke:#000000;stroke-linecap:square;stroke-linejoin:miter;stroke-width:0.8;\"/>\n   </g>\n   <g id=\"text_8\">\n    <!-- pullover -->\n    <g transform=\"translate(491.411038 16.318125)scale(0.12 -0.12)\">\n     <use xlink:href=\"#DejaVuSans-112\"/>\n     <use x=\"63.476562\" xlink:href=\"#DejaVuSans-117\"/>\n     <use x=\"126.855469\" xlink:href=\"#DejaVuSans-108\"/>\n     <use x=\"154.638672\" xlink:href=\"#DejaVuSans-108\"/>\n     <use x=\"182.421875\" xlink:href=\"#DejaVuSans-111\"/>\n     <use x=\"243.603516\" xlink:href=\"#DejaVuSans-118\"/>\n     <use x=\"302.783203\" xlink:href=\"#DejaVuSans-101\"/>\n     <use x=\"364.306641\" xlink:href=\"#DejaVuSans-114\"/>\n    </g>\n   </g>\n  </g>\n  <g id=\"axes_9\">\n   <g id=\"patch_42\">\n    <path d=\"M 555.459322 79.063888 \nL 612.205085 79.063888 \nL 612.205085 22.318125 \nL 555.459322 22.318125 \nz\n\" style=\"fill:#ffffff;\"/>\n   </g>\n   <g clip-path=\"url(#p484d6eda79)\">\n    <image height=\"57\" id=\"imagea596fa200d\" transform=\"scale(1 -1)translate(0 -57)\" width=\"57\" x=\"555.459322\" xlink:href=\"data:image/png;base64,\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\" y=\"-22.063888\"/>\n   </g>\n   <g id=\"patch_43\">\n    <path d=\"M 555.459322 79.063888 \nL 555.459322 22.318125 \n\" style=\"fill:none;stroke:#000000;stroke-linecap:square;stroke-linejoin:miter;stroke-width:0.8;\"/>\n   </g>\n   <g id=\"patch_44\">\n    <path d=\"M 612.205085 79.063888 \nL 612.205085 22.318125 \n\" style=\"fill:none;stroke:#000000;stroke-linecap:square;stroke-linejoin:miter;stroke-width:0.8;\"/>\n   </g>\n   <g id=\"patch_45\">\n    <path d=\"M 555.459322 79.063888 \nL 612.205085 79.063888 \n\" style=\"fill:none;stroke:#000000;stroke-linecap:square;stroke-linejoin:miter;stroke-width:0.8;\"/>\n   </g>\n   <g id=\"patch_46\">\n    <path d=\"M 555.459322 22.318125 \nL 612.205085 22.318125 \n\" style=\"fill:none;stroke:#000000;stroke-linecap:square;stroke-linejoin:miter;stroke-width:0.8;\"/>\n   </g>\n   <g id=\"text_9\">\n    <!-- sandal -->\n    <g transform=\"translate(564.074391 16.318125)scale(0.12 -0.12)\">\n     <use xlink:href=\"#DejaVuSans-115\"/>\n     <use x=\"52.099609\" xlink:href=\"#DejaVuSans-97\"/>\n     <use x=\"113.378906\" xlink:href=\"#DejaVuSans-110\"/>\n     <use x=\"176.757812\" xlink:href=\"#DejaVuSans-100\"/>\n     <use x=\"240.234375\" xlink:href=\"#DejaVuSans-97\"/>\n     <use x=\"301.513672\" xlink:href=\"#DejaVuSans-108\"/>\n    </g>\n   </g>\n  </g>\n  <g id=\"axes_10\">\n   <g id=\"patch_47\">\n    <path d=\"M 623.554237 79.063888 \nL 680.3 79.063888 \nL 680.3 22.318125 \nL 623.554237 22.318125 \nz\n\" style=\"fill:#ffffff;\"/>\n   </g>\n   <g clip-path=\"url(#p6a2000baef)\">\n    <image height=\"57\" id=\"imagee7cb9d84a7\" transform=\"scale(1 -1)translate(0 -57)\" width=\"57\" x=\"623.554237\" xlink:href=\"data:image/png;base64,\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\" y=\"-22.063888\"/>\n   </g>\n   <g id=\"patch_48\">\n    <path d=\"M 623.554237 79.063888 \nL 623.554237 22.318125 \n\" style=\"fill:none;stroke:#000000;stroke-linecap:square;stroke-linejoin:miter;stroke-width:0.8;\"/>\n   </g>\n   <g id=\"patch_49\">\n    <path d=\"M 680.3 79.063888 \nL 680.3 22.318125 \n\" style=\"fill:none;stroke:#000000;stroke-linecap:square;stroke-linejoin:miter;stroke-width:0.8;\"/>\n   </g>\n   <g id=\"patch_50\">\n    <path d=\"M 623.554237 79.063888 \nL 680.3 79.063888 \n\" style=\"fill:none;stroke:#000000;stroke-linecap:square;stroke-linejoin:miter;stroke-width:0.8;\"/>\n   </g>\n   <g id=\"patch_51\">\n    <path d=\"M 623.554237 22.318125 \nL 680.3 22.318125 \n\" style=\"fill:none;stroke:#000000;stroke-linecap:square;stroke-linejoin:miter;stroke-width:0.8;\"/>\n   </g>\n   <g id=\"text_10\">\n    <!-- sandal -->\n    <g transform=\"translate(632.169306 16.318125)scale(0.12 -0.12)\">\n     <use xlink:href=\"#DejaVuSans-115\"/>\n     <use x=\"52.099609\" xlink:href=\"#DejaVuSans-97\"/>\n     <use x=\"113.378906\" xlink:href=\"#DejaVuSans-110\"/>\n     <use x=\"176.757812\" xlink:href=\"#DejaVuSans-100\"/>\n     <use x=\"240.234375\" xlink:href=\"#DejaVuSans-97\"/>\n     <use x=\"301.513672\" xlink:href=\"#DejaVuSans-108\"/>\n    </g>\n   </g>\n  </g>\n </g>\n <defs>\n  <clipPath id=\"p6a3e3bad69\">\n   <rect height=\"56.745763\" width=\"56.745763\" x=\"10.7\" y=\"22.318125\"/>\n  </clipPath>\n  <clipPath id=\"p283f766a18\">\n   <rect height=\"56.745763\" width=\"56.745763\" x=\"78.794915\" y=\"22.318125\"/>\n  </clipPath>\n  <clipPath id=\"pd0e3c9dee6\">\n   <rect height=\"56.745763\" width=\"56.745763\" x=\"146.889831\" y=\"22.318125\"/>\n  </clipPath>\n  <clipPath id=\"p488aa611aa\">\n   <rect height=\"56.745763\" width=\"56.745763\" x=\"214.984746\" y=\"22.318125\"/>\n  </clipPath>\n  <clipPath id=\"p0ed1652867\">\n   <rect height=\"56.745763\" width=\"56.745763\" x=\"283.079661\" y=\"22.318125\"/>\n  </clipPath>\n  <clipPath id=\"p0952ce1a13\">\n   <rect height=\"56.745763\" width=\"56.745763\" x=\"351.174576\" y=\"22.318125\"/>\n  </clipPath>\n  <clipPath id=\"p3f65a3b792\">\n   <rect height=\"56.745763\" width=\"56.745763\" x=\"419.269492\" y=\"22.318125\"/>\n  </clipPath>\n  <clipPath id=\"pd71af78bf1\">\n   <rect height=\"56.745763\" width=\"56.745763\" x=\"487.364407\" y=\"22.318125\"/>\n  </clipPath>\n  <clipPath id=\"p484d6eda79\">\n   <rect height=\"56.745763\" width=\"56.745763\" x=\"555.459322\" y=\"22.318125\"/>\n  </clipPath>\n  <clipPath id=\"p6a2000baef\">\n   <rect height=\"56.745763\" width=\"56.745763\" x=\"623.554237\" y=\"22.318125\"/>\n  </clipPath>\n </defs>\n</svg>\n"
          },
          "metadata": {
            "tags": [],
            "needs_background": "light"
          }
        }
      ]
    },
    {
      "cell_type": "markdown",
      "metadata": {
        "id": "aIiq6KBa15MZ"
      },
      "source": [
        "读取小批量"
      ]
    },
    {
      "cell_type": "code",
      "metadata": {
        "id": "ZbBRWEb_2AfB"
      },
      "source": [
        "batch_size = 256\r\n",
        "if sys.platform.startswith('win'):\r\n",
        "    num_workers = 0 # 0表示不用额外的进程来加速读取数据\r\n",
        "else:\r\n",
        "    num_workers = 4\r\n",
        "train_iter = torch.utils.data.DataLoader(mnist_train,batch_size=batch_size,shuffle=True,num_workers=num_workers)\r\n",
        "test_iter = torch.utils.data.DataLoader(mnist_train,batch_size=batch_size,shuffle=False,num_workers=num_workers)"
      ],
      "execution_count": 13,
      "outputs": []
    },
    {
      "cell_type": "markdown",
      "metadata": {
        "id": "GaXRgtNyyPtA"
      },
      "source": [
        "最后我们查看读取一遍训练数据需要的时间。"
      ]
    },
    {
      "cell_type": "code",
      "metadata": {
        "colab": {
          "base_uri": "https://localhost:8080/"
        },
        "id": "zXhIfNmyyOag",
        "outputId": "3e3e75c8-278d-4a41-8e5f-232aa2669a2d"
      },
      "source": [
        "start = time.time()\r\n",
        "for X,y in train_iter:\r\n",
        "    continue\r\n",
        "print('%.2f sec' % (time.time() - start))"
      ],
      "execution_count": 15,
      "outputs": [
        {
          "output_type": "stream",
          "text": [
            "4.61 sec\n"
          ],
          "name": "stdout"
        }
      ]
    },
    {
      "cell_type": "markdown",
      "metadata": {
        "id": "gkiN6SCLydB8"
      },
      "source": [
        "## 小结\r\n",
        "Fashion-MNIST是一个10类服饰分类数据集，之后章节里将使用它来检验不同算法的表现。\r\n",
        "我们将高和宽分别为hh和ww像素的图像的形状记为h×wh×w或(h，w)。"
      ]
    }
  ]
}