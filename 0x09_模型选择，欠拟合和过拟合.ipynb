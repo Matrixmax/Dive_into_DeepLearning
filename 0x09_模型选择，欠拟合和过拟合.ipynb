{
  "nbformat": 4,
  "nbformat_minor": 0,
  "metadata": {
    "colab": {
      "name": "0x09_模型选择，欠拟合和过拟合.ipynb",
      "provenance": [],
      "toc_visible": true,
      "authorship_tag": "ABX9TyOljYD4i88/MAQqwAV35S+P",
      "include_colab_link": true
    },
    "kernelspec": {
      "name": "python3",
      "display_name": "Python 3"
    }
  },
  "cells": [
    {
      "cell_type": "markdown",
      "metadata": {
        "id": "view-in-github",
        "colab_type": "text"
      },
      "source": [
        "<a href=\"https://colab.research.google.com/github/Matrixmax/Dive_into_DeepLearning/blob/main/0x09_%E6%A8%A1%E5%9E%8B%E9%80%89%E6%8B%A9%EF%BC%8C%E6%AC%A0%E6%8B%9F%E5%90%88%E5%92%8C%E8%BF%87%E6%8B%9F%E5%90%88.ipynb\" target=\"_parent\"><img src=\"https://colab.research.google.com/assets/colab-badge.svg\" alt=\"Open In Colab\"/></a>"
      ]
    },
    {
      "cell_type": "markdown",
      "metadata": {
        "id": "Gur_hS-FQ3Pz"
      },
      "source": [
        "## 1.训练误差和泛化误差"
      ]
    },
    {
      "cell_type": "markdown",
      "metadata": {
        "id": "POYIxbnGRGxk"
      },
      "source": [
        "训练误差：在训练数据集上表现的误差\r\n",
        "泛化误差：在任意一个测试数据样本上表现出的误差的期望，常常通过测试数据集上的误差来近似\r\n",
        "\r\n",
        "\r\n"
      ]
    },
    {
      "cell_type": "markdown",
      "metadata": {
        "id": "iNc2MZlpR3Ty"
      },
      "source": [
        "## 2.模型选择"
      ]
    },
    {
      "cell_type": "markdown",
      "metadata": {
        "id": "97EdlgL0SXHc"
      },
      "source": [
        "模型训练中经常出现的两类典型问题：一类是模型无法得到较低的训练误差，我们将这一现象称作欠拟合（underfitting）；另一类是模型的训练误差远小于它在测试数据集上的误差，我们称该现象为过拟合（overfitting）。\r\n",
        "\r\n"
      ]
    }
  ]
}