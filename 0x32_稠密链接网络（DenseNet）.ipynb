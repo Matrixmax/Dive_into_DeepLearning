{
  "nbformat": 4,
  "nbformat_minor": 0,
  "metadata": {
    "colab": {
      "name": "0x32_稠密链接网络（DenseNet）.ipynb",
      "provenance": [],
      "authorship_tag": "ABX9TyM9TcyEL9O3YnqgMcT6RxdH",
      "include_colab_link": true
    },
    "kernelspec": {
      "name": "python3",
      "display_name": "Python 3"
    },
    "accelerator": "GPU",
    "widgets": {
      "application/vnd.jupyter.widget-state+json": {
        "e89f599d93f24d4f9befa09193937660": {
          "model_module": "@jupyter-widgets/controls",
          "model_name": "HBoxModel",
          "state": {
            "_view_name": "HBoxView",
            "_dom_classes": [],
            "_model_name": "HBoxModel",
            "_view_module": "@jupyter-widgets/controls",
            "_model_module_version": "1.5.0",
            "_view_count": null,
            "_view_module_version": "1.5.0",
            "box_style": "",
            "layout": "IPY_MODEL_9f202d28fb8f40bb960a53860a888ef7",
            "_model_module": "@jupyter-widgets/controls",
            "children": [
              "IPY_MODEL_4bd67f4a977442b08440734c046735f9",
              "IPY_MODEL_8b5fb9d36ea446f3bf2853eb9955752a"
            ]
          }
        },
        "9f202d28fb8f40bb960a53860a888ef7": {
          "model_module": "@jupyter-widgets/base",
          "model_name": "LayoutModel",
          "state": {
            "_view_name": "LayoutView",
            "grid_template_rows": null,
            "right": null,
            "justify_content": null,
            "_view_module": "@jupyter-widgets/base",
            "overflow": null,
            "_model_module_version": "1.2.0",
            "_view_count": null,
            "flex_flow": null,
            "width": null,
            "min_width": null,
            "border": null,
            "align_items": null,
            "bottom": null,
            "_model_module": "@jupyter-widgets/base",
            "top": null,
            "grid_column": null,
            "overflow_y": null,
            "overflow_x": null,
            "grid_auto_flow": null,
            "grid_area": null,
            "grid_template_columns": null,
            "flex": null,
            "_model_name": "LayoutModel",
            "justify_items": null,
            "grid_row": null,
            "max_height": null,
            "align_content": null,
            "visibility": null,
            "align_self": null,
            "height": null,
            "min_height": null,
            "padding": null,
            "grid_auto_rows": null,
            "grid_gap": null,
            "max_width": null,
            "order": null,
            "_view_module_version": "1.2.0",
            "grid_template_areas": null,
            "object_position": null,
            "object_fit": null,
            "grid_auto_columns": null,
            "margin": null,
            "display": null,
            "left": null
          }
        },
        "4bd67f4a977442b08440734c046735f9": {
          "model_module": "@jupyter-widgets/controls",
          "model_name": "FloatProgressModel",
          "state": {
            "_view_name": "ProgressView",
            "style": "IPY_MODEL_8676664c2a9949b79e97df646622c6df",
            "_dom_classes": [],
            "description": "",
            "_model_name": "FloatProgressModel",
            "bar_style": "info",
            "max": 1,
            "_view_module": "@jupyter-widgets/controls",
            "_model_module_version": "1.5.0",
            "value": 1,
            "_view_count": null,
            "_view_module_version": "1.5.0",
            "orientation": "horizontal",
            "min": 0,
            "description_tooltip": null,
            "_model_module": "@jupyter-widgets/controls",
            "layout": "IPY_MODEL_413b4c7ae60449b2b6e2f65a3f56b54b"
          }
        },
        "8b5fb9d36ea446f3bf2853eb9955752a": {
          "model_module": "@jupyter-widgets/controls",
          "model_name": "HTMLModel",
          "state": {
            "_view_name": "HTMLView",
            "style": "IPY_MODEL_ab558f52bb9a4e3d9bb496a4ca696a9b",
            "_dom_classes": [],
            "description": "",
            "_model_name": "HTMLModel",
            "placeholder": "​",
            "_view_module": "@jupyter-widgets/controls",
            "_model_module_version": "1.5.0",
            "value": " 26427392/? [00:19&lt;00:00, 5034561.70it/s]",
            "_view_count": null,
            "_view_module_version": "1.5.0",
            "description_tooltip": null,
            "_model_module": "@jupyter-widgets/controls",
            "layout": "IPY_MODEL_73b749c3eca44d18bffc18ddc2349819"
          }
        },
        "8676664c2a9949b79e97df646622c6df": {
          "model_module": "@jupyter-widgets/controls",
          "model_name": "ProgressStyleModel",
          "state": {
            "_view_name": "StyleView",
            "_model_name": "ProgressStyleModel",
            "description_width": "initial",
            "_view_module": "@jupyter-widgets/base",
            "_model_module_version": "1.5.0",
            "_view_count": null,
            "_view_module_version": "1.2.0",
            "bar_color": null,
            "_model_module": "@jupyter-widgets/controls"
          }
        },
        "413b4c7ae60449b2b6e2f65a3f56b54b": {
          "model_module": "@jupyter-widgets/base",
          "model_name": "LayoutModel",
          "state": {
            "_view_name": "LayoutView",
            "grid_template_rows": null,
            "right": null,
            "justify_content": null,
            "_view_module": "@jupyter-widgets/base",
            "overflow": null,
            "_model_module_version": "1.2.0",
            "_view_count": null,
            "flex_flow": null,
            "width": null,
            "min_width": null,
            "border": null,
            "align_items": null,
            "bottom": null,
            "_model_module": "@jupyter-widgets/base",
            "top": null,
            "grid_column": null,
            "overflow_y": null,
            "overflow_x": null,
            "grid_auto_flow": null,
            "grid_area": null,
            "grid_template_columns": null,
            "flex": null,
            "_model_name": "LayoutModel",
            "justify_items": null,
            "grid_row": null,
            "max_height": null,
            "align_content": null,
            "visibility": null,
            "align_self": null,
            "height": null,
            "min_height": null,
            "padding": null,
            "grid_auto_rows": null,
            "grid_gap": null,
            "max_width": null,
            "order": null,
            "_view_module_version": "1.2.0",
            "grid_template_areas": null,
            "object_position": null,
            "object_fit": null,
            "grid_auto_columns": null,
            "margin": null,
            "display": null,
            "left": null
          }
        },
        "ab558f52bb9a4e3d9bb496a4ca696a9b": {
          "model_module": "@jupyter-widgets/controls",
          "model_name": "DescriptionStyleModel",
          "state": {
            "_view_name": "StyleView",
            "_model_name": "DescriptionStyleModel",
            "description_width": "",
            "_view_module": "@jupyter-widgets/base",
            "_model_module_version": "1.5.0",
            "_view_count": null,
            "_view_module_version": "1.2.0",
            "_model_module": "@jupyter-widgets/controls"
          }
        },
        "73b749c3eca44d18bffc18ddc2349819": {
          "model_module": "@jupyter-widgets/base",
          "model_name": "LayoutModel",
          "state": {
            "_view_name": "LayoutView",
            "grid_template_rows": null,
            "right": null,
            "justify_content": null,
            "_view_module": "@jupyter-widgets/base",
            "overflow": null,
            "_model_module_version": "1.2.0",
            "_view_count": null,
            "flex_flow": null,
            "width": null,
            "min_width": null,
            "border": null,
            "align_items": null,
            "bottom": null,
            "_model_module": "@jupyter-widgets/base",
            "top": null,
            "grid_column": null,
            "overflow_y": null,
            "overflow_x": null,
            "grid_auto_flow": null,
            "grid_area": null,
            "grid_template_columns": null,
            "flex": null,
            "_model_name": "LayoutModel",
            "justify_items": null,
            "grid_row": null,
            "max_height": null,
            "align_content": null,
            "visibility": null,
            "align_self": null,
            "height": null,
            "min_height": null,
            "padding": null,
            "grid_auto_rows": null,
            "grid_gap": null,
            "max_width": null,
            "order": null,
            "_view_module_version": "1.2.0",
            "grid_template_areas": null,
            "object_position": null,
            "object_fit": null,
            "grid_auto_columns": null,
            "margin": null,
            "display": null,
            "left": null
          }
        },
        "8f54e8723f8b4ec1a9f5e35464aa33af": {
          "model_module": "@jupyter-widgets/controls",
          "model_name": "HBoxModel",
          "state": {
            "_view_name": "HBoxView",
            "_dom_classes": [],
            "_model_name": "HBoxModel",
            "_view_module": "@jupyter-widgets/controls",
            "_model_module_version": "1.5.0",
            "_view_count": null,
            "_view_module_version": "1.5.0",
            "box_style": "",
            "layout": "IPY_MODEL_6981890697364e40af03253b5eae243f",
            "_model_module": "@jupyter-widgets/controls",
            "children": [
              "IPY_MODEL_d82a7dd0701a436fb941a698aef08398",
              "IPY_MODEL_f22053de804b400cb4affce2ff3dc377"
            ]
          }
        },
        "6981890697364e40af03253b5eae243f": {
          "model_module": "@jupyter-widgets/base",
          "model_name": "LayoutModel",
          "state": {
            "_view_name": "LayoutView",
            "grid_template_rows": null,
            "right": null,
            "justify_content": null,
            "_view_module": "@jupyter-widgets/base",
            "overflow": null,
            "_model_module_version": "1.2.0",
            "_view_count": null,
            "flex_flow": null,
            "width": null,
            "min_width": null,
            "border": null,
            "align_items": null,
            "bottom": null,
            "_model_module": "@jupyter-widgets/base",
            "top": null,
            "grid_column": null,
            "overflow_y": null,
            "overflow_x": null,
            "grid_auto_flow": null,
            "grid_area": null,
            "grid_template_columns": null,
            "flex": null,
            "_model_name": "LayoutModel",
            "justify_items": null,
            "grid_row": null,
            "max_height": null,
            "align_content": null,
            "visibility": null,
            "align_self": null,
            "height": null,
            "min_height": null,
            "padding": null,
            "grid_auto_rows": null,
            "grid_gap": null,
            "max_width": null,
            "order": null,
            "_view_module_version": "1.2.0",
            "grid_template_areas": null,
            "object_position": null,
            "object_fit": null,
            "grid_auto_columns": null,
            "margin": null,
            "display": null,
            "left": null
          }
        },
        "d82a7dd0701a436fb941a698aef08398": {
          "model_module": "@jupyter-widgets/controls",
          "model_name": "FloatProgressModel",
          "state": {
            "_view_name": "ProgressView",
            "style": "IPY_MODEL_2017e0a5ace84f7887032e2d25b7c774",
            "_dom_classes": [],
            "description": "",
            "_model_name": "FloatProgressModel",
            "bar_style": "success",
            "max": 1,
            "_view_module": "@jupyter-widgets/controls",
            "_model_module_version": "1.5.0",
            "value": 1,
            "_view_count": null,
            "_view_module_version": "1.5.0",
            "orientation": "horizontal",
            "min": 0,
            "description_tooltip": null,
            "_model_module": "@jupyter-widgets/controls",
            "layout": "IPY_MODEL_6f5972eb8c404ef1b892f85952ce4275"
          }
        },
        "f22053de804b400cb4affce2ff3dc377": {
          "model_module": "@jupyter-widgets/controls",
          "model_name": "HTMLModel",
          "state": {
            "_view_name": "HTMLView",
            "style": "IPY_MODEL_e536423e396a419195935d5b784c29b7",
            "_dom_classes": [],
            "description": "",
            "_model_name": "HTMLModel",
            "placeholder": "​",
            "_view_module": "@jupyter-widgets/controls",
            "_model_module_version": "1.5.0",
            "value": " 32768/? [00:00&lt;00:00, 101251.03it/s]",
            "_view_count": null,
            "_view_module_version": "1.5.0",
            "description_tooltip": null,
            "_model_module": "@jupyter-widgets/controls",
            "layout": "IPY_MODEL_0c30cecf1fd34a7e956e40ef120f5de2"
          }
        },
        "2017e0a5ace84f7887032e2d25b7c774": {
          "model_module": "@jupyter-widgets/controls",
          "model_name": "ProgressStyleModel",
          "state": {
            "_view_name": "StyleView",
            "_model_name": "ProgressStyleModel",
            "description_width": "initial",
            "_view_module": "@jupyter-widgets/base",
            "_model_module_version": "1.5.0",
            "_view_count": null,
            "_view_module_version": "1.2.0",
            "bar_color": null,
            "_model_module": "@jupyter-widgets/controls"
          }
        },
        "6f5972eb8c404ef1b892f85952ce4275": {
          "model_module": "@jupyter-widgets/base",
          "model_name": "LayoutModel",
          "state": {
            "_view_name": "LayoutView",
            "grid_template_rows": null,
            "right": null,
            "justify_content": null,
            "_view_module": "@jupyter-widgets/base",
            "overflow": null,
            "_model_module_version": "1.2.0",
            "_view_count": null,
            "flex_flow": null,
            "width": null,
            "min_width": null,
            "border": null,
            "align_items": null,
            "bottom": null,
            "_model_module": "@jupyter-widgets/base",
            "top": null,
            "grid_column": null,
            "overflow_y": null,
            "overflow_x": null,
            "grid_auto_flow": null,
            "grid_area": null,
            "grid_template_columns": null,
            "flex": null,
            "_model_name": "LayoutModel",
            "justify_items": null,
            "grid_row": null,
            "max_height": null,
            "align_content": null,
            "visibility": null,
            "align_self": null,
            "height": null,
            "min_height": null,
            "padding": null,
            "grid_auto_rows": null,
            "grid_gap": null,
            "max_width": null,
            "order": null,
            "_view_module_version": "1.2.0",
            "grid_template_areas": null,
            "object_position": null,
            "object_fit": null,
            "grid_auto_columns": null,
            "margin": null,
            "display": null,
            "left": null
          }
        },
        "e536423e396a419195935d5b784c29b7": {
          "model_module": "@jupyter-widgets/controls",
          "model_name": "DescriptionStyleModel",
          "state": {
            "_view_name": "StyleView",
            "_model_name": "DescriptionStyleModel",
            "description_width": "",
            "_view_module": "@jupyter-widgets/base",
            "_model_module_version": "1.5.0",
            "_view_count": null,
            "_view_module_version": "1.2.0",
            "_model_module": "@jupyter-widgets/controls"
          }
        },
        "0c30cecf1fd34a7e956e40ef120f5de2": {
          "model_module": "@jupyter-widgets/base",
          "model_name": "LayoutModel",
          "state": {
            "_view_name": "LayoutView",
            "grid_template_rows": null,
            "right": null,
            "justify_content": null,
            "_view_module": "@jupyter-widgets/base",
            "overflow": null,
            "_model_module_version": "1.2.0",
            "_view_count": null,
            "flex_flow": null,
            "width": null,
            "min_width": null,
            "border": null,
            "align_items": null,
            "bottom": null,
            "_model_module": "@jupyter-widgets/base",
            "top": null,
            "grid_column": null,
            "overflow_y": null,
            "overflow_x": null,
            "grid_auto_flow": null,
            "grid_area": null,
            "grid_template_columns": null,
            "flex": null,
            "_model_name": "LayoutModel",
            "justify_items": null,
            "grid_row": null,
            "max_height": null,
            "align_content": null,
            "visibility": null,
            "align_self": null,
            "height": null,
            "min_height": null,
            "padding": null,
            "grid_auto_rows": null,
            "grid_gap": null,
            "max_width": null,
            "order": null,
            "_view_module_version": "1.2.0",
            "grid_template_areas": null,
            "object_position": null,
            "object_fit": null,
            "grid_auto_columns": null,
            "margin": null,
            "display": null,
            "left": null
          }
        },
        "bba4d513fd684f198242d076633441f5": {
          "model_module": "@jupyter-widgets/controls",
          "model_name": "HBoxModel",
          "state": {
            "_view_name": "HBoxView",
            "_dom_classes": [],
            "_model_name": "HBoxModel",
            "_view_module": "@jupyter-widgets/controls",
            "_model_module_version": "1.5.0",
            "_view_count": null,
            "_view_module_version": "1.5.0",
            "box_style": "",
            "layout": "IPY_MODEL_7fb511a91dc041d8ae3644f560528867",
            "_model_module": "@jupyter-widgets/controls",
            "children": [
              "IPY_MODEL_33c07beb3d0d482da73f3e0980027e1f",
              "IPY_MODEL_0cad573cc39e4235ad944e32e862d3c6"
            ]
          }
        },
        "7fb511a91dc041d8ae3644f560528867": {
          "model_module": "@jupyter-widgets/base",
          "model_name": "LayoutModel",
          "state": {
            "_view_name": "LayoutView",
            "grid_template_rows": null,
            "right": null,
            "justify_content": null,
            "_view_module": "@jupyter-widgets/base",
            "overflow": null,
            "_model_module_version": "1.2.0",
            "_view_count": null,
            "flex_flow": null,
            "width": null,
            "min_width": null,
            "border": null,
            "align_items": null,
            "bottom": null,
            "_model_module": "@jupyter-widgets/base",
            "top": null,
            "grid_column": null,
            "overflow_y": null,
            "overflow_x": null,
            "grid_auto_flow": null,
            "grid_area": null,
            "grid_template_columns": null,
            "flex": null,
            "_model_name": "LayoutModel",
            "justify_items": null,
            "grid_row": null,
            "max_height": null,
            "align_content": null,
            "visibility": null,
            "align_self": null,
            "height": null,
            "min_height": null,
            "padding": null,
            "grid_auto_rows": null,
            "grid_gap": null,
            "max_width": null,
            "order": null,
            "_view_module_version": "1.2.0",
            "grid_template_areas": null,
            "object_position": null,
            "object_fit": null,
            "grid_auto_columns": null,
            "margin": null,
            "display": null,
            "left": null
          }
        },
        "33c07beb3d0d482da73f3e0980027e1f": {
          "model_module": "@jupyter-widgets/controls",
          "model_name": "FloatProgressModel",
          "state": {
            "_view_name": "ProgressView",
            "style": "IPY_MODEL_bab9391db23341e5b942ba8d544720cb",
            "_dom_classes": [],
            "description": "",
            "_model_name": "FloatProgressModel",
            "bar_style": "info",
            "max": 1,
            "_view_module": "@jupyter-widgets/controls",
            "_model_module_version": "1.5.0",
            "value": 1,
            "_view_count": null,
            "_view_module_version": "1.5.0",
            "orientation": "horizontal",
            "min": 0,
            "description_tooltip": null,
            "_model_module": "@jupyter-widgets/controls",
            "layout": "IPY_MODEL_ae0d9e4ded2e434fb4eb56eef5ac989f"
          }
        },
        "0cad573cc39e4235ad944e32e862d3c6": {
          "model_module": "@jupyter-widgets/controls",
          "model_name": "HTMLModel",
          "state": {
            "_view_name": "HTMLView",
            "style": "IPY_MODEL_e4756f4568314525b98d57df1aad1d41",
            "_dom_classes": [],
            "description": "",
            "_model_name": "HTMLModel",
            "placeholder": "​",
            "_view_module": "@jupyter-widgets/controls",
            "_model_module_version": "1.5.0",
            "value": " 4423680/? [00:17&lt;00:00, 922891.63it/s]",
            "_view_count": null,
            "_view_module_version": "1.5.0",
            "description_tooltip": null,
            "_model_module": "@jupyter-widgets/controls",
            "layout": "IPY_MODEL_da033e8d5e8646359e00cd64beea7e47"
          }
        },
        "bab9391db23341e5b942ba8d544720cb": {
          "model_module": "@jupyter-widgets/controls",
          "model_name": "ProgressStyleModel",
          "state": {
            "_view_name": "StyleView",
            "_model_name": "ProgressStyleModel",
            "description_width": "initial",
            "_view_module": "@jupyter-widgets/base",
            "_model_module_version": "1.5.0",
            "_view_count": null,
            "_view_module_version": "1.2.0",
            "bar_color": null,
            "_model_module": "@jupyter-widgets/controls"
          }
        },
        "ae0d9e4ded2e434fb4eb56eef5ac989f": {
          "model_module": "@jupyter-widgets/base",
          "model_name": "LayoutModel",
          "state": {
            "_view_name": "LayoutView",
            "grid_template_rows": null,
            "right": null,
            "justify_content": null,
            "_view_module": "@jupyter-widgets/base",
            "overflow": null,
            "_model_module_version": "1.2.0",
            "_view_count": null,
            "flex_flow": null,
            "width": null,
            "min_width": null,
            "border": null,
            "align_items": null,
            "bottom": null,
            "_model_module": "@jupyter-widgets/base",
            "top": null,
            "grid_column": null,
            "overflow_y": null,
            "overflow_x": null,
            "grid_auto_flow": null,
            "grid_area": null,
            "grid_template_columns": null,
            "flex": null,
            "_model_name": "LayoutModel",
            "justify_items": null,
            "grid_row": null,
            "max_height": null,
            "align_content": null,
            "visibility": null,
            "align_self": null,
            "height": null,
            "min_height": null,
            "padding": null,
            "grid_auto_rows": null,
            "grid_gap": null,
            "max_width": null,
            "order": null,
            "_view_module_version": "1.2.0",
            "grid_template_areas": null,
            "object_position": null,
            "object_fit": null,
            "grid_auto_columns": null,
            "margin": null,
            "display": null,
            "left": null
          }
        },
        "e4756f4568314525b98d57df1aad1d41": {
          "model_module": "@jupyter-widgets/controls",
          "model_name": "DescriptionStyleModel",
          "state": {
            "_view_name": "StyleView",
            "_model_name": "DescriptionStyleModel",
            "description_width": "",
            "_view_module": "@jupyter-widgets/base",
            "_model_module_version": "1.5.0",
            "_view_count": null,
            "_view_module_version": "1.2.0",
            "_model_module": "@jupyter-widgets/controls"
          }
        },
        "da033e8d5e8646359e00cd64beea7e47": {
          "model_module": "@jupyter-widgets/base",
          "model_name": "LayoutModel",
          "state": {
            "_view_name": "LayoutView",
            "grid_template_rows": null,
            "right": null,
            "justify_content": null,
            "_view_module": "@jupyter-widgets/base",
            "overflow": null,
            "_model_module_version": "1.2.0",
            "_view_count": null,
            "flex_flow": null,
            "width": null,
            "min_width": null,
            "border": null,
            "align_items": null,
            "bottom": null,
            "_model_module": "@jupyter-widgets/base",
            "top": null,
            "grid_column": null,
            "overflow_y": null,
            "overflow_x": null,
            "grid_auto_flow": null,
            "grid_area": null,
            "grid_template_columns": null,
            "flex": null,
            "_model_name": "LayoutModel",
            "justify_items": null,
            "grid_row": null,
            "max_height": null,
            "align_content": null,
            "visibility": null,
            "align_self": null,
            "height": null,
            "min_height": null,
            "padding": null,
            "grid_auto_rows": null,
            "grid_gap": null,
            "max_width": null,
            "order": null,
            "_view_module_version": "1.2.0",
            "grid_template_areas": null,
            "object_position": null,
            "object_fit": null,
            "grid_auto_columns": null,
            "margin": null,
            "display": null,
            "left": null
          }
        },
        "9a8e2b1e84634ff6928de3acef6a4729": {
          "model_module": "@jupyter-widgets/controls",
          "model_name": "HBoxModel",
          "state": {
            "_view_name": "HBoxView",
            "_dom_classes": [],
            "_model_name": "HBoxModel",
            "_view_module": "@jupyter-widgets/controls",
            "_model_module_version": "1.5.0",
            "_view_count": null,
            "_view_module_version": "1.5.0",
            "box_style": "",
            "layout": "IPY_MODEL_3e962209652c4572a4b9ee6238838481",
            "_model_module": "@jupyter-widgets/controls",
            "children": [
              "IPY_MODEL_03240f5edbfc4b52ae97496c596ca21f",
              "IPY_MODEL_19a8f9d90e834bc9ae115f2bf31e1fcd"
            ]
          }
        },
        "3e962209652c4572a4b9ee6238838481": {
          "model_module": "@jupyter-widgets/base",
          "model_name": "LayoutModel",
          "state": {
            "_view_name": "LayoutView",
            "grid_template_rows": null,
            "right": null,
            "justify_content": null,
            "_view_module": "@jupyter-widgets/base",
            "overflow": null,
            "_model_module_version": "1.2.0",
            "_view_count": null,
            "flex_flow": null,
            "width": null,
            "min_width": null,
            "border": null,
            "align_items": null,
            "bottom": null,
            "_model_module": "@jupyter-widgets/base",
            "top": null,
            "grid_column": null,
            "overflow_y": null,
            "overflow_x": null,
            "grid_auto_flow": null,
            "grid_area": null,
            "grid_template_columns": null,
            "flex": null,
            "_model_name": "LayoutModel",
            "justify_items": null,
            "grid_row": null,
            "max_height": null,
            "align_content": null,
            "visibility": null,
            "align_self": null,
            "height": null,
            "min_height": null,
            "padding": null,
            "grid_auto_rows": null,
            "grid_gap": null,
            "max_width": null,
            "order": null,
            "_view_module_version": "1.2.0",
            "grid_template_areas": null,
            "object_position": null,
            "object_fit": null,
            "grid_auto_columns": null,
            "margin": null,
            "display": null,
            "left": null
          }
        },
        "03240f5edbfc4b52ae97496c596ca21f": {
          "model_module": "@jupyter-widgets/controls",
          "model_name": "FloatProgressModel",
          "state": {
            "_view_name": "ProgressView",
            "style": "IPY_MODEL_ae9475d169b94eb49ec46b048de2c2a9",
            "_dom_classes": [],
            "description": "  0%",
            "_model_name": "FloatProgressModel",
            "bar_style": "info",
            "max": 1,
            "_view_module": "@jupyter-widgets/controls",
            "_model_module_version": "1.5.0",
            "value": 0,
            "_view_count": null,
            "_view_module_version": "1.5.0",
            "orientation": "horizontal",
            "min": 0,
            "description_tooltip": null,
            "_model_module": "@jupyter-widgets/controls",
            "layout": "IPY_MODEL_af378543f36e4d12b4e8a51b714aea14"
          }
        },
        "19a8f9d90e834bc9ae115f2bf31e1fcd": {
          "model_module": "@jupyter-widgets/controls",
          "model_name": "HTMLModel",
          "state": {
            "_view_name": "HTMLView",
            "style": "IPY_MODEL_5567d2baa5c2488c86dad5e08e8c51be",
            "_dom_classes": [],
            "description": "",
            "_model_name": "HTMLModel",
            "placeholder": "​",
            "_view_module": "@jupyter-widgets/controls",
            "_model_module_version": "1.5.0",
            "value": " 0/5148 [00:00&lt;?, ?it/s]",
            "_view_count": null,
            "_view_module_version": "1.5.0",
            "description_tooltip": null,
            "_model_module": "@jupyter-widgets/controls",
            "layout": "IPY_MODEL_bb232ae7450d4d3cb0f5519dac00a87f"
          }
        },
        "ae9475d169b94eb49ec46b048de2c2a9": {
          "model_module": "@jupyter-widgets/controls",
          "model_name": "ProgressStyleModel",
          "state": {
            "_view_name": "StyleView",
            "_model_name": "ProgressStyleModel",
            "description_width": "initial",
            "_view_module": "@jupyter-widgets/base",
            "_model_module_version": "1.5.0",
            "_view_count": null,
            "_view_module_version": "1.2.0",
            "bar_color": null,
            "_model_module": "@jupyter-widgets/controls"
          }
        },
        "af378543f36e4d12b4e8a51b714aea14": {
          "model_module": "@jupyter-widgets/base",
          "model_name": "LayoutModel",
          "state": {
            "_view_name": "LayoutView",
            "grid_template_rows": null,
            "right": null,
            "justify_content": null,
            "_view_module": "@jupyter-widgets/base",
            "overflow": null,
            "_model_module_version": "1.2.0",
            "_view_count": null,
            "flex_flow": null,
            "width": null,
            "min_width": null,
            "border": null,
            "align_items": null,
            "bottom": null,
            "_model_module": "@jupyter-widgets/base",
            "top": null,
            "grid_column": null,
            "overflow_y": null,
            "overflow_x": null,
            "grid_auto_flow": null,
            "grid_area": null,
            "grid_template_columns": null,
            "flex": null,
            "_model_name": "LayoutModel",
            "justify_items": null,
            "grid_row": null,
            "max_height": null,
            "align_content": null,
            "visibility": null,
            "align_self": null,
            "height": null,
            "min_height": null,
            "padding": null,
            "grid_auto_rows": null,
            "grid_gap": null,
            "max_width": null,
            "order": null,
            "_view_module_version": "1.2.0",
            "grid_template_areas": null,
            "object_position": null,
            "object_fit": null,
            "grid_auto_columns": null,
            "margin": null,
            "display": null,
            "left": null
          }
        },
        "5567d2baa5c2488c86dad5e08e8c51be": {
          "model_module": "@jupyter-widgets/controls",
          "model_name": "DescriptionStyleModel",
          "state": {
            "_view_name": "StyleView",
            "_model_name": "DescriptionStyleModel",
            "description_width": "",
            "_view_module": "@jupyter-widgets/base",
            "_model_module_version": "1.5.0",
            "_view_count": null,
            "_view_module_version": "1.2.0",
            "_model_module": "@jupyter-widgets/controls"
          }
        },
        "bb232ae7450d4d3cb0f5519dac00a87f": {
          "model_module": "@jupyter-widgets/base",
          "model_name": "LayoutModel",
          "state": {
            "_view_name": "LayoutView",
            "grid_template_rows": null,
            "right": null,
            "justify_content": null,
            "_view_module": "@jupyter-widgets/base",
            "overflow": null,
            "_model_module_version": "1.2.0",
            "_view_count": null,
            "flex_flow": null,
            "width": null,
            "min_width": null,
            "border": null,
            "align_items": null,
            "bottom": null,
            "_model_module": "@jupyter-widgets/base",
            "top": null,
            "grid_column": null,
            "overflow_y": null,
            "overflow_x": null,
            "grid_auto_flow": null,
            "grid_area": null,
            "grid_template_columns": null,
            "flex": null,
            "_model_name": "LayoutModel",
            "justify_items": null,
            "grid_row": null,
            "max_height": null,
            "align_content": null,
            "visibility": null,
            "align_self": null,
            "height": null,
            "min_height": null,
            "padding": null,
            "grid_auto_rows": null,
            "grid_gap": null,
            "max_width": null,
            "order": null,
            "_view_module_version": "1.2.0",
            "grid_template_areas": null,
            "object_position": null,
            "object_fit": null,
            "grid_auto_columns": null,
            "margin": null,
            "display": null,
            "left": null
          }
        }
      }
    }
  },
  "cells": [
    {
      "cell_type": "markdown",
      "metadata": {
        "id": "view-in-github",
        "colab_type": "text"
      },
      "source": [
        "<a href=\"https://colab.research.google.com/github/Matrixmax/Dive_into_DeepLearning/blob/main/0x32_%E7%A8%A0%E5%AF%86%E9%93%BE%E6%8E%A5%E7%BD%91%E7%BB%9C%EF%BC%88DenseNet%EF%BC%89.ipynb\" target=\"_parent\"><img src=\"https://colab.research.google.com/assets/colab-badge.svg\" alt=\"Open In Colab\"/></a>"
      ]
    },
    {
      "cell_type": "markdown",
      "metadata": {
        "id": "myYGU7FrSpwm"
      },
      "source": [
        "ResNet中的跨层连接设计引申出了数个后续工作。本节我们介绍其中的一个：稠密连接网络（DenseNet） [1]。 它与ResNet的主要区别如图5.10所示。\r\n",
        "\r\n",
        "![image.png](data:image/png;base64,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)"
      ]
    },
    {
      "cell_type": "markdown",
      "metadata": {
        "id": "oJlz3zqhSvB4"
      },
      "source": [
        "图5.10中将部分前后相邻的运算抽象为模块AA和模块BB。与ResNet的主要区别在于，DenseNet里模块BB的输出不是像ResNet那样和模块AA的输出相加，而是在通道维上连结。这样模块AA的输出可以直接传入模块BB后面的层。在这个设计里，模块AA直接跟模块BB后面的所有层连接在了一起。这也是它被称为“稠密连接”的原因。\r\n",
        "\r\n",
        "DenseNet的主要构建模块是稠密块（dense block）和过渡层（transition layer）。前者定义了输入和输出是如何连结的，后者则用来控制通道数，使之不过大。"
      ]
    },
    {
      "cell_type": "markdown",
      "metadata": {
        "id": "KS5zgbVhTpAO"
      },
      "source": [
        "## 1. 稠密块\r\n",
        "DenseNet使用了ResNet改良版的“批量归一化、激活和卷积”结构，我们首先在conv_block函数里实现这个结构。"
      ]
    },
    {
      "cell_type": "code",
      "metadata": {
        "colab": {
          "base_uri": "https://localhost:8080/"
        },
        "id": "Y0YJivV9Sf3y",
        "outputId": "92f5688d-0282-4040-c7af-1fc16a7b256a"
      },
      "source": [
        "import time\r\n",
        "import torch\r\n",
        "from torch import nn,optim\r\n",
        "import torch.nn.functional as F\r\n",
        "import sys\r\n",
        "from google.colab import drive\r\n",
        "import d2lzh_pytorch as d2l\r\n",
        "drive.mount('/content/drive')\r\n",
        "sys.path.append('/content/drive/My Drive/Colab Notebooks/Dive_Into_Deep_Learning')\r\n",
        "\r\n",
        "device = torch.device('cuda' if torch.cuda.is_available() else 'cpu')\r\n",
        "!nvidia-smi"
      ],
      "execution_count": 24,
      "outputs": [
        {
          "output_type": "stream",
          "text": [
            "Drive already mounted at /content/drive; to attempt to forcibly remount, call drive.mount(\"/content/drive\", force_remount=True).\n",
            "Wed Feb 17 14:37:22 2021       \n",
            "+-----------------------------------------------------------------------------+\n",
            "| NVIDIA-SMI 460.39       Driver Version: 460.32.03    CUDA Version: 11.2     |\n",
            "|-------------------------------+----------------------+----------------------+\n",
            "| GPU  Name        Persistence-M| Bus-Id        Disp.A | Volatile Uncorr. ECC |\n",
            "| Fan  Temp  Perf  Pwr:Usage/Cap|         Memory-Usage | GPU-Util  Compute M. |\n",
            "|                               |                      |               MIG M. |\n",
            "|===============================+======================+======================|\n",
            "|   0  Tesla T4            Off  | 00000000:00:04.0 Off |                    0 |\n",
            "| N/A   34C    P8     9W /  70W |      3MiB / 15109MiB |      0%      Default |\n",
            "|                               |                      |                  N/A |\n",
            "+-------------------------------+----------------------+----------------------+\n",
            "                                                                               \n",
            "+-----------------------------------------------------------------------------+\n",
            "| Processes:                                                                  |\n",
            "|  GPU   GI   CI        PID   Type   Process name                  GPU Memory |\n",
            "|        ID   ID                                                   Usage      |\n",
            "|=============================================================================|\n",
            "|  No running processes found                                                 |\n",
            "+-----------------------------------------------------------------------------+\n"
          ],
          "name": "stdout"
        }
      ]
    },
    {
      "cell_type": "markdown",
      "metadata": {
        "id": "zmYkbOfSUScO"
      },
      "source": [
        "稠密块由多个conv_block组成，每块使用相同的输出通道数。但在前向计算时，我们将每块的输入和输出在通道维上连结。"
      ]
    },
    {
      "cell_type": "code",
      "metadata": {
        "id": "lZtUELZ2Vb7I"
      },
      "source": [
        "def conv_block(in_channels, out_channels):\r\n",
        "    blk = nn.Sequential(\r\n",
        "        nn.BatchNorm2d(in_channels), \r\n",
        "        nn.ReLU(),\r\n",
        "        nn.Conv2d(in_channels, out_channels, kernel_size=3, padding=1))\r\n",
        "    return blk"
      ],
      "execution_count": 32,
      "outputs": []
    },
    {
      "cell_type": "code",
      "metadata": {
        "id": "ttodZvjgUT88"
      },
      "source": [
        "class DenseBlock(nn.Module):\r\n",
        "    def __init__(self, num_convs, in_channels, out_channels):\r\n",
        "        super(DenseBlock, self).__init__()\r\n",
        "        net = []\r\n",
        "        for i in range(num_convs):\r\n",
        "            in_c = in_channels + i * out_channels\r\n",
        "            net.append(conv_block(in_c, out_channels))\r\n",
        "        self.net = nn.ModuleList(net)\r\n",
        "        self.out_channels = in_channels + num_convs * out_channels # 计算输出通道数\r\n",
        "\r\n",
        "    def forward(self, X):\r\n",
        "        for blk in self.net:\r\n",
        "            Y = blk(X)\r\n",
        "            X = torch.cat((X, Y), dim=1)  # 在通道维上将输入和输出连结\r\n",
        "        return X\r\n"
      ],
      "execution_count": 33,
      "outputs": []
    },
    {
      "cell_type": "markdown",
      "metadata": {
        "id": "jKW42R0gVJxp"
      },
      "source": [
        "在下面的例子中，我们定义一个有2个输出通道数为10的卷积块。使用通道数为3的输入时，我们会得到通道数为3+2×10=23的输出。卷积块的通道数控制了输出通道数相对于输入通道数的增长，因此也被称为增长率（growth rate）。"
      ]
    },
    {
      "cell_type": "code",
      "metadata": {
        "colab": {
          "base_uri": "https://localhost:8080/"
        },
        "id": "fy-Z8grdVKb4",
        "outputId": "23567299-675e-4091-f2af-c433fbc90a0f"
      },
      "source": [
        "blk = DenseBlock(2, 3, 10)\r\n",
        "X = torch.rand(4, 3, 8, 8)\r\n",
        "Y = blk(X)\r\n",
        "Y.shape # torch.Size([4, 23, 8, 8])"
      ],
      "execution_count": 34,
      "outputs": [
        {
          "output_type": "execute_result",
          "data": {
            "text/plain": [
              "torch.Size([4, 23, 8, 8])"
            ]
          },
          "metadata": {
            "tags": []
          },
          "execution_count": 34
        }
      ]
    },
    {
      "cell_type": "markdown",
      "metadata": {
        "id": "h8B74-f9X0ox"
      },
      "source": [
        "## 2.过渡层\r\n",
        "由于每个稠密块都会带来通道数的增加，使用过多则会带来过于复杂的模型。过渡层用来控制模型复杂度。它通过1×1卷积层来减小通道数，并使用步幅为2的平均池化层减半高和宽，从而进一步降低模型复杂度。"
      ]
    },
    {
      "cell_type": "code",
      "metadata": {
        "id": "OpHmcBtNYG92"
      },
      "source": [
        "def transition_block(in_channels, out_channels):\r\n",
        "    blk = nn.Sequential(\r\n",
        "            nn.BatchNorm2d(in_channels), \r\n",
        "            nn.ReLU(),\r\n",
        "            nn.Conv2d(in_channels, out_channels, kernel_size=1),\r\n",
        "            nn.AvgPool2d(kernel_size=2, stride=2))\r\n",
        "    return blk"
      ],
      "execution_count": 35,
      "outputs": []
    },
    {
      "cell_type": "code",
      "metadata": {
        "colab": {
          "base_uri": "https://localhost:8080/"
        },
        "id": "xIy_Fj2LYku_",
        "outputId": "cead6353-8ad5-44da-ed9d-c655d97e2f06"
      },
      "source": [
        "blk = transition_block(23, 10)\r\n",
        "blk(Y).shape # torch.Size([4, 10, 4, 4])\r\n"
      ],
      "execution_count": 36,
      "outputs": [
        {
          "output_type": "execute_result",
          "data": {
            "text/plain": [
              "torch.Size([4, 10, 4, 4])"
            ]
          },
          "metadata": {
            "tags": []
          },
          "execution_count": 36
        }
      ]
    },
    {
      "cell_type": "markdown",
      "metadata": {
        "id": "z9B-pos8Ypsr"
      },
      "source": [
        "## 3.DenseNet模型\r\n",
        "我们来构造DenseNet模型。DenseNet首先使用同ResNet一样的单卷积层和最大池化层。"
      ]
    },
    {
      "cell_type": "code",
      "metadata": {
        "id": "ZI9tr7DeYtt-"
      },
      "source": [
        "net = nn.Sequential(\r\n",
        "    nn.Conv2d(1, 64, kernel_size=7, stride=2, padding=3),\r\n",
        "    nn.BatchNorm2d(64), \r\n",
        "    nn.ReLU(),\r\n",
        "    nn.MaxPool2d(kernel_size=3, stride=2, padding=1))\r\n"
      ],
      "execution_count": 37,
      "outputs": []
    },
    {
      "cell_type": "markdown",
      "metadata": {
        "id": "aQUq3I_WZCEQ"
      },
      "source": [
        "类似于ResNet接下来使用的4个残差块，DenseNet使用的是4个稠密块。同ResNet一样，我们可以设置每个稠密块使用多少个卷积层。这里我们设成4，从而与上一节的ResNet-18保持一致。稠密块里的卷积层通道数（即增长率）设为32，所以每个稠密块将增加128个通道。\r\n",
        "\r\n",
        "ResNet里通过步幅为2的残差块在每个模块之间减小高和宽。这里我们则使用过渡层来减半高和宽，并减半通道数。"
      ]
    },
    {
      "cell_type": "code",
      "metadata": {
        "id": "RPDa2K1UZCeo"
      },
      "source": [
        "num_channels, growth_rate = 64, 32  # num_channels为当前的通道数\r\n",
        "num_convs_in_dense_blocks = [4, 4, 4, 4]\r\n",
        "\r\n",
        "for i, num_convs in enumerate(num_convs_in_dense_blocks):\r\n",
        "    DB = DenseBlock(num_convs, num_channels, growth_rate)\r\n",
        "    net.add_module(\"DenseBlosk_%d\" % i, DB)\r\n",
        "    # 上一个稠密块的输出通道数\r\n",
        "    num_channels = DB.out_channels\r\n",
        "    # 在稠密块之间加入通道数减半的过渡层\r\n",
        "    if i != len(num_convs_in_dense_blocks) - 1:\r\n",
        "        net.add_module(\"transition_block_%d\" % i, transition_block(num_channels, num_channels // 2))\r\n",
        "        num_channels = num_channels // 2"
      ],
      "execution_count": 38,
      "outputs": []
    },
    {
      "cell_type": "code",
      "metadata": {
        "id": "UWCr3mW5asIl"
      },
      "source": [
        "net.add_module(\"BN\", nn.BatchNorm2d(num_channels))\r\n",
        "net.add_module(\"relu\", nn.ReLU())\r\n",
        "net.add_module(\"global_avg_pool\", d2l.GlobalAvgPool2d()) # GlobalAvgPool2d的输出: (Batch, num_channels, 1, 1)\r\n",
        "net.add_module(\"fc\", nn.Sequential(d2l.FlattenLayer(), nn.Linear(num_channels, 10))) \r\n"
      ],
      "execution_count": 39,
      "outputs": []
    },
    {
      "cell_type": "code",
      "metadata": {
        "colab": {
          "base_uri": "https://localhost:8080/"
        },
        "id": "Fq_S_vwBbcck",
        "outputId": "7df172c9-e1b0-409b-94cf-c873fb802989"
      },
      "source": [
        "X = torch.rand((1, 1, 96, 96))\r\n",
        "for name, layer in net.named_children():\r\n",
        "    X = layer(X)\r\n",
        "    print(name, ' output shape:\\t', X.shape)\r\n"
      ],
      "execution_count": 40,
      "outputs": [
        {
          "output_type": "stream",
          "text": [
            "0  output shape:\t torch.Size([1, 64, 48, 48])\n",
            "1  output shape:\t torch.Size([1, 64, 48, 48])\n",
            "2  output shape:\t torch.Size([1, 64, 48, 48])\n",
            "3  output shape:\t torch.Size([1, 64, 24, 24])\n",
            "DenseBlosk_0  output shape:\t torch.Size([1, 192, 24, 24])\n",
            "transition_block_0  output shape:\t torch.Size([1, 96, 12, 12])\n",
            "DenseBlosk_1  output shape:\t torch.Size([1, 224, 12, 12])\n",
            "transition_block_1  output shape:\t torch.Size([1, 112, 6, 6])\n",
            "DenseBlosk_2  output shape:\t torch.Size([1, 240, 6, 6])\n",
            "transition_block_2  output shape:\t torch.Size([1, 120, 3, 3])\n",
            "DenseBlosk_3  output shape:\t torch.Size([1, 248, 3, 3])\n",
            "BN  output shape:\t torch.Size([1, 248, 3, 3])\n",
            "relu  output shape:\t torch.Size([1, 248, 3, 3])\n",
            "global_avg_pool  output shape:\t torch.Size([1, 248, 1, 1])\n",
            "fc  output shape:\t torch.Size([1, 10])\n"
          ],
          "name": "stdout"
        }
      ]
    },
    {
      "cell_type": "markdown",
      "metadata": {
        "id": "p_twL_oNar4K"
      },
      "source": [
        "## 4. 获取数据并训练模型\r\n",
        "\r\n"
      ]
    },
    {
      "cell_type": "code",
      "metadata": {
        "colab": {
          "base_uri": "https://localhost:8080/",
          "height": 507,
          "referenced_widgets": [
            "e89f599d93f24d4f9befa09193937660",
            "9f202d28fb8f40bb960a53860a888ef7",
            "4bd67f4a977442b08440734c046735f9",
            "8b5fb9d36ea446f3bf2853eb9955752a",
            "8676664c2a9949b79e97df646622c6df",
            "413b4c7ae60449b2b6e2f65a3f56b54b",
            "ab558f52bb9a4e3d9bb496a4ca696a9b",
            "73b749c3eca44d18bffc18ddc2349819",
            "8f54e8723f8b4ec1a9f5e35464aa33af",
            "6981890697364e40af03253b5eae243f",
            "d82a7dd0701a436fb941a698aef08398",
            "f22053de804b400cb4affce2ff3dc377",
            "2017e0a5ace84f7887032e2d25b7c774",
            "6f5972eb8c404ef1b892f85952ce4275",
            "e536423e396a419195935d5b784c29b7",
            "0c30cecf1fd34a7e956e40ef120f5de2",
            "bba4d513fd684f198242d076633441f5",
            "7fb511a91dc041d8ae3644f560528867",
            "33c07beb3d0d482da73f3e0980027e1f",
            "0cad573cc39e4235ad944e32e862d3c6",
            "bab9391db23341e5b942ba8d544720cb",
            "ae0d9e4ded2e434fb4eb56eef5ac989f",
            "e4756f4568314525b98d57df1aad1d41",
            "da033e8d5e8646359e00cd64beea7e47",
            "9a8e2b1e84634ff6928de3acef6a4729",
            "3e962209652c4572a4b9ee6238838481",
            "03240f5edbfc4b52ae97496c596ca21f",
            "19a8f9d90e834bc9ae115f2bf31e1fcd",
            "ae9475d169b94eb49ec46b048de2c2a9",
            "af378543f36e4d12b4e8a51b714aea14",
            "5567d2baa5c2488c86dad5e08e8c51be",
            "bb232ae7450d4d3cb0f5519dac00a87f"
          ]
        },
        "id": "mPr42Hgvbj2q",
        "outputId": "a83ab7fc-7bb4-46fd-da8f-0e13fe295da4"
      },
      "source": [
        "batch_size = 256\r\n",
        "# 如出现“out of memory”的报错信息，可减小batch_size或resize\r\n",
        "train_iter, test_iter = d2l.load_data_fashion_mnist(batch_size, resize=96)\r\n",
        "\r\n",
        "lr, num_epochs = 0.001, 5\r\n",
        "optimizer = torch.optim.Adam(net.parameters(), lr=lr)\r\n",
        "d2l.train_ch5(net, train_iter, test_iter, batch_size, optimizer, device, num_epochs)"
      ],
      "execution_count": 41,
      "outputs": [
        {
          "output_type": "stream",
          "text": [
            "Downloading http://fashion-mnist.s3-website.eu-central-1.amazonaws.com/train-images-idx3-ubyte.gz to /root/Datasets/FashionMNIST/FashionMNIST/raw/train-images-idx3-ubyte.gz\n"
          ],
          "name": "stdout"
        },
        {
          "output_type": "display_data",
          "data": {
            "application/vnd.jupyter.widget-view+json": {
              "model_id": "e89f599d93f24d4f9befa09193937660",
              "version_minor": 0,
              "version_major": 2
            },
            "text/plain": [
              "HBox(children=(FloatProgress(value=1.0, bar_style='info', max=1.0), HTML(value='')))"
            ]
          },
          "metadata": {
            "tags": []
          }
        },
        {
          "output_type": "stream",
          "text": [
            "Extracting /root/Datasets/FashionMNIST/FashionMNIST/raw/train-images-idx3-ubyte.gz to /root/Datasets/FashionMNIST/FashionMNIST/raw\n",
            "Downloading http://fashion-mnist.s3-website.eu-central-1.amazonaws.com/train-labels-idx1-ubyte.gz to /root/Datasets/FashionMNIST/FashionMNIST/raw/train-labels-idx1-ubyte.gz\n"
          ],
          "name": "stdout"
        },
        {
          "output_type": "display_data",
          "data": {
            "application/vnd.jupyter.widget-view+json": {
              "model_id": "8f54e8723f8b4ec1a9f5e35464aa33af",
              "version_minor": 0,
              "version_major": 2
            },
            "text/plain": [
              "HBox(children=(FloatProgress(value=1.0, bar_style='info', max=1.0), HTML(value='')))"
            ]
          },
          "metadata": {
            "tags": []
          }
        },
        {
          "output_type": "stream",
          "text": [
            "Extracting /root/Datasets/FashionMNIST/FashionMNIST/raw/train-labels-idx1-ubyte.gz to /root/Datasets/FashionMNIST/FashionMNIST/raw\n",
            "Downloading http://fashion-mnist.s3-website.eu-central-1.amazonaws.com/t10k-images-idx3-ubyte.gz to /root/Datasets/FashionMNIST/FashionMNIST/raw/t10k-images-idx3-ubyte.gz\n",
            "\n"
          ],
          "name": "stdout"
        },
        {
          "output_type": "display_data",
          "data": {
            "application/vnd.jupyter.widget-view+json": {
              "model_id": "bba4d513fd684f198242d076633441f5",
              "version_minor": 0,
              "version_major": 2
            },
            "text/plain": [
              "HBox(children=(FloatProgress(value=1.0, bar_style='info', max=1.0), HTML(value='')))"
            ]
          },
          "metadata": {
            "tags": []
          }
        },
        {
          "output_type": "stream",
          "text": [
            "Extracting /root/Datasets/FashionMNIST/FashionMNIST/raw/t10k-images-idx3-ubyte.gz to /root/Datasets/FashionMNIST/FashionMNIST/raw\n",
            "Downloading http://fashion-mnist.s3-website.eu-central-1.amazonaws.com/t10k-labels-idx1-ubyte.gz to /root/Datasets/FashionMNIST/FashionMNIST/raw/t10k-labels-idx1-ubyte.gz\n"
          ],
          "name": "stdout"
        },
        {
          "output_type": "display_data",
          "data": {
            "application/vnd.jupyter.widget-view+json": {
              "model_id": "9a8e2b1e84634ff6928de3acef6a4729",
              "version_minor": 0,
              "version_major": 2
            },
            "text/plain": [
              "HBox(children=(FloatProgress(value=1.0, bar_style='info', max=1.0), HTML(value='')))"
            ]
          },
          "metadata": {
            "tags": []
          }
        },
        {
          "output_type": "stream",
          "text": [
            "Extracting /root/Datasets/FashionMNIST/FashionMNIST/raw/t10k-labels-idx1-ubyte.gz to /root/Datasets/FashionMNIST/FashionMNIST/raw\n",
            "Processing...\n",
            "Done!\n"
          ],
          "name": "stdout"
        },
        {
          "output_type": "stream",
          "text": [
            "/usr/local/lib/python3.6/dist-packages/torchvision/datasets/mnist.py:480: UserWarning: The given NumPy array is not writeable, and PyTorch does not support non-writeable tensors. This means you can write to the underlying (supposedly non-writeable) NumPy array using the tensor. You may want to copy the array to protect its data or make it writeable before converting it to a tensor. This type of warning will be suppressed for the rest of this program. (Triggered internally at  /pytorch/torch/csrc/utils/tensor_numpy.cpp:141.)\n",
            "  return torch.from_numpy(parsed.astype(m[2], copy=False)).view(*s)\n"
          ],
          "name": "stderr"
        },
        {
          "output_type": "stream",
          "text": [
            "training on  cuda\n",
            "epoch 1, loss 0.4580, train acc 0.838, test acc 0.858, time 34.3 sec\n",
            "epoch 2, loss 0.2711, train acc 0.901, test acc 0.885, time 34.2 sec\n",
            "epoch 3, loss 0.2324, train acc 0.915, test acc 0.877, time 34.5 sec\n",
            "epoch 4, loss 0.2084, train acc 0.924, test acc 0.911, time 34.6 sec\n",
            "epoch 5, loss 0.1892, train acc 0.930, test acc 0.906, time 34.7 sec\n"
          ],
          "name": "stdout"
        }
      ]
    }
  ]
}