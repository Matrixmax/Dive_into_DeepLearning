{
  "nbformat": 4,
  "nbformat_minor": 0,
  "metadata": {
    "colab": {
      "name": "ox14_数值稳定性和模型初始化.ipynb",
      "provenance": [],
      "collapsed_sections": [],
      "authorship_tag": "ABX9TyPjBOIiT968K2Rmi/dQVT/4",
      "include_colab_link": true
    },
    "kernelspec": {
      "name": "python3",
      "display_name": "Python 3"
    }
  },
  "cells": [
    {
      "cell_type": "markdown",
      "metadata": {
        "id": "view-in-github",
        "colab_type": "text"
      },
      "source": [
        "<a href=\"https://colab.research.google.com/github/Matrixmax/Dive_into_DeepLearning/blob/main/ox14_%E6%95%B0%E5%80%BC%E7%A8%B3%E5%AE%9A%E6%80%A7%E5%92%8C%E6%A8%A1%E5%9E%8B%E5%88%9D%E5%A7%8B%E5%8C%96.ipynb\" target=\"_parent\"><img src=\"https://colab.research.google.com/assets/colab-badge.svg\" alt=\"Open In Colab\"/></a>"
      ]
    },
    {
      "cell_type": "markdown",
      "metadata": {
        "id": "QiKnHQonYOQ-"
      },
      "source": [
        "深度模型有关数值稳定性的典型问题是衰减（vanishing）和爆炸（explosion）"
      ]
    },
    {
      "cell_type": "markdown",
      "metadata": {
        "id": "rfktXCniYRxt"
      },
      "source": [
        "## 1. 衰减和爆炸\r\n",
        "当神经网络的层数较多时，模型的数值稳定性容易变差，举个例子，假设输入和所有层的权重参数都是标量，如权重参数为0.2和5，多层感知机的第30层输出为输入X分别与\r\n",
        "![image.png](data:image/png;base64,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)\r\n",
        "\r\n",
        " （衰减）和![image.png](data:image/png;base64,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)\r\n",
        "（爆炸）的乘积。类似地，当层数较多时，梯度的计算也更容易出现衰减或爆炸。"
      ]
    },
    {
      "cell_type": "markdown",
      "metadata": {
        "id": "dG-Tm-tLZOtC"
      },
      "source": [
        "## 2. 随机初始化模型参数\r\n"
      ]
    },
    {
      "cell_type": "markdown",
      "metadata": {
        "id": "769d3DLXHQ-S"
      },
      "source": [
        "### 2.1 PyTorch的默认随机初始化\r\n",
        "\r\n",
        "随机初始化模型参数的方法有很多。在线性回归的简洁实现中，我们使用torch.nn.init.normal_()使模型net的权重参数采用正态分布的随机初始化方式。不过，PyTorch中nn.Module的模块参数都采取了较为合理的初始化策略（不同类型的layer具体采样的哪一种初始化方法的可参考源代码），因此一般不用我们考虑。\r\n",
        "\r\n",
        "### 2.2 Xavier随机初始化\r\n",
        "还有一种比较常用的随机初始化方法叫作Xavier随机初始化[1]。 假设某全连接层的输入个数为aa，输出个数为bb，Xavier随机初始化将使该层中权重参数的每个元素都随机采样于均匀分布\r\n",
        "\r\n",
        "![image.png](data:image/png;base64,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)\r\n",
        "\r\n",
        "它的设计主要考虑到，模型参数初始化后，每层输出的方差不该受该层输入个数影响，且每层梯度的方差也不该受该层输出个数影响。"
      ]
    }
  ]
}