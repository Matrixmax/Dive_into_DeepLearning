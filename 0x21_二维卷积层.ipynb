{
  "nbformat": 4,
  "nbformat_minor": 0,
  "metadata": {
    "colab": {
      "name": "0x21_二维卷积层.ipynb",
      "provenance": [],
      "collapsed_sections": [],
      "authorship_tag": "ABX9TyPRycFvWkV8UoJjZ3tOjUtk",
      "include_colab_link": true
    },
    "kernelspec": {
      "name": "python3",
      "display_name": "Python 3"
    }
  },
  "cells": [
    {
      "cell_type": "markdown",
      "metadata": {
        "id": "view-in-github",
        "colab_type": "text"
      },
      "source": [
        "<a href=\"https://colab.research.google.com/github/Matrixmax/Dive_into_DeepLearning/blob/main/0x21_%E4%BA%8C%E7%BB%B4%E5%8D%B7%E7%A7%AF%E5%B1%82.ipynb\" target=\"_parent\"><img src=\"https://colab.research.google.com/assets/colab-badge.svg\" alt=\"Open In Colab\"/></a>"
      ]
    },
    {
      "cell_type": "markdown",
      "metadata": {
        "id": "M4MUzgCi2lR5"
      },
      "source": [
        "卷积神经网络（convolutional neural network）是含有卷积层（convolutional layer）的神经网络。本章中介绍的卷积神经网络均使用最常见的二维卷积层。它有高和宽两个空间维度，常用来处理图像数据。本节中，我们将介绍简单形式的二维卷积层的工作原理。"
      ]
    },
    {
      "cell_type": "markdown",
      "metadata": {
        "id": "8qqRAeXN2pPP"
      },
      "source": [
        "## 1. 二维互相关运算\r\n",
        "虽然卷积层得名于卷积（convolution）运算，但我们通常在卷积层中使用更加直观的互相关（cross-correlation）运算。在二维卷积层中，一个二维输入数组和一个二维核（kernel）数组通过互相关运算输出一个二维数组。 我们用一个具体例子来解释二维互相关运算的含义。如图5.1所示，输入是一个高和宽均为3的二维数组。我们将该数组的形状记为3×3或（3，3）。核数组的高和宽分别为2。该数组在卷积计算中又称卷积核或过滤器（filter）。卷积核窗口（又称卷积窗口）的形状取决于卷积核的高和宽，即2×2。图5.1中的阴影部分为第一个输出元素及其计算所使用的输入和核数组元素：0×0+1×1+3×2+4×3=19。\r\n",
        "\r\n",
        "![image.png](data:image/png;base64,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)\r\n",
        "\r\n",
        "在二维互相关运算中，卷积窗口从输入数组的最上方开始，按照从左往右，从上往下的顺序，依次在输入数组上滑动，当卷积窗口滑动到某一位置时，窗口中的输入子数组与核数组按元素相乘并求和，得到输出数组中相应位置的元素。图5.1中的输出数组高和宽分别为2，其中的4个元素由二维互相关运算得出：\r\n",
        "\r\n",
        "![image.png](data:image/png;base64,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)\r\n",
        "\r\n",
        "下面我们将上述过程实现在corr2d函数里。它接受输入数组X与核数组K，并输出数组Y。"
      ]
    },
    {
      "cell_type": "code",
      "metadata": {
        "id": "wo-B80k02UFa"
      },
      "source": [
        "import torch\r\n",
        "from torch import nn\r\n",
        "\r\n",
        "\r\n",
        "def corr2d(X,K):\r\n",
        "    # X是输入数组，K是卷积核数组\r\n",
        "    h,w = K.shape # h和w是卷积核的长和宽\r\n",
        "    # Y是输出数组\r\n",
        "    Y = torch.zeros((X.shape[0]-h+1,X.shape[1]-w+1))\r\n",
        "    for i in range(Y.shape[0]):\r\n",
        "        for j in range(Y.shape[1]):\r\n",
        "            Y[i,j] = (X[i:i+h,j:j+w]*K).sum()\r\n",
        "    return Y"
      ],
      "execution_count": 17,
      "outputs": []
    },
    {
      "cell_type": "code",
      "metadata": {
        "colab": {
          "base_uri": "https://localhost:8080/"
        },
        "id": "PkhMA3Pi6egm",
        "outputId": "dd671602-b6db-4137-80b0-e1878f699490"
      },
      "source": [
        "# 我们可以构造图5.1中的输入数组X、核数组K来验证二维互相关运算的输出。\r\n",
        "X = torch.tensor([[0, 1, 2], [3, 4, 5], [6, 7, 8]])\r\n",
        "K = torch.tensor([[0, 1], [2, 3]])\r\n",
        "corr2d(X, K)"
      ],
      "execution_count": 18,
      "outputs": [
        {
          "output_type": "execute_result",
          "data": {
            "text/plain": [
              "tensor([[19., 25.],\n",
              "        [37., 43.]])"
            ]
          },
          "metadata": {
            "tags": []
          },
          "execution_count": 18
        }
      ]
    },
    {
      "cell_type": "markdown",
      "metadata": {
        "id": "eov25Xme6d9d"
      },
      "source": [
        "# 2. 二维卷积层\r\n",
        "二维卷积层将输入和卷积核做互相关运算，并加上一个标量偏差来得到输出。卷积层的模型参数包括了卷积核和标量偏差。在训练模型的时候，通常我们先对卷积核随机初始化，然后不断迭代卷积核和偏差。\r\n",
        "\r\n",
        "下面基于corr2d函数来实现一个自定义的二维卷积层。在构造函数__init__里我们声明weight和bias这两个模型参数。前向计算函数forward则是直接调用corr2d函数再加上偏差。"
      ]
    },
    {
      "cell_type": "code",
      "metadata": {
        "id": "oFHrPtFP-gpC"
      },
      "source": [
        "class Conv2D(nn.Module):\r\n",
        "    def __init__(self,kernel_size):\r\n",
        "        super(Conv2D,self).__init__()\r\n",
        "        self.weight = nn.Parameter(torch.randn(kernel_size))\r\n",
        "        self.bias = nn.Parameter(torch.randn(1))\r\n",
        "    \r\n",
        "    def forward(self,x):\r\n",
        "        return corr2d(x,self.weight) + self.bias"
      ],
      "execution_count": 33,
      "outputs": []
    },
    {
      "cell_type": "markdown",
      "metadata": {
        "id": "gTCednK__nbA"
      },
      "source": [
        "卷积窗口形状为p×q的卷积层称为p×q卷积层。同样，p×q卷积或p×q卷积核说明卷积核的高和宽分别为p和q。"
      ]
    },
    {
      "cell_type": "markdown",
      "metadata": {
        "id": "KnREnH_cgSvh"
      },
      "source": [
        "## 3. 图像中物体边缘检测\r\n",
        "下面我们来看一个卷积层的简单应用：检测图像中物体的边缘，即找到像素变化的位置。首先我们构造一张6×86×8的图像（即高和宽分别为6像素和8像素的图像）。它中间4列为黑（0），其余为白（1）。"
      ]
    },
    {
      "cell_type": "code",
      "metadata": {
        "colab": {
          "base_uri": "https://localhost:8080/"
        },
        "id": "UnSz3qLI_nDR",
        "outputId": "685a0d20-032b-48a2-ada2-a732a0c955a7"
      },
      "source": [
        "X = torch.ones(6,8)\r\n",
        "X[:,2:6] = 0\r\n",
        "X"
      ],
      "execution_count": 20,
      "outputs": [
        {
          "output_type": "execute_result",
          "data": {
            "text/plain": [
              "tensor([[1., 1., 0., 0., 0., 0., 1., 1.],\n",
              "        [1., 1., 0., 0., 0., 0., 1., 1.],\n",
              "        [1., 1., 0., 0., 0., 0., 1., 1.],\n",
              "        [1., 1., 0., 0., 0., 0., 1., 1.],\n",
              "        [1., 1., 0., 0., 0., 0., 1., 1.],\n",
              "        [1., 1., 0., 0., 0., 0., 1., 1.]])"
            ]
          },
          "metadata": {
            "tags": []
          },
          "execution_count": 20
        }
      ]
    },
    {
      "cell_type": "markdown",
      "metadata": {
        "id": "3G1_TWHrgmgP"
      },
      "source": [
        "然后我们构造一个高和宽分别为1和2的卷积核K。当它与输入做互相关运算时，如果横向相邻元素相同，输出为0；否则输出为非0。"
      ]
    },
    {
      "cell_type": "code",
      "metadata": {
        "id": "6yIugax6gw0A"
      },
      "source": [
        "K = torch.tensor([[1,-1]])"
      ],
      "execution_count": 22,
      "outputs": []
    },
    {
      "cell_type": "markdown",
      "metadata": {
        "id": "qRfGhvfHg-5S"
      },
      "source": [
        "下面将输入X和我们设计的卷积核K做互相关运算。可以看出，我们将从白到黑的边缘和从黑到白的边缘分别检测成了1和-1。其余部分的输出全是0。"
      ]
    },
    {
      "cell_type": "code",
      "metadata": {
        "colab": {
          "base_uri": "https://localhost:8080/"
        },
        "id": "nqyVfNWyg_UC",
        "outputId": "37583454-3eb1-4909-a1f7-87605d6d8e66"
      },
      "source": [
        "Y = corr2d(X,K)\r\n",
        "Y"
      ],
      "execution_count": 23,
      "outputs": [
        {
          "output_type": "execute_result",
          "data": {
            "text/plain": [
              "tensor([[ 0.,  1.,  0.,  0.,  0., -1.,  0.],\n",
              "        [ 0.,  1.,  0.,  0.,  0., -1.,  0.],\n",
              "        [ 0.,  1.,  0.,  0.,  0., -1.,  0.],\n",
              "        [ 0.,  1.,  0.,  0.,  0., -1.,  0.],\n",
              "        [ 0.,  1.,  0.,  0.,  0., -1.,  0.],\n",
              "        [ 0.,  1.,  0.,  0.,  0., -1.,  0.]])"
            ]
          },
          "metadata": {
            "tags": []
          },
          "execution_count": 23
        }
      ]
    },
    {
      "cell_type": "markdown",
      "metadata": {
        "id": "d2noEWQHhFe0"
      },
      "source": [
        "由此，我们可以看出，卷积层可通过重复使用卷积核有效地表征局部空间。"
      ]
    },
    {
      "cell_type": "markdown",
      "metadata": {
        "id": "VIZM32zchIxN"
      },
      "source": [
        "## 4. 通过数据学习核数组"
      ]
    },
    {
      "cell_type": "markdown",
      "metadata": {
        "id": "Ds8ODLyUhQWA"
      },
      "source": [
        "最后我们来看一个例子，它使用物体边缘检测中的输入数据X和输出数据Y来学习我们构造的核数组K。我们首先构造一个卷积层，其卷积核将被初始化成随机数组。接下来在每一次迭代中，我们使用平方误差来比较Y和卷积层的输出，然后计算梯度来更新权重。"
      ]
    },
    {
      "cell_type": "code",
      "metadata": {
        "colab": {
          "base_uri": "https://localhost:8080/"
        },
        "id": "P-ZUBNGdhGCZ",
        "outputId": "1e0d63ca-5e20-4e52-a694-729b6c773982"
      },
      "source": [
        "# 构造一个核数组，形状是（1，2）的二维卷积层\r\n",
        "conv2d = Conv2D(kernel_size=(1, 2))\r\n",
        "step = 20\r\n",
        "lr = 0.01\r\n",
        "for i in range(step):\r\n",
        "    Y_hat = conv2d(X)\r\n",
        "    l = ((Y_hat-Y)**2).sum()\r\n",
        "    l.backward()\r\n",
        "\r\n",
        "    # 梯度下降\r\n",
        "    conv2d.weight.data -= lr*conv2d.weight.grad\r\n",
        "    conv2d.bias.data -= lr*conv2d.bias.grad\r\n",
        "\r\n",
        "    # 梯度清零\r\n",
        "    conv2d.weight.grad.fill_(0)\r\n",
        "    conv2d.bias.grad.fill_(0)\r\n",
        "    if (i+1) %5 == 0:\r\n",
        "        print('Step %d, loss %.3f' % (i + 1, l.item()))\r\n",
        "\r\n"
      ],
      "execution_count": 35,
      "outputs": [
        {
          "output_type": "stream",
          "text": [
            "Step 5, loss 6.167\n",
            "Step 10, loss 1.634\n",
            "Step 15, loss 0.446\n",
            "Step 20, loss 0.123\n"
          ],
          "name": "stdout"
        }
      ]
    },
    {
      "cell_type": "code",
      "metadata": {
        "colab": {
          "base_uri": "https://localhost:8080/"
        },
        "id": "3XnQnXaskLxY",
        "outputId": "fe4213f7-08a4-419e-a071-664c66d43b11"
      },
      "source": [
        "# 可以看到，20次迭代后误差已经降到了一个比较小的值。现在来看一下学习到的卷积核的参数。\r\n",
        "print('weight:',conv2d.weight.data)\r\n",
        "print('bias:',conv2d.bias.data)"
      ],
      "execution_count": 36,
      "outputs": [
        {
          "output_type": "stream",
          "text": [
            "weight: tensor([[ 0.9148, -0.9074]])\n",
            "bias: tensor([-0.0042])\n"
          ],
          "name": "stdout"
        }
      ]
    },
    {
      "cell_type": "markdown",
      "metadata": {
        "id": "qzKmLX_7kLSK"
      },
      "source": [
        "## 5.互相关运算和卷积运算\r\n",
        "实际上，卷积运算与互相关运算类似。**为了得到卷积运算的输出，我们只需将核数组左右翻转并上下翻转，再与输入数组做互相关运算。**可见，卷积运算和互相关运算虽然类似，但如果它们使用相同的核数组，对于同一个输入，输出往往并不相同。"
      ]
    },
    {
      "cell_type": "markdown",
      "metadata": {
        "id": "Dir2TxAumMw4"
      },
      "source": [
        "## 6. 特征图和感受野\r\n",
        "\r\n",
        "二维卷积层输出的二维数组可以看作是输入在空间维度（宽和高）上某一级的表征，也叫特征图（feature map）。影响元素xx的前向计算的所有可能输入区域（可能大于输入的实际尺寸）叫做xx的感受野（receptive field）。以图5.1为例，输入中阴影部分的四个元素是输出中阴影部分元素的感受野。我们将图5.1中形状为2×2的输出记为Y，并考虑一个更深的卷积神经网络：将Y与另一个形状为2×2的核数组做互相关运算，输出单个元素z。那么，z在Y上的感受野包括Y的全部四个元素，在输入上的感受野包括其中全部9个元素。可见，我们可以通过更深的卷积神经网络使特征图中单个元素的感受野变得更加广阔，从而捕捉输入上更大尺寸的特征。\r\n",
        "\r\n",
        "我们常使用“元素”一词来描述数组或矩阵中的成员。在神经网络的术语中，这些元素也可称为“单元”。当含义明确时，本书不对这两个术语做严格区分。\r\n",
        "\r\n"
      ]
    },
    {
      "cell_type": "markdown",
      "metadata": {
        "id": "3UE2VesmmTUT"
      },
      "source": [
        "## 7.小结\r\n",
        "* 二维卷积层的核心计算是二维互相关运算。在最简单的形式下，它对二维输入数据和卷积核做互相关运算然后加上偏差。\r\n",
        "* 我们可以设计卷积核来检测图像中的边缘。\r\n",
        "* 我们可以通过数据来学习卷积核。"
      ]
    }
  ]
}