{
  "nbformat": 4,
  "nbformat_minor": 0,
  "metadata": {
    "accelerator": "GPU",
    "colab": {
      "name": "0x31_残差网络（ResNet）.ipynb",
      "provenance": [],
      "authorship_tag": "ABX9TyM7w1wbvNNY85fHsHMrO4D8",
      "include_colab_link": true
    },
    "kernelspec": {
      "display_name": "Python 3",
      "name": "python3"
    },
    "widgets": {
      "application/vnd.jupyter.widget-state+json": {
        "37c3127d815f401e98f6ed7a36de68ef": {
          "model_module": "@jupyter-widgets/controls",
          "model_name": "HBoxModel",
          "state": {
            "_view_name": "HBoxView",
            "_dom_classes": [],
            "_model_name": "HBoxModel",
            "_view_module": "@jupyter-widgets/controls",
            "_model_module_version": "1.5.0",
            "_view_count": null,
            "_view_module_version": "1.5.0",
            "box_style": "",
            "layout": "IPY_MODEL_56ef7bc35aa148aabc3e24c9c58e9655",
            "_model_module": "@jupyter-widgets/controls",
            "children": [
              "IPY_MODEL_5dd46cc3e5b448818ddef83ce9918d57",
              "IPY_MODEL_93dc2c1d6cdd4b398e2816acedcb6773"
            ]
          }
        },
        "56ef7bc35aa148aabc3e24c9c58e9655": {
          "model_module": "@jupyter-widgets/base",
          "model_name": "LayoutModel",
          "state": {
            "_view_name": "LayoutView",
            "grid_template_rows": null,
            "right": null,
            "justify_content": null,
            "_view_module": "@jupyter-widgets/base",
            "overflow": null,
            "_model_module_version": "1.2.0",
            "_view_count": null,
            "flex_flow": null,
            "width": null,
            "min_width": null,
            "border": null,
            "align_items": null,
            "bottom": null,
            "_model_module": "@jupyter-widgets/base",
            "top": null,
            "grid_column": null,
            "overflow_y": null,
            "overflow_x": null,
            "grid_auto_flow": null,
            "grid_area": null,
            "grid_template_columns": null,
            "flex": null,
            "_model_name": "LayoutModel",
            "justify_items": null,
            "grid_row": null,
            "max_height": null,
            "align_content": null,
            "visibility": null,
            "align_self": null,
            "height": null,
            "min_height": null,
            "padding": null,
            "grid_auto_rows": null,
            "grid_gap": null,
            "max_width": null,
            "order": null,
            "_view_module_version": "1.2.0",
            "grid_template_areas": null,
            "object_position": null,
            "object_fit": null,
            "grid_auto_columns": null,
            "margin": null,
            "display": null,
            "left": null
          }
        },
        "5dd46cc3e5b448818ddef83ce9918d57": {
          "model_module": "@jupyter-widgets/controls",
          "model_name": "FloatProgressModel",
          "state": {
            "_view_name": "ProgressView",
            "style": "IPY_MODEL_b27ec2fc84d740cf808e63e3ded35b7b",
            "_dom_classes": [],
            "description": "",
            "_model_name": "FloatProgressModel",
            "bar_style": "info",
            "max": 1,
            "_view_module": "@jupyter-widgets/controls",
            "_model_module_version": "1.5.0",
            "value": 1,
            "_view_count": null,
            "_view_module_version": "1.5.0",
            "orientation": "horizontal",
            "min": 0,
            "description_tooltip": null,
            "_model_module": "@jupyter-widgets/controls",
            "layout": "IPY_MODEL_abb4d06c057848deb34e56181bdaaba6"
          }
        },
        "93dc2c1d6cdd4b398e2816acedcb6773": {
          "model_module": "@jupyter-widgets/controls",
          "model_name": "HTMLModel",
          "state": {
            "_view_name": "HTMLView",
            "style": "IPY_MODEL_d26cba414d264b0c80aad917258a5fca",
            "_dom_classes": [],
            "description": "",
            "_model_name": "HTMLModel",
            "placeholder": "​",
            "_view_module": "@jupyter-widgets/controls",
            "_model_module_version": "1.5.0",
            "value": " 26427392/? [00:20&lt;00:00, 7111731.87it/s]",
            "_view_count": null,
            "_view_module_version": "1.5.0",
            "description_tooltip": null,
            "_model_module": "@jupyter-widgets/controls",
            "layout": "IPY_MODEL_93154c32eefe435b88da48d7164fe378"
          }
        },
        "b27ec2fc84d740cf808e63e3ded35b7b": {
          "model_module": "@jupyter-widgets/controls",
          "model_name": "ProgressStyleModel",
          "state": {
            "_view_name": "StyleView",
            "_model_name": "ProgressStyleModel",
            "description_width": "initial",
            "_view_module": "@jupyter-widgets/base",
            "_model_module_version": "1.5.0",
            "_view_count": null,
            "_view_module_version": "1.2.0",
            "bar_color": null,
            "_model_module": "@jupyter-widgets/controls"
          }
        },
        "abb4d06c057848deb34e56181bdaaba6": {
          "model_module": "@jupyter-widgets/base",
          "model_name": "LayoutModel",
          "state": {
            "_view_name": "LayoutView",
            "grid_template_rows": null,
            "right": null,
            "justify_content": null,
            "_view_module": "@jupyter-widgets/base",
            "overflow": null,
            "_model_module_version": "1.2.0",
            "_view_count": null,
            "flex_flow": null,
            "width": null,
            "min_width": null,
            "border": null,
            "align_items": null,
            "bottom": null,
            "_model_module": "@jupyter-widgets/base",
            "top": null,
            "grid_column": null,
            "overflow_y": null,
            "overflow_x": null,
            "grid_auto_flow": null,
            "grid_area": null,
            "grid_template_columns": null,
            "flex": null,
            "_model_name": "LayoutModel",
            "justify_items": null,
            "grid_row": null,
            "max_height": null,
            "align_content": null,
            "visibility": null,
            "align_self": null,
            "height": null,
            "min_height": null,
            "padding": null,
            "grid_auto_rows": null,
            "grid_gap": null,
            "max_width": null,
            "order": null,
            "_view_module_version": "1.2.0",
            "grid_template_areas": null,
            "object_position": null,
            "object_fit": null,
            "grid_auto_columns": null,
            "margin": null,
            "display": null,
            "left": null
          }
        },
        "d26cba414d264b0c80aad917258a5fca": {
          "model_module": "@jupyter-widgets/controls",
          "model_name": "DescriptionStyleModel",
          "state": {
            "_view_name": "StyleView",
            "_model_name": "DescriptionStyleModel",
            "description_width": "",
            "_view_module": "@jupyter-widgets/base",
            "_model_module_version": "1.5.0",
            "_view_count": null,
            "_view_module_version": "1.2.0",
            "_model_module": "@jupyter-widgets/controls"
          }
        },
        "93154c32eefe435b88da48d7164fe378": {
          "model_module": "@jupyter-widgets/base",
          "model_name": "LayoutModel",
          "state": {
            "_view_name": "LayoutView",
            "grid_template_rows": null,
            "right": null,
            "justify_content": null,
            "_view_module": "@jupyter-widgets/base",
            "overflow": null,
            "_model_module_version": "1.2.0",
            "_view_count": null,
            "flex_flow": null,
            "width": null,
            "min_width": null,
            "border": null,
            "align_items": null,
            "bottom": null,
            "_model_module": "@jupyter-widgets/base",
            "top": null,
            "grid_column": null,
            "overflow_y": null,
            "overflow_x": null,
            "grid_auto_flow": null,
            "grid_area": null,
            "grid_template_columns": null,
            "flex": null,
            "_model_name": "LayoutModel",
            "justify_items": null,
            "grid_row": null,
            "max_height": null,
            "align_content": null,
            "visibility": null,
            "align_self": null,
            "height": null,
            "min_height": null,
            "padding": null,
            "grid_auto_rows": null,
            "grid_gap": null,
            "max_width": null,
            "order": null,
            "_view_module_version": "1.2.0",
            "grid_template_areas": null,
            "object_position": null,
            "object_fit": null,
            "grid_auto_columns": null,
            "margin": null,
            "display": null,
            "left": null
          }
        },
        "c75d2789dfd8421e95e3c620561beaa4": {
          "model_module": "@jupyter-widgets/controls",
          "model_name": "HBoxModel",
          "state": {
            "_view_name": "HBoxView",
            "_dom_classes": [],
            "_model_name": "HBoxModel",
            "_view_module": "@jupyter-widgets/controls",
            "_model_module_version": "1.5.0",
            "_view_count": null,
            "_view_module_version": "1.5.0",
            "box_style": "",
            "layout": "IPY_MODEL_8f1b92117a894b5286d3f6d87489fc77",
            "_model_module": "@jupyter-widgets/controls",
            "children": [
              "IPY_MODEL_3026c55766ab44ec92f9e7ec83e884e0",
              "IPY_MODEL_a261721d3e9e4593806475de85100a35"
            ]
          }
        },
        "8f1b92117a894b5286d3f6d87489fc77": {
          "model_module": "@jupyter-widgets/base",
          "model_name": "LayoutModel",
          "state": {
            "_view_name": "LayoutView",
            "grid_template_rows": null,
            "right": null,
            "justify_content": null,
            "_view_module": "@jupyter-widgets/base",
            "overflow": null,
            "_model_module_version": "1.2.0",
            "_view_count": null,
            "flex_flow": null,
            "width": null,
            "min_width": null,
            "border": null,
            "align_items": null,
            "bottom": null,
            "_model_module": "@jupyter-widgets/base",
            "top": null,
            "grid_column": null,
            "overflow_y": null,
            "overflow_x": null,
            "grid_auto_flow": null,
            "grid_area": null,
            "grid_template_columns": null,
            "flex": null,
            "_model_name": "LayoutModel",
            "justify_items": null,
            "grid_row": null,
            "max_height": null,
            "align_content": null,
            "visibility": null,
            "align_self": null,
            "height": null,
            "min_height": null,
            "padding": null,
            "grid_auto_rows": null,
            "grid_gap": null,
            "max_width": null,
            "order": null,
            "_view_module_version": "1.2.0",
            "grid_template_areas": null,
            "object_position": null,
            "object_fit": null,
            "grid_auto_columns": null,
            "margin": null,
            "display": null,
            "left": null
          }
        },
        "3026c55766ab44ec92f9e7ec83e884e0": {
          "model_module": "@jupyter-widgets/controls",
          "model_name": "FloatProgressModel",
          "state": {
            "_view_name": "ProgressView",
            "style": "IPY_MODEL_24b770340ffa49aa9778e1f0a4341fe4",
            "_dom_classes": [],
            "description": "",
            "_model_name": "FloatProgressModel",
            "bar_style": "info",
            "max": 1,
            "_view_module": "@jupyter-widgets/controls",
            "_model_module_version": "1.5.0",
            "value": 1,
            "_view_count": null,
            "_view_module_version": "1.5.0",
            "orientation": "horizontal",
            "min": 0,
            "description_tooltip": null,
            "_model_module": "@jupyter-widgets/controls",
            "layout": "IPY_MODEL_d3fd9c5026264b8b89bd01682b2ed396"
          }
        },
        "a261721d3e9e4593806475de85100a35": {
          "model_module": "@jupyter-widgets/controls",
          "model_name": "HTMLModel",
          "state": {
            "_view_name": "HTMLView",
            "style": "IPY_MODEL_3087a58b6cfb42f789172a51baa0fba4",
            "_dom_classes": [],
            "description": "",
            "_model_name": "HTMLModel",
            "placeholder": "​",
            "_view_module": "@jupyter-widgets/controls",
            "_model_module_version": "1.5.0",
            "value": " 32768/? [00:17&lt;00:00, 115494.14it/s]",
            "_view_count": null,
            "_view_module_version": "1.5.0",
            "description_tooltip": null,
            "_model_module": "@jupyter-widgets/controls",
            "layout": "IPY_MODEL_9ad75cc128a04bb8a242bda18308cc71"
          }
        },
        "24b770340ffa49aa9778e1f0a4341fe4": {
          "model_module": "@jupyter-widgets/controls",
          "model_name": "ProgressStyleModel",
          "state": {
            "_view_name": "StyleView",
            "_model_name": "ProgressStyleModel",
            "description_width": "initial",
            "_view_module": "@jupyter-widgets/base",
            "_model_module_version": "1.5.0",
            "_view_count": null,
            "_view_module_version": "1.2.0",
            "bar_color": null,
            "_model_module": "@jupyter-widgets/controls"
          }
        },
        "d3fd9c5026264b8b89bd01682b2ed396": {
          "model_module": "@jupyter-widgets/base",
          "model_name": "LayoutModel",
          "state": {
            "_view_name": "LayoutView",
            "grid_template_rows": null,
            "right": null,
            "justify_content": null,
            "_view_module": "@jupyter-widgets/base",
            "overflow": null,
            "_model_module_version": "1.2.0",
            "_view_count": null,
            "flex_flow": null,
            "width": null,
            "min_width": null,
            "border": null,
            "align_items": null,
            "bottom": null,
            "_model_module": "@jupyter-widgets/base",
            "top": null,
            "grid_column": null,
            "overflow_y": null,
            "overflow_x": null,
            "grid_auto_flow": null,
            "grid_area": null,
            "grid_template_columns": null,
            "flex": null,
            "_model_name": "LayoutModel",
            "justify_items": null,
            "grid_row": null,
            "max_height": null,
            "align_content": null,
            "visibility": null,
            "align_self": null,
            "height": null,
            "min_height": null,
            "padding": null,
            "grid_auto_rows": null,
            "grid_gap": null,
            "max_width": null,
            "order": null,
            "_view_module_version": "1.2.0",
            "grid_template_areas": null,
            "object_position": null,
            "object_fit": null,
            "grid_auto_columns": null,
            "margin": null,
            "display": null,
            "left": null
          }
        },
        "3087a58b6cfb42f789172a51baa0fba4": {
          "model_module": "@jupyter-widgets/controls",
          "model_name": "DescriptionStyleModel",
          "state": {
            "_view_name": "StyleView",
            "_model_name": "DescriptionStyleModel",
            "description_width": "",
            "_view_module": "@jupyter-widgets/base",
            "_model_module_version": "1.5.0",
            "_view_count": null,
            "_view_module_version": "1.2.0",
            "_model_module": "@jupyter-widgets/controls"
          }
        },
        "9ad75cc128a04bb8a242bda18308cc71": {
          "model_module": "@jupyter-widgets/base",
          "model_name": "LayoutModel",
          "state": {
            "_view_name": "LayoutView",
            "grid_template_rows": null,
            "right": null,
            "justify_content": null,
            "_view_module": "@jupyter-widgets/base",
            "overflow": null,
            "_model_module_version": "1.2.0",
            "_view_count": null,
            "flex_flow": null,
            "width": null,
            "min_width": null,
            "border": null,
            "align_items": null,
            "bottom": null,
            "_model_module": "@jupyter-widgets/base",
            "top": null,
            "grid_column": null,
            "overflow_y": null,
            "overflow_x": null,
            "grid_auto_flow": null,
            "grid_area": null,
            "grid_template_columns": null,
            "flex": null,
            "_model_name": "LayoutModel",
            "justify_items": null,
            "grid_row": null,
            "max_height": null,
            "align_content": null,
            "visibility": null,
            "align_self": null,
            "height": null,
            "min_height": null,
            "padding": null,
            "grid_auto_rows": null,
            "grid_gap": null,
            "max_width": null,
            "order": null,
            "_view_module_version": "1.2.0",
            "grid_template_areas": null,
            "object_position": null,
            "object_fit": null,
            "grid_auto_columns": null,
            "margin": null,
            "display": null,
            "left": null
          }
        },
        "48292c72dc7746348652fc58e4b56cab": {
          "model_module": "@jupyter-widgets/controls",
          "model_name": "HBoxModel",
          "state": {
            "_view_name": "HBoxView",
            "_dom_classes": [],
            "_model_name": "HBoxModel",
            "_view_module": "@jupyter-widgets/controls",
            "_model_module_version": "1.5.0",
            "_view_count": null,
            "_view_module_version": "1.5.0",
            "box_style": "",
            "layout": "IPY_MODEL_0e71b12d76cd4a0e93b1d9b2849afb50",
            "_model_module": "@jupyter-widgets/controls",
            "children": [
              "IPY_MODEL_a9a933c68fe147bdb5d834c29c82e148",
              "IPY_MODEL_7492b40f6be641c3a1f8f1cd77a112c3"
            ]
          }
        },
        "0e71b12d76cd4a0e93b1d9b2849afb50": {
          "model_module": "@jupyter-widgets/base",
          "model_name": "LayoutModel",
          "state": {
            "_view_name": "LayoutView",
            "grid_template_rows": null,
            "right": null,
            "justify_content": null,
            "_view_module": "@jupyter-widgets/base",
            "overflow": null,
            "_model_module_version": "1.2.0",
            "_view_count": null,
            "flex_flow": null,
            "width": null,
            "min_width": null,
            "border": null,
            "align_items": null,
            "bottom": null,
            "_model_module": "@jupyter-widgets/base",
            "top": null,
            "grid_column": null,
            "overflow_y": null,
            "overflow_x": null,
            "grid_auto_flow": null,
            "grid_area": null,
            "grid_template_columns": null,
            "flex": null,
            "_model_name": "LayoutModel",
            "justify_items": null,
            "grid_row": null,
            "max_height": null,
            "align_content": null,
            "visibility": null,
            "align_self": null,
            "height": null,
            "min_height": null,
            "padding": null,
            "grid_auto_rows": null,
            "grid_gap": null,
            "max_width": null,
            "order": null,
            "_view_module_version": "1.2.0",
            "grid_template_areas": null,
            "object_position": null,
            "object_fit": null,
            "grid_auto_columns": null,
            "margin": null,
            "display": null,
            "left": null
          }
        },
        "a9a933c68fe147bdb5d834c29c82e148": {
          "model_module": "@jupyter-widgets/controls",
          "model_name": "FloatProgressModel",
          "state": {
            "_view_name": "ProgressView",
            "style": "IPY_MODEL_b53da21b48e5438ba50b962a4122203c",
            "_dom_classes": [],
            "description": "",
            "_model_name": "FloatProgressModel",
            "bar_style": "info",
            "max": 1,
            "_view_module": "@jupyter-widgets/controls",
            "_model_module_version": "1.5.0",
            "value": 1,
            "_view_count": null,
            "_view_module_version": "1.5.0",
            "orientation": "horizontal",
            "min": 0,
            "description_tooltip": null,
            "_model_module": "@jupyter-widgets/controls",
            "layout": "IPY_MODEL_08c696067eb941cb89ece1865bb978bb"
          }
        },
        "7492b40f6be641c3a1f8f1cd77a112c3": {
          "model_module": "@jupyter-widgets/controls",
          "model_name": "HTMLModel",
          "state": {
            "_view_name": "HTMLView",
            "style": "IPY_MODEL_a78898c6fb674dcba48f834c4ad1579e",
            "_dom_classes": [],
            "description": "",
            "_model_name": "HTMLModel",
            "placeholder": "​",
            "_view_module": "@jupyter-widgets/controls",
            "_model_module_version": "1.5.0",
            "value": " 4423680/? [00:16&lt;00:00, 817259.55it/s]",
            "_view_count": null,
            "_view_module_version": "1.5.0",
            "description_tooltip": null,
            "_model_module": "@jupyter-widgets/controls",
            "layout": "IPY_MODEL_5265c61e733c4c41a0cf79f201110909"
          }
        },
        "b53da21b48e5438ba50b962a4122203c": {
          "model_module": "@jupyter-widgets/controls",
          "model_name": "ProgressStyleModel",
          "state": {
            "_view_name": "StyleView",
            "_model_name": "ProgressStyleModel",
            "description_width": "initial",
            "_view_module": "@jupyter-widgets/base",
            "_model_module_version": "1.5.0",
            "_view_count": null,
            "_view_module_version": "1.2.0",
            "bar_color": null,
            "_model_module": "@jupyter-widgets/controls"
          }
        },
        "08c696067eb941cb89ece1865bb978bb": {
          "model_module": "@jupyter-widgets/base",
          "model_name": "LayoutModel",
          "state": {
            "_view_name": "LayoutView",
            "grid_template_rows": null,
            "right": null,
            "justify_content": null,
            "_view_module": "@jupyter-widgets/base",
            "overflow": null,
            "_model_module_version": "1.2.0",
            "_view_count": null,
            "flex_flow": null,
            "width": null,
            "min_width": null,
            "border": null,
            "align_items": null,
            "bottom": null,
            "_model_module": "@jupyter-widgets/base",
            "top": null,
            "grid_column": null,
            "overflow_y": null,
            "overflow_x": null,
            "grid_auto_flow": null,
            "grid_area": null,
            "grid_template_columns": null,
            "flex": null,
            "_model_name": "LayoutModel",
            "justify_items": null,
            "grid_row": null,
            "max_height": null,
            "align_content": null,
            "visibility": null,
            "align_self": null,
            "height": null,
            "min_height": null,
            "padding": null,
            "grid_auto_rows": null,
            "grid_gap": null,
            "max_width": null,
            "order": null,
            "_view_module_version": "1.2.0",
            "grid_template_areas": null,
            "object_position": null,
            "object_fit": null,
            "grid_auto_columns": null,
            "margin": null,
            "display": null,
            "left": null
          }
        },
        "a78898c6fb674dcba48f834c4ad1579e": {
          "model_module": "@jupyter-widgets/controls",
          "model_name": "DescriptionStyleModel",
          "state": {
            "_view_name": "StyleView",
            "_model_name": "DescriptionStyleModel",
            "description_width": "",
            "_view_module": "@jupyter-widgets/base",
            "_model_module_version": "1.5.0",
            "_view_count": null,
            "_view_module_version": "1.2.0",
            "_model_module": "@jupyter-widgets/controls"
          }
        },
        "5265c61e733c4c41a0cf79f201110909": {
          "model_module": "@jupyter-widgets/base",
          "model_name": "LayoutModel",
          "state": {
            "_view_name": "LayoutView",
            "grid_template_rows": null,
            "right": null,
            "justify_content": null,
            "_view_module": "@jupyter-widgets/base",
            "overflow": null,
            "_model_module_version": "1.2.0",
            "_view_count": null,
            "flex_flow": null,
            "width": null,
            "min_width": null,
            "border": null,
            "align_items": null,
            "bottom": null,
            "_model_module": "@jupyter-widgets/base",
            "top": null,
            "grid_column": null,
            "overflow_y": null,
            "overflow_x": null,
            "grid_auto_flow": null,
            "grid_area": null,
            "grid_template_columns": null,
            "flex": null,
            "_model_name": "LayoutModel",
            "justify_items": null,
            "grid_row": null,
            "max_height": null,
            "align_content": null,
            "visibility": null,
            "align_self": null,
            "height": null,
            "min_height": null,
            "padding": null,
            "grid_auto_rows": null,
            "grid_gap": null,
            "max_width": null,
            "order": null,
            "_view_module_version": "1.2.0",
            "grid_template_areas": null,
            "object_position": null,
            "object_fit": null,
            "grid_auto_columns": null,
            "margin": null,
            "display": null,
            "left": null
          }
        },
        "d314bb6c546745fab4e71a0aa788935d": {
          "model_module": "@jupyter-widgets/controls",
          "model_name": "HBoxModel",
          "state": {
            "_view_name": "HBoxView",
            "_dom_classes": [],
            "_model_name": "HBoxModel",
            "_view_module": "@jupyter-widgets/controls",
            "_model_module_version": "1.5.0",
            "_view_count": null,
            "_view_module_version": "1.5.0",
            "box_style": "",
            "layout": "IPY_MODEL_de3cedef0ee4462b9bdd52659b771664",
            "_model_module": "@jupyter-widgets/controls",
            "children": [
              "IPY_MODEL_0e6a79ebe71c47de924d2c17bfd37e4c",
              "IPY_MODEL_1eab6082b51d4ffca7b2e5037a931882"
            ]
          }
        },
        "de3cedef0ee4462b9bdd52659b771664": {
          "model_module": "@jupyter-widgets/base",
          "model_name": "LayoutModel",
          "state": {
            "_view_name": "LayoutView",
            "grid_template_rows": null,
            "right": null,
            "justify_content": null,
            "_view_module": "@jupyter-widgets/base",
            "overflow": null,
            "_model_module_version": "1.2.0",
            "_view_count": null,
            "flex_flow": null,
            "width": null,
            "min_width": null,
            "border": null,
            "align_items": null,
            "bottom": null,
            "_model_module": "@jupyter-widgets/base",
            "top": null,
            "grid_column": null,
            "overflow_y": null,
            "overflow_x": null,
            "grid_auto_flow": null,
            "grid_area": null,
            "grid_template_columns": null,
            "flex": null,
            "_model_name": "LayoutModel",
            "justify_items": null,
            "grid_row": null,
            "max_height": null,
            "align_content": null,
            "visibility": null,
            "align_self": null,
            "height": null,
            "min_height": null,
            "padding": null,
            "grid_auto_rows": null,
            "grid_gap": null,
            "max_width": null,
            "order": null,
            "_view_module_version": "1.2.0",
            "grid_template_areas": null,
            "object_position": null,
            "object_fit": null,
            "grid_auto_columns": null,
            "margin": null,
            "display": null,
            "left": null
          }
        },
        "0e6a79ebe71c47de924d2c17bfd37e4c": {
          "model_module": "@jupyter-widgets/controls",
          "model_name": "FloatProgressModel",
          "state": {
            "_view_name": "ProgressView",
            "style": "IPY_MODEL_d1b3d634b5084e31958d28da4ef89c12",
            "_dom_classes": [],
            "description": "  0%",
            "_model_name": "FloatProgressModel",
            "bar_style": "info",
            "max": 1,
            "_view_module": "@jupyter-widgets/controls",
            "_model_module_version": "1.5.0",
            "value": 0,
            "_view_count": null,
            "_view_module_version": "1.5.0",
            "orientation": "horizontal",
            "min": 0,
            "description_tooltip": null,
            "_model_module": "@jupyter-widgets/controls",
            "layout": "IPY_MODEL_470c5554bbed403cb64ee9b242a7bd92"
          }
        },
        "1eab6082b51d4ffca7b2e5037a931882": {
          "model_module": "@jupyter-widgets/controls",
          "model_name": "HTMLModel",
          "state": {
            "_view_name": "HTMLView",
            "style": "IPY_MODEL_02da5e6e80cb47379ac0a2c1d25a4549",
            "_dom_classes": [],
            "description": "",
            "_model_name": "HTMLModel",
            "placeholder": "​",
            "_view_module": "@jupyter-widgets/controls",
            "_model_module_version": "1.5.0",
            "value": " 0/5148 [00:00&lt;?, ?it/s]",
            "_view_count": null,
            "_view_module_version": "1.5.0",
            "description_tooltip": null,
            "_model_module": "@jupyter-widgets/controls",
            "layout": "IPY_MODEL_8e472f761cf9405b8885bd9909063e75"
          }
        },
        "d1b3d634b5084e31958d28da4ef89c12": {
          "model_module": "@jupyter-widgets/controls",
          "model_name": "ProgressStyleModel",
          "state": {
            "_view_name": "StyleView",
            "_model_name": "ProgressStyleModel",
            "description_width": "initial",
            "_view_module": "@jupyter-widgets/base",
            "_model_module_version": "1.5.0",
            "_view_count": null,
            "_view_module_version": "1.2.0",
            "bar_color": null,
            "_model_module": "@jupyter-widgets/controls"
          }
        },
        "470c5554bbed403cb64ee9b242a7bd92": {
          "model_module": "@jupyter-widgets/base",
          "model_name": "LayoutModel",
          "state": {
            "_view_name": "LayoutView",
            "grid_template_rows": null,
            "right": null,
            "justify_content": null,
            "_view_module": "@jupyter-widgets/base",
            "overflow": null,
            "_model_module_version": "1.2.0",
            "_view_count": null,
            "flex_flow": null,
            "width": null,
            "min_width": null,
            "border": null,
            "align_items": null,
            "bottom": null,
            "_model_module": "@jupyter-widgets/base",
            "top": null,
            "grid_column": null,
            "overflow_y": null,
            "overflow_x": null,
            "grid_auto_flow": null,
            "grid_area": null,
            "grid_template_columns": null,
            "flex": null,
            "_model_name": "LayoutModel",
            "justify_items": null,
            "grid_row": null,
            "max_height": null,
            "align_content": null,
            "visibility": null,
            "align_self": null,
            "height": null,
            "min_height": null,
            "padding": null,
            "grid_auto_rows": null,
            "grid_gap": null,
            "max_width": null,
            "order": null,
            "_view_module_version": "1.2.0",
            "grid_template_areas": null,
            "object_position": null,
            "object_fit": null,
            "grid_auto_columns": null,
            "margin": null,
            "display": null,
            "left": null
          }
        },
        "02da5e6e80cb47379ac0a2c1d25a4549": {
          "model_module": "@jupyter-widgets/controls",
          "model_name": "DescriptionStyleModel",
          "state": {
            "_view_name": "StyleView",
            "_model_name": "DescriptionStyleModel",
            "description_width": "",
            "_view_module": "@jupyter-widgets/base",
            "_model_module_version": "1.5.0",
            "_view_count": null,
            "_view_module_version": "1.2.0",
            "_model_module": "@jupyter-widgets/controls"
          }
        },
        "8e472f761cf9405b8885bd9909063e75": {
          "model_module": "@jupyter-widgets/base",
          "model_name": "LayoutModel",
          "state": {
            "_view_name": "LayoutView",
            "grid_template_rows": null,
            "right": null,
            "justify_content": null,
            "_view_module": "@jupyter-widgets/base",
            "overflow": null,
            "_model_module_version": "1.2.0",
            "_view_count": null,
            "flex_flow": null,
            "width": null,
            "min_width": null,
            "border": null,
            "align_items": null,
            "bottom": null,
            "_model_module": "@jupyter-widgets/base",
            "top": null,
            "grid_column": null,
            "overflow_y": null,
            "overflow_x": null,
            "grid_auto_flow": null,
            "grid_area": null,
            "grid_template_columns": null,
            "flex": null,
            "_model_name": "LayoutModel",
            "justify_items": null,
            "grid_row": null,
            "max_height": null,
            "align_content": null,
            "visibility": null,
            "align_self": null,
            "height": null,
            "min_height": null,
            "padding": null,
            "grid_auto_rows": null,
            "grid_gap": null,
            "max_width": null,
            "order": null,
            "_view_module_version": "1.2.0",
            "grid_template_areas": null,
            "object_position": null,
            "object_fit": null,
            "grid_auto_columns": null,
            "margin": null,
            "display": null,
            "left": null
          }
        }
      }
    }
  },
  "cells": [
    {
      "cell_type": "markdown",
      "metadata": {
        "id": "view-in-github",
        "colab_type": "text"
      },
      "source": [
        "<a href=\"https://colab.research.google.com/github/Matrixmax/Dive_into_DeepLearning/blob/main/0x31_%E6%AE%8B%E5%B7%AE%E7%BD%91%E7%BB%9C%EF%BC%88ResNet%EF%BC%89.ipynb\" target=\"_parent\"><img src=\"https://colab.research.google.com/assets/colab-badge.svg\" alt=\"Open In Colab\"/></a>"
      ]
    },
    {
      "cell_type": "markdown",
      "metadata": {
        "id": "NUivQhYIiILn"
      },
      "source": [
        "让我们先思考一个问题：对神经网络模型添加新的层，充分训练后的模型是否只可能更有效地降低训练误差？理论上，原模型解的空间只是新模型解的空间的子空间。也就是说，如果我们能将新添加的层训练成恒等映射f(x) = x，新模型和原模型将同样有效。由于新模型可能得出更优的解来拟合训练数据集，因此添加层似乎更容易降低训练误差。然而在实践中，添加过多的层后训练误差往往不降反升。即使利用批量归一化带来的数值稳定性使训练深层模型更加容易，该问题仍然存在。针对这一问题，何恺明等人提出了残差网络（ResNet） [1]。它在2015年的ImageNet图像识别挑战赛夺魁，并深刻影响了后来的深度神经网络的设计。"
      ]
    },
    {
      "cell_type": "markdown",
      "metadata": {
        "id": "cc_8QGqHiNTj"
      },
      "source": [
        "## 1. 残差块\r\n",
        "![image.png](data:image/png;base64,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)"
      ]
    },
    {
      "cell_type": "markdown",
      "metadata": {
        "id": "ZHQCeWHKiT9T"
      },
      "source": [
        "让我们聚焦于神经网络局部。如图5.9所示，设输入为x。假设我们希望学出的理想映射为)f(x)，从而作为图5.9上方激活函数的输入。左图虚线框中的部分需要直接拟合出该映射f(x)，而右图虚线框中的部分则需要拟合出有关恒等映射的残差映射f(x)−x。残差映射在实际中往往更容易优化。以本节开头提到的恒等映射作为我们希望学出的理想映射f(x)。我们只需将图5.9中右图虚线框内上方的加权运算（如仿射）的权重和偏差参数学成0，那么f(x)即为恒等映射。实际中，当理想映射f(x)极接近于恒等映射时，残差映射也易于捕捉恒等映射的细微波动。图5.9右图也是ResNet的基础块，即残差块（residual block）。在残差块中，输入可通过跨层的数据线路更快地向前传播。"
      ]
    },
    {
      "cell_type": "markdown",
      "metadata": {
        "id": "P-6AG45GFOe-"
      },
      "source": [
        "ResNet沿用了VGG全3×3卷积层的设计。残差块里首先有2个有相同输出通道数的3×3卷积层。每个卷积层后接一个批量归一化层和ReLU激活函数。然后我们将输入跳过这两个卷积运算后直接加在最后的ReLU激活函数前。这样的设计要求两个卷积层的输出与输入形状一样，从而可以相加。如果想改变通道数，就需要引入一个额外的1×1卷积层来将输入变换成需要的形状后再做相加运算。\r\n",
        "\r\n",
        "残差块的实现如下。它可以设定输出通道数、是否使用额外的1×1卷积层来修改通道数以及卷积层的步幅。"
      ]
    },
    {
      "cell_type": "code",
      "metadata": {
        "colab": {
          "base_uri": "https://localhost:8080/"
        },
        "id": "BMiQEv2riCwJ",
        "outputId": "ebfdb638-cd29-4c2f-f0e6-6b75e9293d02"
      },
      "source": [
        "import time\r\n",
        "import torch\r\n",
        "from torch import nn,optim\r\n",
        "import torch.nn.functional as F\r\n",
        "import sys\r\n",
        "import d2lzh_pytorch as d2l\r\n",
        "\r\n",
        "from google.colab import drive\r\n",
        "drive.mount('/content/drive')\r\n",
        "sys.path.append('/content/drive/My Drive/Colab Notebooks/Dive_Into_Deep_Learning')"
      ],
      "execution_count": 15,
      "outputs": [
        {
          "output_type": "stream",
          "text": [
            "Drive already mounted at /content/drive; to attempt to forcibly remount, call drive.mount(\"/content/drive\", force_remount=True).\n"
          ],
          "name": "stdout"
        }
      ]
    },
    {
      "cell_type": "code",
      "metadata": {
        "colab": {
          "base_uri": "https://localhost:8080/"
        },
        "id": "QxflspKKGn0P",
        "outputId": "5c8ef52e-2c11-4131-8fb5-a78cfe8c163d"
      },
      "source": [
        "device = torch.device('cuda' if torch.cuda.is_available() else 'cpu')\r\n",
        "!nvidia-smi"
      ],
      "execution_count": 4,
      "outputs": [
        {
          "output_type": "stream",
          "text": [
            "Wed Feb 17 13:08:46 2021       \n",
            "+-----------------------------------------------------------------------------+\n",
            "| NVIDIA-SMI 460.39       Driver Version: 460.32.03    CUDA Version: 11.2     |\n",
            "|-------------------------------+----------------------+----------------------+\n",
            "| GPU  Name        Persistence-M| Bus-Id        Disp.A | Volatile Uncorr. ECC |\n",
            "| Fan  Temp  Perf  Pwr:Usage/Cap|         Memory-Usage | GPU-Util  Compute M. |\n",
            "|                               |                      |               MIG M. |\n",
            "|===============================+======================+======================|\n",
            "|   0  Tesla T4            Off  | 00000000:00:04.0 Off |                    0 |\n",
            "| N/A   50C    P8    10W /  70W |      3MiB / 15109MiB |      0%      Default |\n",
            "|                               |                      |                  N/A |\n",
            "+-------------------------------+----------------------+----------------------+\n",
            "                                                                               \n",
            "+-----------------------------------------------------------------------------+\n",
            "| Processes:                                                                  |\n",
            "|  GPU   GI   CI        PID   Type   Process name                  GPU Memory |\n",
            "|        ID   ID                                                   Usage      |\n",
            "|=============================================================================|\n",
            "|  No running processes found                                                 |\n",
            "+-----------------------------------------------------------------------------+\n"
          ],
          "name": "stdout"
        }
      ]
    },
    {
      "cell_type": "code",
      "metadata": {
        "id": "IvIJbx_IG4WQ"
      },
      "source": [
        "class Residual(nn.Module):\r\n",
        "    def __init__(self,in_channels,out_channels,use_1x1conv=False,stride=1):\r\n",
        "        super(Residual,self).__init__()\r\n",
        "        self.conv1 = nn.Conv2d(in_channels,out_channels,kernel_size=3,padding=1,stride=stride)\r\n",
        "        self.conv2 = nn.Conv2d(out_channels,out_channels,kernel_size=3,padding=1)\r\n",
        "        if use_1x1conv:\r\n",
        "            self.conv3 = nn.Conv2d(in_channels,out_channels,kernel_size=1,stride=stride)\r\n",
        "        else:\r\n",
        "            self.conv3 = None\r\n",
        "        self.bn1 = nn.BatchNorm2d(out_channels)\r\n",
        "        self.bn2 = nn.BatchNorm2d(out_channels)\r\n",
        "    \r\n",
        "    def forward(self,X):\r\n",
        "        Y = F.relu(self.bn1(self.conv1(X)))\r\n",
        "        Y = self.bn2(self.conv2(Y))\r\n",
        "        if self.conv3:\r\n",
        "            X = self.conv3(X)\r\n",
        "        return F.relu(Y+X)"
      ],
      "execution_count": 6,
      "outputs": []
    },
    {
      "cell_type": "code",
      "metadata": {
        "colab": {
          "base_uri": "https://localhost:8080/"
        },
        "id": "oSVqgiduKPC7",
        "outputId": "fc5a9cf2-bac5-4162-b4c9-a8419eddb29d"
      },
      "source": [
        "# 下面我们来查看输入和输出形状一致的情况。\r\n",
        "blk = Residual(3,3)\r\n",
        "X = torch.rand((4,3,6,6))\r\n",
        "blk(X).shape #torch.Size([4,3,6,6])"
      ],
      "execution_count": 9,
      "outputs": [
        {
          "output_type": "execute_result",
          "data": {
            "text/plain": [
              "torch.Size([4, 3, 6, 6])"
            ]
          },
          "metadata": {
            "tags": []
          },
          "execution_count": 9
        }
      ]
    },
    {
      "cell_type": "code",
      "metadata": {
        "colab": {
          "base_uri": "https://localhost:8080/"
        },
        "id": "NwOvcYn6Kg0c",
        "outputId": "b77c1472-aab1-4f48-a826-4d57b689b78f"
      },
      "source": [
        "# 我们也可以在增加输出通道数的同时减半输出的高和宽。\r\n",
        "blk = Residual(3,6,use_1x1conv=True,stride=2)\r\n",
        "blk(X).shape #torch.Size([4, 6, 3, 3])\r\n"
      ],
      "execution_count": 11,
      "outputs": [
        {
          "output_type": "execute_result",
          "data": {
            "text/plain": [
              "torch.Size([4, 6, 3, 3])"
            ]
          },
          "metadata": {
            "tags": []
          },
          "execution_count": 11
        }
      ]
    },
    {
      "cell_type": "markdown",
      "metadata": {
        "id": "f2zzEPbzKOS_"
      },
      "source": [
        "## 2. ResNet模型\r\n",
        "ResNet的前两层跟之前介绍的GoogLeNet中的一样：在输出通道数为64、步幅为2的7×7卷积层后接步幅为2的3×3的最大池化层。不同之处在于ResNet每个卷积层后增加的批量归一化层。"
      ]
    },
    {
      "cell_type": "code",
      "metadata": {
        "id": "4y25wvTnK35A"
      },
      "source": [
        "net = nn.Sequential(\r\n",
        "    nn.Conv2d(1,64,kernel_size=7,stride=2,padding=3),\r\n",
        "    nn.BatchNorm2d(64),\r\n",
        "    nn.ReLU(),\r\n",
        "    nn.MaxPool2d(kernel_size=3,stride=2,padding=1)\r\n",
        ")"
      ],
      "execution_count": 12,
      "outputs": []
    },
    {
      "cell_type": "markdown",
      "metadata": {
        "id": "zL3JzrYHMdv-"
      },
      "source": [
        "GoogLeNet在后面接了4个由Inception块组成的模块。ResNet则使用4个由残差块组成的模块，每个模块使用若干个同样输出通道数的残差块。第一个模块的通道数同输入通道数一致。由于之前已经使用了步幅为2的最大池化层，所以无须减小高和宽。之后的每个模块在第一个残差块里将上一个模块的通道数翻倍，并将高和宽减半。\r\n",
        "\r\n",
        "下面我们来实现这个模块。注意，这里对第一个模块做了特别处理。"
      ]
    },
    {
      "cell_type": "code",
      "metadata": {
        "id": "yv5rbN16MeIJ"
      },
      "source": [
        "def resnet_block(in_channels,out_channels,num_residuals,first_block=False):\r\n",
        "    if first_block:\r\n",
        "        assert in_channels == out_channels# 第一个模块的通道数同输入通道数一致\r\n",
        "    blk = []\r\n",
        "    for i in range(num_residuals):\r\n",
        "        if i==0 and not first_block:\r\n",
        "            blk.append(Residual(in_channels,out_channels,use_1x1conv=True,stride=2))\r\n",
        "        else:\r\n",
        "            blk.append(Residual(out_channels,out_channels))\r\n",
        "    return nn.Sequential(*blk)"
      ],
      "execution_count": 13,
      "outputs": []
    },
    {
      "cell_type": "code",
      "metadata": {
        "id": "wMmx8_xAOGyd"
      },
      "source": [
        "# 接着我们为ResNet加入所有残差块。这里每个模块使用两个残差块。\r\n",
        "net.add_module(\"resnet_block1\", resnet_block(64, 64, 2, first_block=True))\r\n",
        "net.add_module(\"resnet_block2\", resnet_block(64, 128, 2))\r\n",
        "net.add_module(\"resnet_block3\", resnet_block(128, 256, 2))\r\n",
        "net.add_module(\"resnet_block4\", resnet_block(256, 512, 2))\r\n"
      ],
      "execution_count": 16,
      "outputs": []
    },
    {
      "cell_type": "code",
      "metadata": {
        "id": "YBSWzVnGOMx_"
      },
      "source": [
        "# 最后，与GoogLeNet一样，加入全局平均池化层后接上全连接层输出。\r\n",
        "net.add_module('global_avg_pool',d2l.GlobalAvgPool2d()) # GlobalAvgPool2d的输出: (Batch, 512, 1, 1)\r\n",
        "net.add_module(\"fc\",nn.Sequential(d2l.FlattenLayer(), nn.Linear(512, 10)))"
      ],
      "execution_count": 17,
      "outputs": []
    },
    {
      "cell_type": "markdown",
      "metadata": {
        "id": "eD_IXsGyOGZP"
      },
      "source": [
        "这里每个模块里有4个卷积层（不计算1×1卷积层），加上最开始的卷积层和最后的全连接层，共计18层。这个模型通常也被称为ResNet-18。通过配置不同的通道数和模块里的残差块数可以得到不同的ResNet模型，例如更深的含152层的ResNet-152。虽然ResNet的主体架构跟GoogLeNet的类似，但ResNet结构更简单，修改也更方便。这些因素都导致了ResNet迅速被广泛使用。\r\n",
        "\r\n",
        "在训练ResNet之前，我们来观察一下输入形状在ResNet不同模块之间的变化。"
      ]
    },
    {
      "cell_type": "code",
      "metadata": {
        "colab": {
          "base_uri": "https://localhost:8080/"
        },
        "id": "FCImCLztOngp",
        "outputId": "1ec071ee-8fcf-4a4b-b5f6-e2bd672c8d4d"
      },
      "source": [
        "X = torch.rand((1, 1, 224, 224))\r\n",
        "for name, layer in net.named_children():\r\n",
        "    X = layer(X)\r\n",
        "    print(name, ' output shape:\\t', X.shape)\r\n"
      ],
      "execution_count": 18,
      "outputs": [
        {
          "output_type": "stream",
          "text": [
            "0  output shape:\t torch.Size([1, 64, 112, 112])\n",
            "1  output shape:\t torch.Size([1, 64, 112, 112])\n",
            "2  output shape:\t torch.Size([1, 64, 112, 112])\n",
            "3  output shape:\t torch.Size([1, 64, 56, 56])\n",
            "resnet_block1  output shape:\t torch.Size([1, 64, 56, 56])\n",
            "resnet_block2  output shape:\t torch.Size([1, 128, 28, 28])\n",
            "resnet_block3  output shape:\t torch.Size([1, 256, 14, 14])\n",
            "resnet_block4  output shape:\t torch.Size([1, 512, 7, 7])\n",
            "global_avg_pool  output shape:\t torch.Size([1, 512, 1, 1])\n",
            "fc  output shape:\t torch.Size([1, 10])\n"
          ],
          "name": "stdout"
        }
      ]
    },
    {
      "cell_type": "markdown",
      "metadata": {
        "id": "iLcQ4BvdOvjc"
      },
      "source": [
        "## 3.获取数据和训练模型"
      ]
    },
    {
      "cell_type": "code",
      "metadata": {
        "colab": {
          "base_uri": "https://localhost:8080/",
          "height": 489,
          "referenced_widgets": [
            "37c3127d815f401e98f6ed7a36de68ef",
            "56ef7bc35aa148aabc3e24c9c58e9655",
            "5dd46cc3e5b448818ddef83ce9918d57",
            "93dc2c1d6cdd4b398e2816acedcb6773",
            "b27ec2fc84d740cf808e63e3ded35b7b",
            "abb4d06c057848deb34e56181bdaaba6",
            "d26cba414d264b0c80aad917258a5fca",
            "93154c32eefe435b88da48d7164fe378",
            "c75d2789dfd8421e95e3c620561beaa4",
            "8f1b92117a894b5286d3f6d87489fc77",
            "3026c55766ab44ec92f9e7ec83e884e0",
            "a261721d3e9e4593806475de85100a35",
            "24b770340ffa49aa9778e1f0a4341fe4",
            "d3fd9c5026264b8b89bd01682b2ed396",
            "3087a58b6cfb42f789172a51baa0fba4",
            "9ad75cc128a04bb8a242bda18308cc71",
            "48292c72dc7746348652fc58e4b56cab",
            "0e71b12d76cd4a0e93b1d9b2849afb50",
            "a9a933c68fe147bdb5d834c29c82e148",
            "7492b40f6be641c3a1f8f1cd77a112c3",
            "b53da21b48e5438ba50b962a4122203c",
            "08c696067eb941cb89ece1865bb978bb",
            "a78898c6fb674dcba48f834c4ad1579e",
            "5265c61e733c4c41a0cf79f201110909",
            "d314bb6c546745fab4e71a0aa788935d",
            "de3cedef0ee4462b9bdd52659b771664",
            "0e6a79ebe71c47de924d2c17bfd37e4c",
            "1eab6082b51d4ffca7b2e5037a931882",
            "d1b3d634b5084e31958d28da4ef89c12",
            "470c5554bbed403cb64ee9b242a7bd92",
            "02da5e6e80cb47379ac0a2c1d25a4549",
            "8e472f761cf9405b8885bd9909063e75"
          ]
        },
        "id": "ro9myr20Osh1",
        "outputId": "a0931cda-d137-4d1e-aa28-6eb167563e38"
      },
      "source": [
        "batch_size = 256\r\n",
        "# 如出现“out of memory”的报错信息，可减小batch_size或resize\r\n",
        "train_iter, test_iter = d2l.load_data_fashion_mnist(batch_size, resize=96)\r\n",
        "\r\n",
        "lr, num_epochs = 0.001, 5\r\n",
        "optimizer = torch.optim.Adam(net.parameters(), lr=lr)\r\n",
        "d2l.train_ch5(net, train_iter, test_iter, batch_size, optimizer, device, num_epochs)\r\n"
      ],
      "execution_count": 19,
      "outputs": [
        {
          "output_type": "stream",
          "text": [
            "Downloading http://fashion-mnist.s3-website.eu-central-1.amazonaws.com/train-images-idx3-ubyte.gz to /root/Datasets/FashionMNIST/FashionMNIST/raw/train-images-idx3-ubyte.gz\n"
          ],
          "name": "stdout"
        },
        {
          "output_type": "display_data",
          "data": {
            "application/vnd.jupyter.widget-view+json": {
              "model_id": "37c3127d815f401e98f6ed7a36de68ef",
              "version_minor": 0,
              "version_major": 2
            },
            "text/plain": [
              "HBox(children=(FloatProgress(value=1.0, bar_style='info', max=1.0), HTML(value='')))"
            ]
          },
          "metadata": {
            "tags": []
          }
        },
        {
          "output_type": "stream",
          "text": [
            "Extracting /root/Datasets/FashionMNIST/FashionMNIST/raw/train-images-idx3-ubyte.gz to /root/Datasets/FashionMNIST/FashionMNIST/raw\n",
            "Downloading http://fashion-mnist.s3-website.eu-central-1.amazonaws.com/train-labels-idx1-ubyte.gz to /root/Datasets/FashionMNIST/FashionMNIST/raw/train-labels-idx1-ubyte.gz\n"
          ],
          "name": "stdout"
        },
        {
          "output_type": "display_data",
          "data": {
            "application/vnd.jupyter.widget-view+json": {
              "model_id": "c75d2789dfd8421e95e3c620561beaa4",
              "version_minor": 0,
              "version_major": 2
            },
            "text/plain": [
              "HBox(children=(FloatProgress(value=1.0, bar_style='info', max=1.0), HTML(value='')))"
            ]
          },
          "metadata": {
            "tags": []
          }
        },
        {
          "output_type": "stream",
          "text": [
            "Extracting /root/Datasets/FashionMNIST/FashionMNIST/raw/train-labels-idx1-ubyte.gz to /root/Datasets/FashionMNIST/FashionMNIST/raw\n",
            "Downloading http://fashion-mnist.s3-website.eu-central-1.amazonaws.com/t10k-images-idx3-ubyte.gz to /root/Datasets/FashionMNIST/FashionMNIST/raw/t10k-images-idx3-ubyte.gz\n"
          ],
          "name": "stdout"
        },
        {
          "output_type": "display_data",
          "data": {
            "application/vnd.jupyter.widget-view+json": {
              "model_id": "48292c72dc7746348652fc58e4b56cab",
              "version_minor": 0,
              "version_major": 2
            },
            "text/plain": [
              "HBox(children=(FloatProgress(value=1.0, bar_style='info', max=1.0), HTML(value='')))"
            ]
          },
          "metadata": {
            "tags": []
          }
        },
        {
          "output_type": "stream",
          "text": [
            "Extracting /root/Datasets/FashionMNIST/FashionMNIST/raw/t10k-images-idx3-ubyte.gz to /root/Datasets/FashionMNIST/FashionMNIST/raw\n",
            "Downloading http://fashion-mnist.s3-website.eu-central-1.amazonaws.com/t10k-labels-idx1-ubyte.gz to /root/Datasets/FashionMNIST/FashionMNIST/raw/t10k-labels-idx1-ubyte.gz\n"
          ],
          "name": "stdout"
        },
        {
          "output_type": "display_data",
          "data": {
            "application/vnd.jupyter.widget-view+json": {
              "model_id": "d314bb6c546745fab4e71a0aa788935d",
              "version_minor": 0,
              "version_major": 2
            },
            "text/plain": [
              "HBox(children=(FloatProgress(value=1.0, bar_style='info', max=1.0), HTML(value='')))"
            ]
          },
          "metadata": {
            "tags": []
          }
        },
        {
          "output_type": "stream",
          "text": [
            "Extracting /root/Datasets/FashionMNIST/FashionMNIST/raw/t10k-labels-idx1-ubyte.gz to /root/Datasets/FashionMNIST/FashionMNIST/raw\n",
            "Processing...\n",
            "Done!\n"
          ],
          "name": "stdout"
        },
        {
          "output_type": "stream",
          "text": [
            "/usr/local/lib/python3.6/dist-packages/torchvision/datasets/mnist.py:480: UserWarning: The given NumPy array is not writeable, and PyTorch does not support non-writeable tensors. This means you can write to the underlying (supposedly non-writeable) NumPy array using the tensor. You may want to copy the array to protect its data or make it writeable before converting it to a tensor. This type of warning will be suppressed for the rest of this program. (Triggered internally at  /pytorch/torch/csrc/utils/tensor_numpy.cpp:141.)\n",
            "  return torch.from_numpy(parsed.astype(m[2], copy=False)).view(*s)\n"
          ],
          "name": "stderr"
        },
        {
          "output_type": "stream",
          "text": [
            "training on  cuda\n",
            "epoch 1, loss 0.3920, train acc 0.856, test acc 0.868, time 45.1 sec\n",
            "epoch 2, loss 0.2486, train acc 0.908, test acc 0.907, time 47.4 sec\n",
            "epoch 3, loss 0.2090, train acc 0.923, test acc 0.890, time 50.2 sec\n",
            "epoch 4, loss 0.1815, train acc 0.933, test acc 0.911, time 49.3 sec\n",
            "epoch 5, loss 0.1580, train acc 0.941, test acc 0.898, time 49.9 sec\n"
          ],
          "name": "stdout"
        }
      ]
    }
  ]
}