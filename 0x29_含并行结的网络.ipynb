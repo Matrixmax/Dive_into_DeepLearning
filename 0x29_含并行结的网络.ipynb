{
  "nbformat": 4,
  "nbformat_minor": 0,
  "metadata": {
    "colab": {
      "name": "0x29_含并行结的网络.ipynb",
      "provenance": [],
      "collapsed_sections": [],
      "mount_file_id": "1QJFqPjxuMUNO48tx9sWG-F3IrnXlwCx0",
      "authorship_tag": "ABX9TyM6V0KDoCsvWUY4qCouRyUq",
      "include_colab_link": true
    },
    "kernelspec": {
      "name": "python3",
      "display_name": "Python 3"
    },
    "accelerator": "GPU",
    "widgets": {
      "application/vnd.jupyter.widget-state+json": {
        "fb837c79355f4bfab3eae2d1612799cb": {
          "model_module": "@jupyter-widgets/controls",
          "model_name": "HBoxModel",
          "state": {
            "_view_name": "HBoxView",
            "_dom_classes": [],
            "_model_name": "HBoxModel",
            "_view_module": "@jupyter-widgets/controls",
            "_model_module_version": "1.5.0",
            "_view_count": null,
            "_view_module_version": "1.5.0",
            "box_style": "",
            "layout": "IPY_MODEL_8ee44ccf75c342b180778baa6b61f929",
            "_model_module": "@jupyter-widgets/controls",
            "children": [
              "IPY_MODEL_483fd918f69a43529cc96656af651886",
              "IPY_MODEL_f15e558d5e914564a9a169dcedc3cdb8"
            ]
          }
        },
        "68e389fea67d47d4b18455b5e069047f": {
          "model_module": "@jupyter-widgets/controls",
          "model_name": "HBoxModel",
          "state": {
            "_view_name": "HBoxView",
            "_dom_classes": [],
            "_model_name": "HBoxModel",
            "_view_module": "@jupyter-widgets/controls",
            "_model_module_version": "1.5.0",
            "_view_count": null,
            "_view_module_version": "1.5.0",
            "box_style": "",
            "layout": "IPY_MODEL_61fa5e02700b4243a4a40dc222bc52ed",
            "_model_module": "@jupyter-widgets/controls",
            "children": [
              "IPY_MODEL_f841ec93da854351ba2bc3e7a5531c78",
              "IPY_MODEL_031c11c67f66462fa3cd6e3e948e8a3c"
            ]
          }
        },
        "9e016e35b6c44bafbfa753f2d29b6bab": {
          "model_module": "@jupyter-widgets/controls",
          "model_name": "HBoxModel",
          "state": {
            "_view_name": "HBoxView",
            "_dom_classes": [],
            "_model_name": "HBoxModel",
            "_view_module": "@jupyter-widgets/controls",
            "_model_module_version": "1.5.0",
            "_view_count": null,
            "_view_module_version": "1.5.0",
            "box_style": "",
            "layout": "IPY_MODEL_d10edb5760a441a68a63e023cab43d20",
            "_model_module": "@jupyter-widgets/controls",
            "children": [
              "IPY_MODEL_079a2bb335e44839a9976ed78e9e70d7",
              "IPY_MODEL_23c0c8688c6049918f2e2ec2c6438d2f"
            ]
          }
        },
        "b1bff67d8bd34ca78628e690f7cb8591": {
          "model_module": "@jupyter-widgets/controls",
          "model_name": "HBoxModel",
          "state": {
            "_view_name": "HBoxView",
            "_dom_classes": [],
            "_model_name": "HBoxModel",
            "_view_module": "@jupyter-widgets/controls",
            "_model_module_version": "1.5.0",
            "_view_count": null,
            "_view_module_version": "1.5.0",
            "box_style": "",
            "layout": "IPY_MODEL_91cad9ee83784badaefb38a35ae9070b",
            "_model_module": "@jupyter-widgets/controls",
            "children": [
              "IPY_MODEL_c7d7fc987333423d840366082eb2847f",
              "IPY_MODEL_a5724637d8044859b4a3c7fcb7e62f38"
            ]
          }
        }
      }
    }
  },
  "cells": [
    {
      "cell_type": "markdown",
      "metadata": {
        "id": "view-in-github",
        "colab_type": "text"
      },
      "source": [
        "<a href=\"https://colab.research.google.com/github/Matrixmax/Dive_into_DeepLearning/blob/main/0x29_%E5%90%AB%E5%B9%B6%E8%A1%8C%E7%BB%93%E7%9A%84%E7%BD%91%E7%BB%9C.ipynb\" target=\"_parent\"><img src=\"https://colab.research.google.com/assets/colab-badge.svg\" alt=\"Open In Colab\"/></a>"
      ]
    },
    {
      "cell_type": "markdown",
      "metadata": {
        "id": "aZbfpzvy7VNJ"
      },
      "source": [
        "## 1.Inception块\r\n",
        "GoogLeNet中的基础卷积块叫作Inception块，得名于同名电影《盗梦空间》（Inception）。与上一节介绍的NiN块相比，这个基础块在结构上更加复杂，如图5.8所示。\r\n",
        "\r\n",
        "![image.png](data:image/png;base64,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)"
      ]
    },
    {
      "cell_type": "markdown",
      "metadata": {
        "id": "GaxF3Ba07cxV"
      },
      "source": [
        "由图5.8可以看出，Inception块里有4条并行的线路。前3条线路使用窗口大小分别是1×11×1、3×33×3和5×55×5的卷积层来抽取不同空间尺寸下的信息，其中中间2个线路会对输入先做1×11×1卷积来减少输入通道数，以降低模型复杂度。第四条线路则使用3×33×3最大池化层，后接1×11×1卷积层来改变通道数。4条线路都使用了合适的填充来使输入与输出的高和宽一致。最后我们将每条线路的输出在通道维上连结，并输入接下来的层中去。\r\n",
        "\r\n",
        "Inception块中可以自定义的超参数是每个层的输出通道数，我们以此来控制模型复杂度。"
      ]
    },
    {
      "cell_type": "code",
      "metadata": {
        "colab": {
          "base_uri": "https://localhost:8080/"
        },
        "id": "31FpjKcZ654r",
        "outputId": "3dca465c-9de7-429e-c0be-c60743a15a93"
      },
      "source": [
        "import sys\r\n",
        "from google.colab import drive\r\n",
        "drive.mount('/content/drive')\r\n",
        "sys.path.append('/content/drive/My Drive/Colab Notebooks/Dive_Into_Deep_Learning')"
      ],
      "execution_count": null,
      "outputs": [
        {
          "output_type": "stream",
          "text": [
            "Drive already mounted at /content/drive; to attempt to forcibly remount, call drive.mount(\"/content/drive\", force_remount=True).\n"
          ],
          "name": "stdout"
        }
      ]
    },
    {
      "cell_type": "code",
      "metadata": {
        "colab": {
          "base_uri": "https://localhost:8080/"
        },
        "id": "H2N7GHKnBdUa",
        "outputId": "8ed3aef6-ca04-4fd7-bb65-e2535a03614d"
      },
      "source": [
        "import d2lzh_pytorch as d2l\r\n",
        "import time\r\n",
        "import torch\r\n",
        "from torch import nn,optim\r\n",
        "import torch.nn.functional as F\r\n",
        "\r\n",
        "import sys\r\n",
        "device  = torch.device('cuda' if torch.cuda.is_available() else 'cpu')\r\n",
        "!nvidia-smi"
      ],
      "execution_count": null,
      "outputs": [
        {
          "output_type": "stream",
          "text": [
            "Wed Feb 17 04:12:27 2021       \n",
            "+-----------------------------------------------------------------------------+\n",
            "| NVIDIA-SMI 460.39       Driver Version: 460.32.03    CUDA Version: 11.2     |\n",
            "|-------------------------------+----------------------+----------------------+\n",
            "| GPU  Name        Persistence-M| Bus-Id        Disp.A | Volatile Uncorr. ECC |\n",
            "| Fan  Temp  Perf  Pwr:Usage/Cap|         Memory-Usage | GPU-Util  Compute M. |\n",
            "|                               |                      |               MIG M. |\n",
            "|===============================+======================+======================|\n",
            "|   0  Tesla T4            Off  | 00000000:00:04.0 Off |                    0 |\n",
            "| N/A   39C    P8    10W /  70W |      3MiB / 15109MiB |      0%      Default |\n",
            "|                               |                      |                  N/A |\n",
            "+-------------------------------+----------------------+----------------------+\n",
            "                                                                               \n",
            "+-----------------------------------------------------------------------------+\n",
            "| Processes:                                                                  |\n",
            "|  GPU   GI   CI        PID   Type   Process name                  GPU Memory |\n",
            "|        ID   ID                                                   Usage      |\n",
            "|=============================================================================|\n",
            "|  No running processes found                                                 |\n",
            "+-----------------------------------------------------------------------------+\n"
          ],
          "name": "stdout"
        }
      ]
    },
    {
      "cell_type": "code",
      "metadata": {
        "id": "5VH_JqnLCJtd"
      },
      "source": [
        "class Inception(nn.Module):\r\n",
        "    # c1 - c4为每条线路里的层的输出通道数\r\n",
        "    def __init__(self, in_c, c1, c2, c3, c4):\r\n",
        "        super(Inception, self).__init__()\r\n",
        "        # 线路1，单1 x 1卷积层\r\n",
        "        self.p1_1 = nn.Conv2d(in_c, c1, kernel_size=1)\r\n",
        "        # 线路2，1 x 1卷积层后接3 x 3卷积层\r\n",
        "        self.p2_1 = nn.Conv2d(in_c, c2[0], kernel_size=1)\r\n",
        "        self.p2_2 = nn.Conv2d(c2[0], c2[1], kernel_size=3, padding=1)\r\n",
        "        # 线路3，1 x 1卷积层后接5 x 5卷积层\r\n",
        "        self.p3_1 = nn.Conv2d(in_c, c3[0], kernel_size=1)\r\n",
        "        self.p3_2 = nn.Conv2d(c3[0], c3[1], kernel_size=5, padding=2)\r\n",
        "        # 线路4，3 x 3最大池化层后接1 x 1卷积层\r\n",
        "        self.p4_1 = nn.MaxPool2d(kernel_size=3, stride=1, padding=1)\r\n",
        "        self.p4_2 = nn.Conv2d(in_c, c4, kernel_size=1)\r\n",
        "\r\n",
        "    def forward(self, x):\r\n",
        "        p1 = F.relu(self.p1_1(x))\r\n",
        "        p2 = F.relu(self.p2_2(F.relu(self.p2_1(x))))\r\n",
        "        p3 = F.relu(self.p3_2(F.relu(self.p3_1(x))))\r\n",
        "        p4 = F.relu(self.p4_2(self.p4_1(x)))\r\n",
        "        return torch.cat((p1, p2, p3, p4), dim=1)  # 在通道维上连结输出"
      ],
      "execution_count": null,
      "outputs": []
    },
    {
      "cell_type": "markdown",
      "metadata": {
        "id": "r0ZVzrRVBc4u"
      },
      "source": [
        "## 2.GoogleLeNet模型\r\n",
        "GoogLeNet跟VGG一样，在主体卷积部分中使用5个模块（block），每个模块之间使用步幅为2的3×33×3最大池化层来减小输出高宽。第一模块使用一个64通道的7×77×7卷积层。"
      ]
    },
    {
      "cell_type": "code",
      "metadata": {
        "id": "XD4RWVO2GDhi"
      },
      "source": [
        "b1 = nn.Sequential(\r\n",
        "    nn.Conv2d(1,64,kernel_size=7,stride=2,padding=3),\r\n",
        "    nn.ReLU(),\r\n",
        "    nn.MaxPool2d(kernel_size=3,stride=2,padding=1)\r\n",
        ")"
      ],
      "execution_count": null,
      "outputs": []
    },
    {
      "cell_type": "markdown",
      "metadata": {
        "id": "lcl0hsIaGreb"
      },
      "source": [
        "第二模块使用2个卷积层：首先是64通道的1×1卷积层，然后是将通道增大3倍的3×3卷积层。它对应Inception块中的第二条线路。"
      ]
    },
    {
      "cell_type": "code",
      "metadata": {
        "id": "soisd4WaGsbZ"
      },
      "source": [
        "b2 = nn.Sequential(\r\n",
        "    nn.Conv2d(64,64,kernel_size=1),\r\n",
        "    nn.Conv2d(64,192,kernel_size=3,padding=1),\r\n",
        "    nn.MaxPool2d(kernel_size=3,stride=2,padding=1)\r\n",
        ")"
      ],
      "execution_count": null,
      "outputs": []
    },
    {
      "cell_type": "markdown",
      "metadata": {
        "id": "Hjfm_CwyHoJq"
      },
      "source": [
        "第三模块串联2个完整的Inception块。第一个Inception块的输出通道数为64+128+32+32=256，其中4条线路的输出通道数比例为64:128:32:32=2:4:1:1。其中第二、第三条线路先分别将输入通道数减小至96/192=1/2和16/192=1/12后，再接上第二层卷积层。第二个Inception块输出通道数增至128+192+96+64=480，每条线路的输出通道数之比为128:192:96:64=4:6:3:2。其中第二、第三条线路先分别将输入通道数减小至128/256=1/2和32/256=1/8。"
      ]
    },
    {
      "cell_type": "code",
      "metadata": {
        "id": "aGGUctr6HnZ7"
      },
      "source": [
        "b3 = nn.Sequential(\r\n",
        "    Inception(192,64,(96,128),(16,32),32),\r\n",
        "    Inception(256,128,(128,192),(32,96),64),\r\n",
        "    nn.MaxPool2d(kernel_size=3,stride=2,padding=1)\r\n",
        ")"
      ],
      "execution_count": null,
      "outputs": []
    },
    {
      "cell_type": "markdown",
      "metadata": {
        "id": "qm7Vsr1iJbdB"
      },
      "source": [
        "第四模块更加复杂。它串联了5个Inception块，其输出通道数分别是192+208+48+64=512、160+224+64+64=512、128+256+64+64=512、112+288+64+64=528和256+320+128+128=832。这些线路的通道数分配和第三模块中的类似，首先含3×3卷积层的第二条线路输出最多通道，其次是仅含1×1卷积层的第一条线路，之后是含5×5卷积层的第三条线路和含3×3最大池化层的第四条线路。其中第二、第三条线路都会先按比例减小通道数。这些比例在各个Inception块中都略有不同。"
      ]
    },
    {
      "cell_type": "code",
      "metadata": {
        "id": "t1c3icfqJq63"
      },
      "source": [
        "b4 = nn.Sequential(\r\n",
        "    Inception(480, 192, (96, 208), (16, 48), 64),\r\n",
        "    Inception(512, 160, (112, 224), (24, 64), 64),\r\n",
        "    Inception(512, 128, (128, 256), (24, 64), 64),\r\n",
        "    Inception(512, 112, (144, 288), (32, 64), 64),\r\n",
        "    Inception(528, 256, (160, 320), (32, 128), 128),\r\n",
        "    nn.MaxPool2d(kernel_size=3, stride=2, padding=1)\r\n",
        ")"
      ],
      "execution_count": null,
      "outputs": []
    },
    {
      "cell_type": "markdown",
      "metadata": {
        "id": "8Js80LkKKh_z"
      },
      "source": [
        "第五模块有输出通道数为256+320+128+128=832和384+384+128+128=1024的两个Inception块。其中每条线路的通道数的分配思路和第三、第四模块中的一致，只是在具体数值上有所不同。需要注意的是，第五模块的后面紧跟输出层，该模块同NiN一样使用全局平均池化层来将每个通道的高和宽变成1。最后我们将输出变成二维数组后接上一个输出个数为标签类别数的全连接层。"
      ]
    },
    {
      "cell_type": "code",
      "metadata": {
        "id": "Bo3E2AQmKopz"
      },
      "source": [
        "b5 = nn.Sequential(\r\n",
        "    Inception(832, 256, (160, 320), (32, 128), 128),\r\n",
        "    Inception(832, 384, (192, 384), (48, 128), 128),\r\n",
        "    d2l.GlobalAvgPool2d()\r\n",
        ")\r\n",
        "\r\n",
        "net = nn.Sequential(\r\n",
        "    b1, b2, b3, b4, b5, \r\n",
        "    d2l.FlattenLayer(), \r\n",
        "    nn.Linear(1024, 10)\r\n",
        ")\r\n"
      ],
      "execution_count": null,
      "outputs": []
    },
    {
      "cell_type": "markdown",
      "metadata": {
        "id": "poeI9wa2K6Df"
      },
      "source": [
        "GoogLeNet模型的计算复杂，而且不如VGG那样便于修改通道数。本节里我们将输入的高和宽从224降到96来简化计算。下面演示各个模块之间的输出的形状变化。"
      ]
    },
    {
      "cell_type": "code",
      "metadata": {
        "colab": {
          "base_uri": "https://localhost:8080/"
        },
        "id": "hzMe0wh4K7Kq",
        "outputId": "fdbbafd0-c116-4a1d-d0a0-9b8c53dc6bcb"
      },
      "source": [
        "net = nn.Sequential(b1, b2, b3, b4, b5, d2l.FlattenLayer(), nn.Linear(1024, 10))\r\n",
        "X = torch.rand(1, 1, 96, 96)\r\n",
        "for blk in net.children(): \r\n",
        "    X = blk(X)\r\n",
        "    print('output shape: ', X.shape)\r\n"
      ],
      "execution_count": null,
      "outputs": [
        {
          "output_type": "stream",
          "text": [
            "output shape:  torch.Size([1, 64, 24, 24])\n",
            "output shape:  torch.Size([1, 192, 12, 12])\n",
            "output shape:  torch.Size([1, 480, 6, 6])\n",
            "output shape:  torch.Size([1, 832, 3, 3])\n",
            "output shape:  torch.Size([1, 1024, 1, 1])\n",
            "output shape:  torch.Size([1, 1024])\n",
            "output shape:  torch.Size([1, 10])\n"
          ],
          "name": "stdout"
        }
      ]
    },
    {
      "cell_type": "markdown",
      "metadata": {
        "id": "hfdDBiECMKMG"
      },
      "source": [
        "## 3. 获取数据和训练模型\r\n",
        "我们使用高和宽均为96像素的图像来训练GoogLeNet模型。训练使用的图像依然来自Fashion-MNIST数据集。\r\n"
      ]
    },
    {
      "cell_type": "code",
      "metadata": {
        "colab": {
          "base_uri": "https://localhost:8080/",
          "height": 361,
          "referenced_widgets": [
            "fb837c79355f4bfab3eae2d1612799cb",
            "68e389fea67d47d4b18455b5e069047f",
            "9e016e35b6c44bafbfa753f2d29b6bab",
            "b1bff67d8bd34ca78628e690f7cb8591",
            "8ee44ccf75c342b180778baa6b61f929",
            "483fd918f69a43529cc96656af651886",
            "f15e558d5e914564a9a169dcedc3cdb8",
            "61fa5e02700b4243a4a40dc222bc52ed",
            "f841ec93da854351ba2bc3e7a5531c78",
            "031c11c67f66462fa3cd6e3e948e8a3c",
            "d10edb5760a441a68a63e023cab43d20",
            "079a2bb335e44839a9976ed78e9e70d7",
            "23c0c8688c6049918f2e2ec2c6438d2f",
            "91cad9ee83784badaefb38a35ae9070b",
            "c7d7fc987333423d840366082eb2847f",
            "a5724637d8044859b4a3c7fcb7e62f38"
          ]
        },
        "id": "qXSp2n5GMOUE",
        "outputId": "61de5d77-baee-43f6-dc45-4fe3453dd3d1"
      },
      "source": [
        "batch_size = 128\r\n",
        "# 如出现“out of memory”的报错信息，可减小batch_size或resize\r\n",
        "train_iter, test_iter = d2l.load_data_fashion_mnist(batch_size, resize=96)\r\n",
        "\r\n",
        "lr, num_epochs = 0.001, 5\r\n",
        "optimizer = torch.optim.Adam(net.parameters(), lr=lr)\r\n",
        "d2l.train_ch5(net, train_iter, test_iter, batch_size, optimizer, device, num_epochs)\r\n"
      ],
      "execution_count": null,
      "outputs": [
        {
          "output_type": "stream",
          "text": [
            "Downloading http://fashion-mnist.s3-website.eu-central-1.amazonaws.com/train-images-idx3-ubyte.gz to /root/Datasets/FashionMNIST/FashionMNIST/raw/train-images-idx3-ubyte.gz\n"
          ],
          "name": "stdout"
        },
        {
          "output_type": "display_data",
          "data": {
            "application/vnd.jupyter.widget-view+json": {
              "model_id": "fb837c79355f4bfab3eae2d1612799cb",
              "version_minor": 0,
              "version_major": 2
            },
            "text/plain": [
              "HBox(children=(FloatProgress(value=1.0, bar_style='info', max=1.0), HTML(value='')))"
            ]
          },
          "metadata": {
            "tags": []
          }
        },
        {
          "output_type": "stream",
          "text": [
            "Extracting /root/Datasets/FashionMNIST/FashionMNIST/raw/train-images-idx3-ubyte.gz to /root/Datasets/FashionMNIST/FashionMNIST/raw\n",
            "Downloading http://fashion-mnist.s3-website.eu-central-1.amazonaws.com/train-labels-idx1-ubyte.gz to /root/Datasets/FashionMNIST/FashionMNIST/raw/train-labels-idx1-ubyte.gz\n"
          ],
          "name": "stdout"
        },
        {
          "output_type": "display_data",
          "data": {
            "application/vnd.jupyter.widget-view+json": {
              "model_id": "68e389fea67d47d4b18455b5e069047f",
              "version_minor": 0,
              "version_major": 2
            },
            "text/plain": [
              "HBox(children=(FloatProgress(value=1.0, bar_style='info', max=1.0), HTML(value='')))"
            ]
          },
          "metadata": {
            "tags": []
          }
        },
        {
          "output_type": "stream",
          "text": [
            "Extracting /root/Datasets/FashionMNIST/FashionMNIST/raw/train-labels-idx1-ubyte.gz to /root/Datasets/FashionMNIST/FashionMNIST/raw\n",
            "Downloading http://fashion-mnist.s3-website.eu-central-1.amazonaws.com/t10k-images-idx3-ubyte.gz to /root/Datasets/FashionMNIST/FashionMNIST/raw/t10k-images-idx3-ubyte.gz\n"
          ],
          "name": "stdout"
        },
        {
          "output_type": "display_data",
          "data": {
            "application/vnd.jupyter.widget-view+json": {
              "model_id": "9e016e35b6c44bafbfa753f2d29b6bab",
              "version_minor": 0,
              "version_major": 2
            },
            "text/plain": [
              "HBox(children=(FloatProgress(value=1.0, bar_style='info', max=1.0), HTML(value='')))"
            ]
          },
          "metadata": {
            "tags": []
          }
        },
        {
          "output_type": "stream",
          "text": [
            "Extracting /root/Datasets/FashionMNIST/FashionMNIST/raw/t10k-images-idx3-ubyte.gz to /root/Datasets/FashionMNIST/FashionMNIST/raw\n",
            "Downloading http://fashion-mnist.s3-website.eu-central-1.amazonaws.com/t10k-labels-idx1-ubyte.gz to /root/Datasets/FashionMNIST/FashionMNIST/raw/t10k-labels-idx1-ubyte.gz\n"
          ],
          "name": "stdout"
        },
        {
          "output_type": "display_data",
          "data": {
            "application/vnd.jupyter.widget-view+json": {
              "model_id": "b1bff67d8bd34ca78628e690f7cb8591",
              "version_minor": 0,
              "version_major": 2
            },
            "text/plain": [
              "HBox(children=(FloatProgress(value=1.0, bar_style='info', max=1.0), HTML(value='')))"
            ]
          },
          "metadata": {
            "tags": []
          }
        },
        {
          "output_type": "stream",
          "text": [
            "Extracting /root/Datasets/FashionMNIST/FashionMNIST/raw/t10k-labels-idx1-ubyte.gz to /root/Datasets/FashionMNIST/FashionMNIST/raw\n",
            "Processing...\n",
            "Done!\n"
          ],
          "name": "stdout"
        },
        {
          "output_type": "stream",
          "text": [
            "/usr/local/lib/python3.6/dist-packages/torchvision/datasets/mnist.py:480: UserWarning: The given NumPy array is not writeable, and PyTorch does not support non-writeable tensors. This means you can write to the underlying (supposedly non-writeable) NumPy array using the tensor. You may want to copy the array to protect its data or make it writeable before converting it to a tensor. This type of warning will be suppressed for the rest of this program. (Triggered internally at  /pytorch/torch/csrc/utils/tensor_numpy.cpp:141.)\n",
            "  return torch.from_numpy(parsed.astype(m[2], copy=False)).view(*s)\n"
          ],
          "name": "stderr"
        },
        {
          "output_type": "stream",
          "text": [
            "training on  cuda\n",
            "epoch 1, loss 1.1012, train acc 0.569, test acc 0.816, time 45.0 sec\n",
            "epoch 2, loss 0.4172, train acc 0.845, test acc 0.859, time 46.8 sec\n",
            "epoch 3, loss 0.3449, train acc 0.870, test acc 0.860, time 48.5 sec\n",
            "epoch 4, loss 0.3003, train acc 0.886, test acc 0.885, time 48.1 sec\n",
            "epoch 5, loss 0.2740, train acc 0.897, test acc 0.889, time 48.2 sec\n"
          ],
          "name": "stdout"
        }
      ]
    },
    {
      "cell_type": "markdown",
      "metadata": {
        "id": "VzDDa9p_MQrU"
      },
      "source": [
        "## 4. 小结\r\n",
        "1. Inception块相当于一个有4条线路的子网络。它通过不同窗口形状的卷积层和最大池化层来并行抽取信息，并使用1×1卷积层减少通道数从而降低模型复杂度。\r\n",
        "2. GoogLeNet将多个设计精细的Inception块和其他层串联起来。其中Inception块的通道数分配之比是在ImageNet数据集上通过大量的实验得来的。\r\n",
        "3. GoogLeNet和它的后继者们一度是ImageNet上最高效的模型之一：在类似的测试精度下，它们的计算复杂度往往更低。"
      ]
    }
  ]
}