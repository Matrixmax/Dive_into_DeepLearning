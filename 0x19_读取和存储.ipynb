{
  "nbformat": 4,
  "nbformat_minor": 0,
  "metadata": {
    "colab": {
      "name": "0x19_读取和存储.ipynb",
      "provenance": [],
      "authorship_tag": "ABX9TyM64C2dxRnNx0JjZ8mhSwm0",
      "include_colab_link": true
    },
    "kernelspec": {
      "name": "python3",
      "display_name": "Python 3"
    }
  },
  "cells": [
    {
      "cell_type": "markdown",
      "metadata": {
        "id": "view-in-github",
        "colab_type": "text"
      },
      "source": [
        "<a href=\"https://colab.research.google.com/github/Matrixmax/Dive_into_DeepLearning/blob/main/0x19_%E8%AF%BB%E5%8F%96%E5%92%8C%E5%AD%98%E5%82%A8.ipynb\" target=\"_parent\"><img src=\"https://colab.research.google.com/assets/colab-badge.svg\" alt=\"Open In Colab\"/></a>"
      ]
    },
    {
      "cell_type": "markdown",
      "metadata": {
        "id": "9lxLCtcYqgqQ"
      },
      "source": [
        "到目前为止，我们介绍了如何处理数据以及如何构建、训练和测试深度学习模型。然而在实际中，我们有时需要把训练好的模型部署到很多不同的设备。在这种情况下，我们可以把内存中训练好的模型参数存储在硬盘上供后续读取使用。\r\n",
        "\r\n",
        "## 1. 读写tensor\r\n",
        "\r\n",
        "我们可以直接使用save函数和load函数分别存储和读取Tensor。save使用Python的pickle实用程序将对象进行序列化，然后将序列化的对象保存到disk，使用save可以保存各种对象,包括模型、张量和字典等。而load使用pickle unpickle工具将pickle的对象文件反序列化为内存。\r\n",
        "\r\n",
        "下面的例子创建了Tensor变量x，并将其存在文件名同为x.pt的文件里"
      ]
    },
    {
      "cell_type": "code",
      "metadata": {
        "id": "dw1gkZN_nxKT"
      },
      "source": [
        "import torch\r\n",
        "from torch import nn\r\n",
        "\r\n",
        "x = torch.ones(3)\r\n",
        "torch.save(x,'x.pt')"
      ],
      "execution_count": 2,
      "outputs": []
    },
    {
      "cell_type": "code",
      "metadata": {
        "colab": {
          "base_uri": "https://localhost:8080/"
        },
        "id": "57l9I17ZsEMY",
        "outputId": "b6832e62-ca87-4607-b27b-fe7afdd2e00b"
      },
      "source": [
        "# 然后我们将数据从存储的文件读回内存\r\n",
        "x2 = torch.load('x.pt')\r\n",
        "x2"
      ],
      "execution_count": 3,
      "outputs": [
        {
          "output_type": "execute_result",
          "data": {
            "text/plain": [
              "tensor([1., 1., 1.])"
            ]
          },
          "metadata": {
            "tags": []
          },
          "execution_count": 3
        }
      ]
    },
    {
      "cell_type": "code",
      "metadata": {
        "colab": {
          "base_uri": "https://localhost:8080/"
        },
        "id": "Sx5DD9_DsONN",
        "outputId": "5198bf03-9104-410f-8331-7087019c3e8c"
      },
      "source": [
        "# 存储一个tensor列表并且读回内存\r\n",
        "y = torch.zeros(4)\r\n",
        "torch.save([x,y],'xy.pt')\r\n",
        "xy_list = torch.load('xy.pt')\r\n",
        "xy_list\r\n"
      ],
      "execution_count": 4,
      "outputs": [
        {
          "output_type": "execute_result",
          "data": {
            "text/plain": [
              "[tensor([1., 1., 1.]), tensor([0., 0., 0., 0.])]"
            ]
          },
          "metadata": {
            "tags": []
          },
          "execution_count": 4
        }
      ]
    },
    {
      "cell_type": "code",
      "metadata": {
        "colab": {
          "base_uri": "https://localhost:8080/"
        },
        "id": "cMkWX5nNsuyS",
        "outputId": "f10d5d9c-e2e6-4431-a57e-800a80e6f0a8"
      },
      "source": [
        "# 存储并且读取一个从字符串映射到tensor的字典\r\n",
        "torch.save({'x':x,'y':y},'xy_dict.pt')\r\n",
        "xy = torch.load('xy_dict.pt')\r\n",
        "xy"
      ],
      "execution_count": 6,
      "outputs": [
        {
          "output_type": "execute_result",
          "data": {
            "text/plain": [
              "{'x': tensor([1., 1., 1.]), 'y': tensor([0., 0., 0., 0.])}"
            ]
          },
          "metadata": {
            "tags": []
          },
          "execution_count": 6
        }
      ]
    },
    {
      "cell_type": "markdown",
      "metadata": {
        "id": "B6H1GtLssN8Q"
      },
      "source": [
        "## 2.读写模型\r\n",
        "在PyTorch中，Module的可学习参数(即权重和偏差)，模块模型包含在参数中(通过model.parameters()访问)。state_dict是一个从参数名称映射到参数Tesnor的字典对象。"
      ]
    },
    {
      "cell_type": "code",
      "metadata": {
        "colab": {
          "base_uri": "https://localhost:8080/"
        },
        "id": "y6eT-kgPt6yD",
        "outputId": "a4c60236-0229-47ad-bb33-27ae5a0e3ea2"
      },
      "source": [
        "class MLP(nn.Module):\r\n",
        "    def __init__(self):\r\n",
        "        super(MLP,self).__init__()\r\n",
        "        self.hidden = nn.Linear(3,2)\r\n",
        "        self.act = nn.ReLU()\r\n",
        "        self.output = nn.Linear(2,1)\r\n",
        "    \r\n",
        "    def forward(self,x):\r\n",
        "        a = self.act(self.hidden(x))\r\n",
        "        return self.output(a)\r\n",
        "\r\n",
        "net = MLP()\r\n",
        "net.state_dict()"
      ],
      "execution_count": 7,
      "outputs": [
        {
          "output_type": "execute_result",
          "data": {
            "text/plain": [
              "OrderedDict([('hidden.weight', tensor([[ 0.0209, -0.3549,  0.4716],\n",
              "                      [ 0.5001,  0.4127, -0.1253]])),\n",
              "             ('hidden.bias', tensor([-0.1757, -0.3783])),\n",
              "             ('output.weight', tensor([[0.5344, 0.2990]])),\n",
              "             ('output.bias', tensor([-0.6066]))])"
            ]
          },
          "metadata": {
            "tags": []
          },
          "execution_count": 7
        }
      ]
    },
    {
      "cell_type": "markdown",
      "metadata": {
        "id": "Y8QHzqOxsCnV"
      },
      "source": [
        "注意，只有具有可学习参数的层(卷积层、线性层等)才有state_dict中的条目。优化器(optim)也有一个state_dict，其中包含关于优化器状态以及所使用的超参数的信息。"
      ]
    },
    {
      "cell_type": "code",
      "metadata": {
        "colab": {
          "base_uri": "https://localhost:8080/"
        },
        "id": "iA0_-zVfuu4L",
        "outputId": "11d53e7a-b79e-4606-ff6b-1c9316663c58"
      },
      "source": [
        "optimizer = torch.optim.SGD(net.parameters(),lr = 0.001,momentum=0.9)\r\n",
        "optimizer.state_dict()"
      ],
      "execution_count": 8,
      "outputs": [
        {
          "output_type": "execute_result",
          "data": {
            "text/plain": [
              "{'param_groups': [{'dampening': 0,\n",
              "   'lr': 0.001,\n",
              "   'momentum': 0.9,\n",
              "   'nesterov': False,\n",
              "   'params': [0, 1, 2, 3],\n",
              "   'weight_decay': 0}],\n",
              " 'state': {}}"
            ]
          },
          "metadata": {
            "tags": []
          },
          "execution_count": 8
        }
      ]
    },
    {
      "cell_type": "markdown",
      "metadata": {
        "id": "ueCCj9BZvPiA"
      },
      "source": [
        "### 2.2 保存和加载模型\r\n",
        "PyTorch中保存和加载训练模型有两种常见的方法:\r\n",
        "\r\n",
        "1. 仅保存和加载模型参数(state_dict)；\r\n",
        "2. 保存和加载整个模型。\r\n",
        "\r\n",
        "\r\n",
        "#### **1. 保存和加载state_dict(推荐方式)**\r\n"
      ]
    },
    {
      "cell_type": "code",
      "metadata": {
        "id": "dDK3zrCLvT7h"
      },
      "source": [
        "# 保存\r\n",
        "torch.save(net.state_dict(),PATH) #推荐的文件后缀名是pt或者pth\r\n",
        "\r\n",
        "# 加载\r\n",
        "model = TheModelClass(*args, **kwargs)\r\n",
        "model.load_state_dict(torch.load(PATH))"
      ],
      "execution_count": null,
      "outputs": []
    },
    {
      "cell_type": "code",
      "metadata": {
        "colab": {
          "base_uri": "https://localhost:8080/"
        },
        "id": "dBXaZratwoMY",
        "outputId": "d9001d97-e6c6-4dab-b510-f3fe2950361c"
      },
      "source": [
        "# 保存和加载实验\r\n",
        "X = torch.randn(2,3)\r\n",
        "Y = net(X)\r\n",
        "\r\n",
        "path = './net.pth'\r\n",
        "torch.save(net.state_dict(),path)\r\n",
        "\r\n",
        "net2 = MLP()\r\n",
        "net2.load_state_dict(torch.load(path))\r\n",
        "Y2 = net2(X)\r\n",
        "Y2 == Y"
      ],
      "execution_count": 19,
      "outputs": [
        {
          "output_type": "execute_result",
          "data": {
            "text/plain": [
              "tensor([[True],\n",
              "        [True]])"
            ]
          },
          "metadata": {
            "tags": []
          },
          "execution_count": 19
        }
      ]
    },
    {
      "cell_type": "markdown",
      "metadata": {
        "id": "pgVdDRK2xK82"
      },
      "source": [
        "#### **2.保存和加载整个模型**"
      ]
    },
    {
      "cell_type": "code",
      "metadata": {
        "id": "8T97YWX6xXfL"
      },
      "source": [
        "# 保存\r\n",
        "torch.save(model.PATH)\r\n",
        "\r\n",
        "# 加载\r\n",
        "model = torch.load(PATH)"
      ],
      "execution_count": null,
      "outputs": []
    }
  ]
}