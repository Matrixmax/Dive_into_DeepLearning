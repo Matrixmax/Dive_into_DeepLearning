{
  "nbformat": 4,
  "nbformat_minor": 0,
  "metadata": {
    "colab": {
      "name": "0x32 pytorch神经网络基础 参数管理.ipynb",
      "provenance": [],
      "authorship_tag": "ABX9TyMc3BzROwIerlfIvjvTUVDe",
      "include_colab_link": true
    },
    "kernelspec": {
      "name": "python3",
      "display_name": "Python 3"
    },
    "language_info": {
      "name": "python"
    }
  },
  "cells": [
    {
      "cell_type": "markdown",
      "metadata": {
        "id": "view-in-github",
        "colab_type": "text"
      },
      "source": [
        "<a href=\"https://colab.research.google.com/github/Matrixmax/Dive_into_DeepLearning/blob/main/0x32_pytorch%E7%A5%9E%E7%BB%8F%E7%BD%91%E7%BB%9C%E5%9F%BA%E7%A1%80_%E5%8F%82%E6%95%B0%E7%AE%A1%E7%90%86.ipynb\" target=\"_parent\"><img src=\"https://colab.research.google.com/assets/colab-badge.svg\" alt=\"Open In Colab\"/></a>"
      ]
    },
    {
      "cell_type": "code",
      "metadata": {
        "id": "-lYQFdLBkJ8s"
      },
      "source": [
        "import torch\n",
        "from torch import nn"
      ],
      "execution_count": 1,
      "outputs": []
    },
    {
      "cell_type": "code",
      "metadata": {
        "colab": {
          "base_uri": "https://localhost:8080/"
        },
        "id": "BloUP3eIkh7B",
        "outputId": "3121bbd3-da62-4600-d013-634544b57e12"
      },
      "source": [
        "net = nn.Sequential(nn.Linear(4,8),nn.ReLU(),nn.Linear(8,1))\n",
        "X = torch.rand(size=(2,4))\n",
        "net(X)"
      ],
      "execution_count": 4,
      "outputs": [
        {
          "output_type": "execute_result",
          "data": {
            "text/plain": [
              "tensor([[-0.3324],\n",
              "        [-0.3105]], grad_fn=<AddmmBackward>)"
            ]
          },
          "metadata": {
            "tags": []
          },
          "execution_count": 4
        }
      ]
    },
    {
      "cell_type": "markdown",
      "metadata": {
        "id": "jTqbwJP6kY_E"
      },
      "source": [
        "## 1. 参数访问"
      ]
    },
    {
      "cell_type": "code",
      "metadata": {
        "colab": {
          "base_uri": "https://localhost:8080/"
        },
        "id": "QU-v05rfkYRA",
        "outputId": "f959ea25-282d-466b-f6da-c0e7cc181503"
      },
      "source": [
        "print(net[2].state_dict())"
      ],
      "execution_count": 5,
      "outputs": [
        {
          "output_type": "stream",
          "text": [
            "OrderedDict([('weight', tensor([[ 0.2588, -0.3182, -0.2151, -0.2091,  0.0786,  0.1961, -0.2362,  0.3478]])), ('bias', tensor([-0.2823]))])\n"
          ],
          "name": "stdout"
        }
      ]
    },
    {
      "cell_type": "code",
      "metadata": {
        "colab": {
          "base_uri": "https://localhost:8080/"
        },
        "id": "u9slwQt0kzl3",
        "outputId": "717668c0-97c0-4596-f0d6-d8daa5c0cd85"
      },
      "source": [
        "# 目标参数\n",
        "print(type(net[2].bias))\n",
        "print(net[2].bias)\n",
        "print(net[2].bias.data)"
      ],
      "execution_count": 6,
      "outputs": [
        {
          "output_type": "stream",
          "text": [
            "<class 'torch.nn.parameter.Parameter'>\n",
            "Parameter containing:\n",
            "tensor([-0.2823], requires_grad=True)\n",
            "tensor([-0.2823])\n"
          ],
          "name": "stdout"
        }
      ]
    },
    {
      "cell_type": "code",
      "metadata": {
        "colab": {
          "base_uri": "https://localhost:8080/"
        },
        "id": "nHtgLF8qlC67",
        "outputId": "6587353b-dea6-48da-e51f-f290bca9721f"
      },
      "source": [
        "net[2].bias.data.grad==None"
      ],
      "execution_count": 8,
      "outputs": [
        {
          "output_type": "execute_result",
          "data": {
            "text/plain": [
              "True"
            ]
          },
          "metadata": {
            "tags": []
          },
          "execution_count": 8
        }
      ]
    },
    {
      "cell_type": "code",
      "metadata": {
        "colab": {
          "base_uri": "https://localhost:8080/"
        },
        "id": "q8qiwwZalft1",
        "outputId": "209bf266-507c-4de1-a51d-86de42a4fc91"
      },
      "source": [
        "# 一次性访问所有参数\n",
        "print(*[(name,param.shape) for name,param in net[0].named_parameters()])\n",
        "print(*[(name,param.shape) for name,param in net.named_parameters()])"
      ],
      "execution_count": 9,
      "outputs": [
        {
          "output_type": "stream",
          "text": [
            "('weight', torch.Size([8, 4])) ('bias', torch.Size([8]))\n",
            "('0.weight', torch.Size([8, 4])) ('0.bias', torch.Size([8])) ('2.weight', torch.Size([1, 8])) ('2.bias', torch.Size([1]))\n"
          ],
          "name": "stdout"
        }
      ]
    },
    {
      "cell_type": "code",
      "metadata": {
        "colab": {
          "base_uri": "https://localhost:8080/"
        },
        "id": "_IJF9ld4lzIs",
        "outputId": "7e7cebc5-5b81-4a1a-c8f5-0935c10dd6c5"
      },
      "source": [
        "# 从嵌套块收集参数\n",
        "def block1():\n",
        "    return nn.Sequential(nn.Linear(4,8),nn.ReLU(),nn.Linear(8,4),nn.ReLU())\n",
        "\n",
        "def block2():\n",
        "    net = nn.Sequential()\n",
        "    for i in range(4):\n",
        "        # 在这里嵌套\n",
        "        net.add_module(f'block{i}',block1())\n",
        "    return net\n",
        "\n",
        "rgnet = nn.Sequential(block2(),nn.Linear(4,1))\n",
        "rgnet(X)"
      ],
      "execution_count": 10,
      "outputs": [
        {
          "output_type": "execute_result",
          "data": {
            "text/plain": [
              "tensor([[0.0143],\n",
              "        [0.0141]], grad_fn=<AddmmBackward>)"
            ]
          },
          "metadata": {
            "tags": []
          },
          "execution_count": 10
        }
      ]
    },
    {
      "cell_type": "code",
      "metadata": {
        "colab": {
          "base_uri": "https://localhost:8080/"
        },
        "id": "rTmiPLuTn-1d",
        "outputId": "b82f4be0-f09e-4e04-fc16-0ad234b65952"
      },
      "source": [
        "print(rgnet)"
      ],
      "execution_count": 11,
      "outputs": [
        {
          "output_type": "stream",
          "text": [
            "Sequential(\n",
            "  (0): Sequential(\n",
            "    (block0): Sequential(\n",
            "      (0): Linear(in_features=4, out_features=8, bias=True)\n",
            "      (1): ReLU()\n",
            "      (2): Linear(in_features=8, out_features=4, bias=True)\n",
            "      (3): ReLU()\n",
            "    )\n",
            "    (block1): Sequential(\n",
            "      (0): Linear(in_features=4, out_features=8, bias=True)\n",
            "      (1): ReLU()\n",
            "      (2): Linear(in_features=8, out_features=4, bias=True)\n",
            "      (3): ReLU()\n",
            "    )\n",
            "    (block2): Sequential(\n",
            "      (0): Linear(in_features=4, out_features=8, bias=True)\n",
            "      (1): ReLU()\n",
            "      (2): Linear(in_features=8, out_features=4, bias=True)\n",
            "      (3): ReLU()\n",
            "    )\n",
            "    (block3): Sequential(\n",
            "      (0): Linear(in_features=4, out_features=8, bias=True)\n",
            "      (1): ReLU()\n",
            "      (2): Linear(in_features=8, out_features=4, bias=True)\n",
            "      (3): ReLU()\n",
            "    )\n",
            "  )\n",
            "  (1): Linear(in_features=4, out_features=1, bias=True)\n",
            ")\n"
          ],
          "name": "stdout"
        }
      ]
    },
    {
      "cell_type": "code",
      "metadata": {
        "colab": {
          "base_uri": "https://localhost:8080/"
        },
        "id": "IldyOITFoECW",
        "outputId": "8481b6a6-bb65-4b18-983d-85b962723e33"
      },
      "source": [
        "print(rgnet[0][1][0].bias.data)"
      ],
      "execution_count": 13,
      "outputs": [
        {
          "output_type": "stream",
          "text": [
            "tensor([ 0.4541, -0.3119,  0.0519,  0.1260,  0.2914, -0.0927, -0.3728, -0.1329])\n"
          ],
          "name": "stdout"
        }
      ]
    },
    {
      "cell_type": "markdown",
      "metadata": {
        "id": "oLhyL4-0oJ9B"
      },
      "source": [
        "## 2. 参数初始化"
      ]
    },
    {
      "cell_type": "code",
      "metadata": {
        "colab": {
          "base_uri": "https://localhost:8080/"
        },
        "id": "GBm4FyYaoM-r",
        "outputId": "3628de63-2e84-41c7-f8e2-7380e5fa2d82"
      },
      "source": [
        "# 1. 内置初始化\n",
        "def init_normal(m):\n",
        "    if type(m)==nn.Linear:\n",
        "        nn.init.normal_(m.weight,mean=0,std=0.01)\n",
        "        nn.init.zeros_(m.bias)\n",
        "\n",
        "net.apply(init_normal)\n",
        "net[0].weight.data[0], net[0].bias.data[0]"
      ],
      "execution_count": 14,
      "outputs": [
        {
          "output_type": "execute_result",
          "data": {
            "text/plain": [
              "(tensor([ 0.0107, -0.0164,  0.0056,  0.0025]), tensor(0.))"
            ]
          },
          "metadata": {
            "tags": []
          },
          "execution_count": 14
        }
      ]
    },
    {
      "cell_type": "code",
      "metadata": {
        "colab": {
          "base_uri": "https://localhost:8080/"
        },
        "id": "NQmYTCImovJb",
        "outputId": "066edf5c-c43c-4ef2-991e-8dbf5c93442e"
      },
      "source": [
        "## 初始化为指定的常数\n",
        "def init_constant(m):\n",
        "    if type(m)==nn.Linear:\n",
        "        nn.init.constant_(m.weight,1)\n",
        "        nn.init.zeros_(m.bias)\n",
        "\n",
        "net.apply(init_constant)\n",
        "net[0].weight.data[0], net[0].bias.data[0]"
      ],
      "execution_count": 16,
      "outputs": [
        {
          "output_type": "execute_result",
          "data": {
            "text/plain": [
              "(tensor([1., 1., 1., 1.]), tensor(0.))"
            ]
          },
          "metadata": {
            "tags": []
          },
          "execution_count": 16
        }
      ]
    },
    {
      "cell_type": "code",
      "metadata": {
        "colab": {
          "base_uri": "https://localhost:8080/"
        },
        "id": "EejnHBdpp2rg",
        "outputId": "09c8ec30-1686-468a-9c1e-0e4f52151992"
      },
      "source": [
        "## 使用xavier方法初始化\n",
        "def xavier(m):\n",
        "    if type(m)==nn.Linear:\n",
        "        nn.init.xavier_uniform_(m.weight)\n",
        "def init_42(m):\n",
        "    if type(m)==nn.Linear:\n",
        "        nn.init.constant_(m.weight,42)\n",
        "\n",
        "net[0].apply(xavier)\n",
        "net[2].apply(init_42)\n",
        "print(net[0].weight.data[0])\n",
        "print(net[2].weight.data)"
      ],
      "execution_count": 18,
      "outputs": [
        {
          "output_type": "stream",
          "text": [
            "tensor([-0.6227, -0.3380, -0.1657,  0.4580])\n",
            "tensor([[42., 42., 42., 42., 42., 42., 42., 42.]])\n"
          ],
          "name": "stdout"
        }
      ]
    },
    {
      "cell_type": "code",
      "metadata": {
        "colab": {
          "base_uri": "https://localhost:8080/"
        },
        "id": "iC84l6L4p60l",
        "outputId": "b9b95676-ed02-402b-dc28-d549aa5abbc9"
      },
      "source": [
        "# 自定义初始化框架\n",
        "def my_init(m):\n",
        "    if type(m)==nn.Linear:\n",
        "        print(\"Init\",*[(name, param.shape) for name, param in m.named_parameters()][0])\n",
        "        nn.init.uniform_(m.weight,-10,10)\n",
        "        m.weight.data *= m.weight.data.abs() >= 5\n",
        "\n",
        "net.apply(my_init)\n",
        "net[0].weight[:2]"
      ],
      "execution_count": 19,
      "outputs": [
        {
          "output_type": "stream",
          "text": [
            "Init weight torch.Size([8, 4])\n",
            "Init weight torch.Size([1, 8])\n"
          ],
          "name": "stdout"
        },
        {
          "output_type": "execute_result",
          "data": {
            "text/plain": [
              "tensor([[ 0.0000,  0.0000, -0.0000,  5.0257],\n",
              "        [-6.9694,  0.0000, -6.7761,  0.0000]], grad_fn=<SliceBackward>)"
            ]
          },
          "metadata": {
            "tags": []
          },
          "execution_count": 19
        }
      ]
    },
    {
      "cell_type": "code",
      "metadata": {
        "colab": {
          "base_uri": "https://localhost:8080/"
        },
        "id": "AH2DyOEEq69P",
        "outputId": "a2e043c1-969f-4630-c141-3c73f0980f7a"
      },
      "source": [
        "net[0].weight.data[:] += 1\n",
        "net[0].weight.data[0, 0] = 42\n",
        "net[0].weight.data[0]"
      ],
      "execution_count": 20,
      "outputs": [
        {
          "output_type": "execute_result",
          "data": {
            "text/plain": [
              "tensor([42.0000,  1.0000,  1.0000,  6.0257])"
            ]
          },
          "metadata": {
            "tags": []
          },
          "execution_count": 20
        }
      ]
    },
    {
      "cell_type": "markdown",
      "metadata": {
        "id": "YduYVu5Zq8iF"
      },
      "source": [
        "## 参数绑定\n"
      ]
    },
    {
      "cell_type": "code",
      "metadata": {
        "colab": {
          "base_uri": "https://localhost:8080/"
        },
        "id": "-uOTnCK3q-a4",
        "outputId": "504443d2-38d2-43cd-e9a2-2089ae7a47e1"
      },
      "source": [
        "# 我们需要给共享层一个名称，以便可以引用它的参数。\n",
        "shared = nn.Linear(8,8)\n",
        "net = nn.Sequential(nn.Linear(4, 8), nn.ReLU(), shared, nn.ReLU(), shared,\n",
        "                    nn.ReLU(), nn.Linear(8, 1))\n",
        "\n",
        "net(X)\n",
        "# 检查参数是否相同\n",
        "print(net[2].weight.data[0] == net[4].weight.data[0])\n",
        "net[2].weight.data[0, 0] = 100\n",
        "# 我们需要给共享层一个名称，以便可以引用它的参数。\n",
        "print(net[2].weight.data[0] == net[4].weight.data[0])"
      ],
      "execution_count": 21,
      "outputs": [
        {
          "output_type": "stream",
          "text": [
            "tensor([True, True, True, True, True, True, True, True])\n",
            "tensor([True, True, True, True, True, True, True, True])\n"
          ],
          "name": "stdout"
        }
      ]
    }
  ]
}