{
  "nbformat": 4,
  "nbformat_minor": 0,
  "metadata": {
    "colab": {
      "name": "0x18_自定义层.ipynb",
      "provenance": [],
      "authorship_tag": "ABX9TyMF1gqPC1zK1KHiAlZ5qeY2",
      "include_colab_link": true
    },
    "kernelspec": {
      "name": "python3",
      "display_name": "Python 3"
    }
  },
  "cells": [
    {
      "cell_type": "markdown",
      "metadata": {
        "id": "view-in-github",
        "colab_type": "text"
      },
      "source": [
        "<a href=\"https://colab.research.google.com/github/Matrixmax/Dive_into_DeepLearning/blob/main/0x18_%E8%87%AA%E5%AE%9A%E4%B9%89%E5%B1%82.ipynb\" target=\"_parent\"><img src=\"https://colab.research.google.com/assets/colab-badge.svg\" alt=\"Open In Colab\"/></a>"
      ]
    },
    {
      "cell_type": "markdown",
      "metadata": {
        "id": "sr_s1Wrmg9vO"
      },
      "source": [
        "## 1. 不含模型参数的自定义层\r\n",
        "我们先介绍如何定义一个不含模型参数的自定义层。事实上，这和4.1节（模型构造）中介绍的使用Module类构造模型类似。下面的CenteredLayer类通过继承Module类自定义了一个将输入减掉均值后输出的层，并将层的计算定义在了forward函数里。这个层里不含模型参数。"
      ]
    },
    {
      "cell_type": "code",
      "metadata": {
        "id": "TAMPJw-Dg0Rh"
      },
      "source": [
        "import torch\r\n",
        "from torch import nn\r\n",
        "\r\n",
        "class CenteredLayer(nn.Module):\r\n",
        "    def __init__(self,**kwargs):\r\n",
        "        super(CenteredLayer,self).__init__(**kwargs)\r\n",
        "    def forward(self,x):\r\n",
        "        return x-x.mean()"
      ],
      "execution_count": 3,
      "outputs": []
    },
    {
      "cell_type": "markdown",
      "metadata": {
        "id": "uOAx1i5_hgdS"
      },
      "source": [
        "我们昆虫实例化这个层，然后做前向计算"
      ]
    },
    {
      "cell_type": "code",
      "metadata": {
        "colab": {
          "base_uri": "https://localhost:8080/"
        },
        "id": "8knqAq9thk4N",
        "outputId": "72996fc2-4f07-4c1c-ce42-6ae9b5c08f67"
      },
      "source": [
        "layer = CenteredLayer()\r\n",
        "layer(torch.tensor([1,2,3,4,5],dtype=torch.float))"
      ],
      "execution_count": 4,
      "outputs": [
        {
          "output_type": "execute_result",
          "data": {
            "text/plain": [
              "tensor([-2., -1.,  0.,  1.,  2.])"
            ]
          },
          "metadata": {
            "tags": []
          },
          "execution_count": 4
        }
      ]
    },
    {
      "cell_type": "code",
      "metadata": {
        "id": "laSreOR1hy7J"
      },
      "source": [
        "# 我们也可以用它来构造更复杂的模型\r\n",
        "net = nn.Sequential(nn.Linear(8,128),CenteredLayer())"
      ],
      "execution_count": 5,
      "outputs": []
    },
    {
      "cell_type": "code",
      "metadata": {
        "colab": {
          "base_uri": "https://localhost:8080/"
        },
        "id": "aWPIvaU9h_ny",
        "outputId": "5668b69a-986b-456e-98c0-23d82947afd4"
      },
      "source": [
        "# 打印自定义层各个输出的均值，因为均值是浮点数，所以它的值是一个很接近0的数\r\n",
        "y = net(torch.rand(4,8))\r\n",
        "y.mean().item()"
      ],
      "execution_count": 6,
      "outputs": [
        {
          "output_type": "execute_result",
          "data": {
            "text/plain": [
              "4.656612873077393e-10"
            ]
          },
          "metadata": {
            "tags": []
          },
          "execution_count": 6
        }
      ]
    },
    {
      "cell_type": "markdown",
      "metadata": {
        "id": "g8pH20K4hyIz"
      },
      "source": [
        "## 2. 含模型参数的自定义层\r\n",
        "我们还可以自定义含有模型参数的自定义曾，其中的模型参数可以通过训练学出\r\n",
        "\r\n",
        "在4.2节（模型参数的访问、初始化和共享）中介绍了Parameter类其实是Tensor的子类，如果一个Tensor是Parameter，那么它会自动被添加到模型的参数列表里。所以在自定义含模型参数的层时，我们应该将参数定义成Parameter，除了像4.2.1节那样直接定义成Parameter类外，还可以使用ParameterList和ParameterDict分别定义参数的列表和字典。\r\n",
        "\r\n",
        "ParameterList接收一个Parameter实例的列表作为输入然后得到一个参数列表，使用的时候可以用索引来访问某个参数，另外也可以使用append和extend在列表后面新增参数。"
      ]
    },
    {
      "cell_type": "code",
      "metadata": {
        "colab": {
          "base_uri": "https://localhost:8080/"
        },
        "id": "5Z3slZzakCT-",
        "outputId": "074569f4-307b-4156-a983-407046f09c10"
      },
      "source": [
        "class MyDense(nn.Module):\r\n",
        "    def __init__(self):\r\n",
        "        super(MyDense,self).__init__()\r\n",
        "        self.params = nn.ParameterList([nn.Parameter(torch.rand(4,4)) for i in range(3)])\r\n",
        "        self.params.append(nn.Parameter(torch.randn(4,1)))\r\n",
        "\r\n",
        "    def forward(self,x):\r\n",
        "        for i in range(len(self.params)):\r\n",
        "            x = torch.mm(x,self.params[i])\r\n",
        "        return x\r\n",
        "\r\n",
        "net = MyDense()\r\n",
        "print(net)"
      ],
      "execution_count": 14,
      "outputs": [
        {
          "output_type": "stream",
          "text": [
            "MyDense(\n",
            "  (params): ParameterList(\n",
            "      (0): Parameter containing: [torch.FloatTensor of size 4x4]\n",
            "      (1): Parameter containing: [torch.FloatTensor of size 4x4]\n",
            "      (2): Parameter containing: [torch.FloatTensor of size 4x4]\n",
            "      (3): Parameter containing: [torch.FloatTensor of size 4x1]\n",
            "  )\n",
            ")\n"
          ],
          "name": "stdout"
        },
        {
          "output_type": "stream",
          "text": [
            "/usr/local/lib/python3.6/dist-packages/torch/nn/modules/container.py:434: UserWarning: Setting attributes on ParameterList is not supported.\n",
            "  warnings.warn(\"Setting attributes on ParameterList is not supported.\")\n"
          ],
          "name": "stderr"
        }
      ]
    },
    {
      "cell_type": "markdown",
      "metadata": {
        "id": "y2gw6JwNlN2t"
      },
      "source": [
        "而ParameterDict接收一个Parameter实例的字典作为输入然后得到一个参数字典，然后可以按照字典的规则使用了。例如使用update()新增参数，使用keys()返回所有键值，使用items()返回所有键值对等等，可参考官方文档。"
      ]
    },
    {
      "cell_type": "code",
      "metadata": {
        "colab": {
          "base_uri": "https://localhost:8080/"
        },
        "id": "GOSbEOqTlOVn",
        "outputId": "012731ed-9345-4d1c-e033-db4e1384b058"
      },
      "source": [
        "class MyDictDense(nn.Module):\r\n",
        "    def __init__(self):\r\n",
        "        super(MyDictDense,self).__init__()\r\n",
        "        self.params = nn.ParameterDict({\r\n",
        "            'linear1':nn.Parameter(torch.randn(4,4)),\r\n",
        "            'linear2':nn.Parameter(torch.randn(4,1))\r\n",
        "        })\r\n",
        "        self.params.update({'linear3':nn.Parameter(torch.randn(4,2))})# 新增\r\n",
        "\r\n",
        "    def forward(self,x,choice='linear1'):\r\n",
        "        return torch.mm(x,self.params[choice])\r\n",
        "\r\n",
        "net = MyDictDense()\r\n",
        "print(net)"
      ],
      "execution_count": 10,
      "outputs": [
        {
          "output_type": "stream",
          "text": [
            "MyDictDense(\n",
            "  (params): ParameterDict(\n",
            "      (linear1): Parameter containing: [torch.FloatTensor of size 4x4]\n",
            "      (linear2): Parameter containing: [torch.FloatTensor of size 4x1]\n",
            "      (linear3): Parameter containing: [torch.FloatTensor of size 4x2]\n",
            "  )\n",
            ")\n"
          ],
          "name": "stdout"
        },
        {
          "output_type": "stream",
          "text": [
            "/usr/local/lib/python3.6/dist-packages/torch/nn/modules/container.py:550: UserWarning: Setting attributes on ParameterDict is not supported.\n",
            "  warnings.warn(\"Setting attributes on ParameterDict is not supported.\")\n"
          ],
          "name": "stderr"
        }
      ]
    },
    {
      "cell_type": "code",
      "metadata": {
        "colab": {
          "base_uri": "https://localhost:8080/"
        },
        "id": "K02awFORmjsl",
        "outputId": "cf04a41b-9c5e-4802-96cb-b83b70e79407"
      },
      "source": [
        "# 这样就可以根据传入的键值来进行不同的前向传播\r\n",
        "x = torch.ones(1,4)\r\n",
        "print(net(x,'linear1'))\r\n",
        "print(net(x,'linear2'))\r\n",
        "print(net(x,'linear3'))"
      ],
      "execution_count": 11,
      "outputs": [
        {
          "output_type": "stream",
          "text": [
            "tensor([[-2.8659,  1.1753, -0.0749, -0.8420]], grad_fn=<MmBackward>)\n",
            "tensor([[-0.9580]], grad_fn=<MmBackward>)\n",
            "tensor([[ 1.7631, -0.1104]], grad_fn=<MmBackward>)\n"
          ],
          "name": "stdout"
        }
      ]
    },
    {
      "cell_type": "code",
      "metadata": {
        "colab": {
          "base_uri": "https://localhost:8080/"
        },
        "id": "TB1JL9yvm49J",
        "outputId": "95cb2f26-65d5-450b-e35d-d978761aa6f4"
      },
      "source": [
        "# 使用自定义层构造模型\r\n",
        "net = nn.Sequential(\r\n",
        "    MyDictDense(),\r\n",
        "    MyDense(),\r\n",
        ")\r\n",
        "print(net)\r\n",
        "print(net(x))"
      ],
      "execution_count": 15,
      "outputs": [
        {
          "output_type": "stream",
          "text": [
            "Sequential(\n",
            "  (0): MyDictDense(\n",
            "    (params): ParameterDict(\n",
            "        (linear1): Parameter containing: [torch.FloatTensor of size 4x4]\n",
            "        (linear2): Parameter containing: [torch.FloatTensor of size 4x1]\n",
            "        (linear3): Parameter containing: [torch.FloatTensor of size 4x2]\n",
            "    )\n",
            "  )\n",
            "  (1): MyDense(\n",
            "    (params): ParameterList(\n",
            "        (0): Parameter containing: [torch.FloatTensor of size 4x4]\n",
            "        (1): Parameter containing: [torch.FloatTensor of size 4x4]\n",
            "        (2): Parameter containing: [torch.FloatTensor of size 4x4]\n",
            "        (3): Parameter containing: [torch.FloatTensor of size 4x1]\n",
            "    )\n",
            "  )\n",
            ")\n",
            "tensor([[4.3889]], grad_fn=<MmBackward>)\n"
          ],
          "name": "stdout"
        },
        {
          "output_type": "stream",
          "text": [
            "/usr/local/lib/python3.6/dist-packages/torch/nn/modules/container.py:550: UserWarning: Setting attributes on ParameterDict is not supported.\n",
            "  warnings.warn(\"Setting attributes on ParameterDict is not supported.\")\n",
            "/usr/local/lib/python3.6/dist-packages/torch/nn/modules/container.py:434: UserWarning: Setting attributes on ParameterList is not supported.\n",
            "  warnings.warn(\"Setting attributes on ParameterList is not supported.\")\n"
          ],
          "name": "stderr"
        }
      ]
    }
  ]
}