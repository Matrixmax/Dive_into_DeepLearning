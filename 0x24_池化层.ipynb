{
  "nbformat": 4,
  "nbformat_minor": 0,
  "metadata": {
    "colab": {
      "name": "0x24_池化层.ipynb",
      "provenance": [],
      "collapsed_sections": [],
      "authorship_tag": "ABX9TyP2G8c/Gz+QUk653JYu38FW",
      "include_colab_link": true
    },
    "kernelspec": {
      "name": "python3",
      "display_name": "Python 3"
    }
  },
  "cells": [
    {
      "cell_type": "markdown",
      "metadata": {
        "id": "view-in-github",
        "colab_type": "text"
      },
      "source": [
        "<a href=\"https://colab.research.google.com/github/Matrixmax/Dive_into_DeepLearning/blob/main/0x24_%E6%B1%A0%E5%8C%96%E5%B1%82.ipynb\" target=\"_parent\"><img src=\"https://colab.research.google.com/assets/colab-badge.svg\" alt=\"Open In Colab\"/></a>"
      ]
    },
    {
      "cell_type": "markdown",
      "metadata": {
        "id": "nhUXGjCT3MD9"
      },
      "source": [
        "池化（pooling）层的提出是为了**缓解卷积层对位置的过度敏感性。**"
      ]
    },
    {
      "cell_type": "markdown",
      "metadata": {
        "id": "uzEyAeQx3XCo"
      },
      "source": [
        "## 1. 二维最大池化层和平均池化层"
      ]
    },
    {
      "cell_type": "markdown",
      "metadata": {
        "id": "FlYClSDxwbN0"
      },
      "source": [
        "同卷积层一样，池化层每次对输入数据的一个固定形状窗口（又称池化窗口）中的元素计算输出。不同于卷积层里计算输入和核的互相关性，池化层直接计算池化窗口内元素的最大值或者平均值。该运算也分别叫做最大池化或平均池化。\r\n",
        "\r\n",
        "让我们再次回到本节开始提到的物体边缘检测的例子。现在我们将卷积层的输出作为2×2最大池化的输入。设该卷积层输入是X、池化层输出为Y。无论是X[i, j]和X[i, j+1]值不同，还是X[i, j+1]和X[i, j+2]不同，池化层输出均有Y[i, j]=1。也就是说，使用2×2最大池化层时，只要卷积层识别的模式在高和宽上移动不超过一个元素，我们依然可以将它检测出来。\r\n",
        "\r\n",
        "下面把池化层的前向计算实现在pool2d函数里。它跟5.1节（二维卷积层）里corr2d函数非常类似，唯一的区别在计算输出Y上。"
      ]
    },
    {
      "cell_type": "code",
      "metadata": {
        "id": "Ril-X4du1O6e"
      },
      "source": [
        "import torch\r\n",
        "from torch import nn\r\n",
        "\r\n",
        "def pool2d(X,pool_size,mode = 'max'):\r\n",
        "    X = X.float()\r\n",
        "    p_h,p_w = pool_size\r\n",
        "    Y = torch.zeros(X.shape[0]-p_w+1,X.shape[1]-p_w+1)\r\n",
        "    for i in range(Y.shape[0]):\r\n",
        "        for j in range(Y.shape[1]):\r\n",
        "            if mode == 'max':\r\n",
        "                Y[i,j] = X[i:i+p_h,j:j+p_w].max()\r\n",
        "            elif mode == 'avg':\r\n",
        "                Y[i,j] = X[i:i+p_h,j:j+p_w].mean()\r\n",
        "    return Y"
      ],
      "execution_count": 7,
      "outputs": []
    },
    {
      "cell_type": "code",
      "metadata": {
        "colab": {
          "base_uri": "https://localhost:8080/"
        },
        "id": "9Um8FB-D9LaC",
        "outputId": "4f011a66-c794-44ca-95d3-9201a9a97982"
      },
      "source": [
        "#构造一个例子验证最大池化层的输出\r\n",
        "X = torch.tensor([[0, 1, 2], [3, 4, 5], [6, 7, 8]])\r\n",
        "pool2d(X, (2, 2))"
      ],
      "execution_count": 8,
      "outputs": [
        {
          "output_type": "execute_result",
          "data": {
            "text/plain": [
              "tensor([[4., 5.],\n",
              "        [7., 8.]])"
            ]
          },
          "metadata": {
            "tags": []
          },
          "execution_count": 8
        }
      ]
    },
    {
      "cell_type": "code",
      "metadata": {
        "colab": {
          "base_uri": "https://localhost:8080/"
        },
        "id": "TQoC7sh59iwu",
        "outputId": "f58c8807-f2a3-4ef0-c0fc-cd44fbf834e4"
      },
      "source": [
        "# 验证一下平均池化层\r\n",
        "pool2d(X, (2, 2), 'avg')"
      ],
      "execution_count": 9,
      "outputs": [
        {
          "output_type": "execute_result",
          "data": {
            "text/plain": [
              "tensor([[2., 3.],\n",
              "        [5., 6.]])"
            ]
          },
          "metadata": {
            "tags": []
          },
          "execution_count": 9
        }
      ]
    },
    {
      "cell_type": "markdown",
      "metadata": {
        "id": "mzDyzI2I9K_j"
      },
      "source": [
        "## 2. 填充和步幅\r\n",
        "同卷积层一样，池化层也可以在输入的高和宽两侧的填充并调整窗口的移动步幅来改变输出形状。池化层填充和步幅与卷积层填充和步幅的工作机制一样。我们将通过nn模块里的二维最大池化层MaxPool2d来演示池化层填充和步幅的工作机制。我们先构造一个形状为(1, 1, 4, 4)的输入数据，前两个维度分别是批量和通道。"
      ]
    },
    {
      "cell_type": "code",
      "metadata": {
        "colab": {
          "base_uri": "https://localhost:8080/"
        },
        "id": "UXdsySpa_tDv",
        "outputId": "f804a23b-5894-462d-aa43-3f3df5543fea"
      },
      "source": [
        "X = torch.arange(16,dtype=torch.float).view((1,1,4,4,))\r\n",
        "X"
      ],
      "execution_count": 10,
      "outputs": [
        {
          "output_type": "execute_result",
          "data": {
            "text/plain": [
              "tensor([[[[ 0.,  1.,  2.,  3.],\n",
              "          [ 4.,  5.,  6.,  7.],\n",
              "          [ 8.,  9., 10., 11.],\n",
              "          [12., 13., 14., 15.]]]])"
            ]
          },
          "metadata": {
            "tags": []
          },
          "execution_count": 10
        }
      ]
    },
    {
      "cell_type": "markdown",
      "metadata": {
        "id": "x7oufj99AP11"
      },
      "source": [
        "默认情况下，MaxPool2d实例里步幅和池化窗口形状相同。下面使用形状为(3, 3)的池化窗口，默认获得形状为(3, 3)的步幅。"
      ]
    },
    {
      "cell_type": "code",
      "metadata": {
        "colab": {
          "base_uri": "https://localhost:8080/"
        },
        "id": "IdKjuf-FAR8_",
        "outputId": "d65f3452-87e1-4c02-bf27-795de73c7918"
      },
      "source": [
        "pool2d = nn.MaxPool2d(3)\r\n",
        "pool2d(X)"
      ],
      "execution_count": 11,
      "outputs": [
        {
          "output_type": "execute_result",
          "data": {
            "text/plain": [
              "tensor([[[[10.]]]])"
            ]
          },
          "metadata": {
            "tags": []
          },
          "execution_count": 11
        }
      ]
    },
    {
      "cell_type": "markdown",
      "metadata": {
        "id": "4Er6BNv6Ap6U"
      },
      "source": [
        "我们可以手动指定步幅和填充"
      ]
    },
    {
      "cell_type": "code",
      "metadata": {
        "colab": {
          "base_uri": "https://localhost:8080/"
        },
        "id": "qYIL-rQUAshP",
        "outputId": "673396ae-5851-470a-a2ff-8ae541be557c"
      },
      "source": [
        "pool2d = nn.MaxPool2d(3,padding=1,stride=2)\r\n",
        "pool2d(X)"
      ],
      "execution_count": 14,
      "outputs": [
        {
          "output_type": "execute_result",
          "data": {
            "text/plain": [
              "tensor([[[[ 5.,  7.],\n",
              "          [13., 15.]]]])"
            ]
          },
          "metadata": {
            "tags": []
          },
          "execution_count": 14
        }
      ]
    },
    {
      "cell_type": "markdown",
      "metadata": {
        "id": "qNxLoivkBSgy"
      },
      "source": [
        "我们也可以指定非正方形的池化窗口，并分别指定高和宽上的填充和步幅。"
      ]
    },
    {
      "cell_type": "code",
      "metadata": {
        "colab": {
          "base_uri": "https://localhost:8080/"
        },
        "id": "KxlsAob8BTVl",
        "outputId": "b9580edc-8a28-470c-f41f-77815e9bcc02"
      },
      "source": [
        "pool2d = nn.MaxPool2d((2, 4), padding=(1, 2), stride=(2, 3))\r\n",
        "pool2d(X)"
      ],
      "execution_count": 15,
      "outputs": [
        {
          "output_type": "execute_result",
          "data": {
            "text/plain": [
              "tensor([[[[ 1.,  3.],\n",
              "          [ 9., 11.],\n",
              "          [13., 15.]]]])"
            ]
          },
          "metadata": {
            "tags": []
          },
          "execution_count": 15
        }
      ]
    },
    {
      "cell_type": "markdown",
      "metadata": {
        "id": "1KEc3np0BVkG"
      },
      "source": [
        "## 3. 多通道\r\n",
        "在处理多通道输入数据时，池化层对每个输入通道分别池化，而不是像卷积层那样将各通道的输入按通道相加。这意味着池化层的输出通道数与输入通道数相等。下面将数组X和X+1在通道维上连结来构造通道数为2的输入。"
      ]
    },
    {
      "cell_type": "code",
      "metadata": {
        "colab": {
          "base_uri": "https://localhost:8080/"
        },
        "id": "M_VPEAeGBW-1",
        "outputId": "6988846c-d974-4ba2-f442-32c0e760760b"
      },
      "source": [
        "X = torch.cat((X,X+1),dim=1)\r\n",
        "X"
      ],
      "execution_count": 16,
      "outputs": [
        {
          "output_type": "execute_result",
          "data": {
            "text/plain": [
              "tensor([[[[ 0.,  1.,  2.,  3.],\n",
              "          [ 4.,  5.,  6.,  7.],\n",
              "          [ 8.,  9., 10., 11.],\n",
              "          [12., 13., 14., 15.]],\n",
              "\n",
              "         [[ 1.,  2.,  3.,  4.],\n",
              "          [ 5.,  6.,  7.,  8.],\n",
              "          [ 9., 10., 11., 12.],\n",
              "          [13., 14., 15., 16.]]]])"
            ]
          },
          "metadata": {
            "tags": []
          },
          "execution_count": 16
        }
      ]
    },
    {
      "cell_type": "code",
      "metadata": {
        "colab": {
          "base_uri": "https://localhost:8080/"
        },
        "id": "6qT39OXvCJMP",
        "outputId": "bb933652-1129-450d-a75a-3e298aeb8994"
      },
      "source": [
        "# 池化后输出通道仍然是2\r\n",
        "pool2d = nn.MaxPool2d(3,padding=1,stride=2)\r\n",
        "pool2d(X)"
      ],
      "execution_count": 17,
      "outputs": [
        {
          "output_type": "execute_result",
          "data": {
            "text/plain": [
              "tensor([[[[ 5.,  7.],\n",
              "          [13., 15.]],\n",
              "\n",
              "         [[ 6.,  8.],\n",
              "          [14., 16.]]]])"
            ]
          },
          "metadata": {
            "tags": []
          },
          "execution_count": 17
        }
      ]
    },
    {
      "cell_type": "markdown",
      "metadata": {
        "id": "6OQ_HjtsCWrj"
      },
      "source": [
        "## 4. 小结\r\n",
        "* 最大池化和平均池化分别取池化窗口中输入元素的最大值和平均值作为输出。\r\n",
        "* 池化层的一个主要作用是缓解卷积层对位置的过度敏感性。\r\n",
        "* 可以指定池化层的填充和步幅。\r\n",
        "* 池化层的输出通道数跟输入通道数相同。"
      ]
    }
  ]
}