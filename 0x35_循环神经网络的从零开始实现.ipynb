{
  "nbformat": 4,
  "nbformat_minor": 0,
  "metadata": {
    "colab": {
      "name": "0x35_循环神经网络的从零开始实现.ipynb",
      "provenance": [],
      "collapsed_sections": [],
      "toc_visible": true,
      "mount_file_id": "1tbQ5B9sAtidXPxUFqjFquXk0UTObWF5e",
      "authorship_tag": "ABX9TyPvD/kKwZylENYeEwOXFZ88",
      "include_colab_link": true
    },
    "kernelspec": {
      "name": "python3",
      "display_name": "Python 3"
    },
    "accelerator": "GPU"
  },
  "cells": [
    {
      "cell_type": "markdown",
      "metadata": {
        "id": "view-in-github",
        "colab_type": "text"
      },
      "source": [
        "<a href=\"https://colab.research.google.com/github/Matrixmax/Dive_into_DeepLearning/blob/main/0x35_%E5%BE%AA%E7%8E%AF%E7%A5%9E%E7%BB%8F%E7%BD%91%E7%BB%9C%E7%9A%84%E4%BB%8E%E9%9B%B6%E5%BC%80%E5%A7%8B%E5%AE%9E%E7%8E%B0.ipynb\" target=\"_parent\"><img src=\"https://colab.research.google.com/assets/colab-badge.svg\" alt=\"Open In Colab\"/></a>"
      ]
    },
    {
      "cell_type": "markdown",
      "metadata": {
        "id": "Jgay2rcAtkbn"
      },
      "source": [
        "在本节中，我们将从零开始实现一个基于字符级循环神经网络的语言模型，并在周杰伦专辑歌词数据集上训练一个模型来进行歌词创作。首先，我们读取周杰伦专辑歌词数据集："
      ]
    },
    {
      "cell_type": "code",
      "metadata": {
        "colab": {
          "base_uri": "https://localhost:8080/"
        },
        "id": "j0U-JxwFtX17",
        "outputId": "78cd45bd-2416-4f20-9246-9b658015058c"
      },
      "source": [
        "import time\r\n",
        "import torch\r\n",
        "from torch import nn,optim\r\n",
        "import torch.nn.functional as F\r\n",
        "import math\r\n",
        "import numpy as np\r\n",
        "import sys\r\n",
        "from google.colab import drive\r\n",
        "\r\n",
        "drive.mount('/content/drive')\r\n",
        "sys.path.append('/content/drive/My Drive/Colab Notebooks/Dive_Into_Deep_Learning/')\r\n",
        "import d2lzh_pytorch as d2l\r\n",
        "\r\n",
        "device = torch.device('cuda' if torch.cuda.is_available() else 'cpu')\r\n",
        "!nvidia-smi"
      ],
      "execution_count": null,
      "outputs": [
        {
          "output_type": "stream",
          "text": [
            "Drive already mounted at /content/drive; to attempt to forcibly remount, call drive.mount(\"/content/drive\", force_remount=True).\n",
            "Tue Feb 23 13:09:26 2021       \n",
            "+-----------------------------------------------------------------------------+\n",
            "| NVIDIA-SMI 460.39       Driver Version: 460.32.03    CUDA Version: 11.2     |\n",
            "|-------------------------------+----------------------+----------------------+\n",
            "| GPU  Name        Persistence-M| Bus-Id        Disp.A | Volatile Uncorr. ECC |\n",
            "| Fan  Temp  Perf  Pwr:Usage/Cap|         Memory-Usage | GPU-Util  Compute M. |\n",
            "|                               |                      |               MIG M. |\n",
            "|===============================+======================+======================|\n",
            "|   0  Tesla T4            Off  | 00000000:00:04.0 Off |                    0 |\n",
            "| N/A   70C    P0    32W /  70W |   1024MiB / 15109MiB |      0%      Default |\n",
            "|                               |                      |                  N/A |\n",
            "+-------------------------------+----------------------+----------------------+\n",
            "                                                                               \n",
            "+-----------------------------------------------------------------------------+\n",
            "| Processes:                                                                  |\n",
            "|  GPU   GI   CI        PID   Type   Process name                  GPU Memory |\n",
            "|        ID   ID                                                   Usage      |\n",
            "|=============================================================================|\n",
            "+-----------------------------------------------------------------------------+\n"
          ],
          "name": "stdout"
        }
      ]
    },
    {
      "cell_type": "code",
      "metadata": {
        "id": "ZoGpvz9-vQb3"
      },
      "source": [
        "(corpus_indices, char_to_idx, idx_to_char, vocab_size) = d2l.load_data_jay_lyrics()"
      ],
      "execution_count": null,
      "outputs": []
    },
    {
      "cell_type": "markdown",
      "metadata": {
        "id": "A_T2XP-5xXGA"
      },
      "source": [
        "## 1.one-hot向量\r\n",
        "为了将词表示成向量输入到神经网络，一个简单的办法是使用one-hot向量。假设词典中不同字符的数量为NN（即词典大小vocab_size），每个字符已经同一个从0到N−1的连续整数值索引一一对应。如果一个字符的索引是整数i, 那么我们创建一个全0的长为N的向量，并将其位置为i的元素设成1。该向量就是对原字符的one-hot向量。下面分别展示了索引为0和2的one-hot向量，向量长度等于词典大小。"
      ]
    },
    {
      "cell_type": "code",
      "metadata": {
        "id": "YQRf38oqxT8-",
        "colab": {
          "base_uri": "https://localhost:8080/"
        },
        "outputId": "15ad7c60-ffe6-4ee0-d9c5-7d082419034a"
      },
      "source": [
        "# 自己实现的one-hot函数\r\n",
        "def one_hot(x,n_class,dtype=torch.float32):\r\n",
        "    # X shape: (batch), output shape: (batch, n_class)\r\n",
        "    x = x.long()\r\n",
        "    res = torch.zeros(x.shape[0],n_class,dtype=dtype,device=x.device)\r\n",
        "    res.scatter_(1,x.view(-1,1),1)\r\n",
        "    return res\r\n",
        "\r\n",
        "x = torch.tensor([0,2])\r\n",
        "print(one_hot(x,vocab_size))\r\n",
        "print(vocab_size)"
      ],
      "execution_count": null,
      "outputs": [
        {
          "output_type": "stream",
          "text": [
            "tensor([[1., 0., 0.,  ..., 0., 0., 0.],\n",
            "        [0., 0., 1.,  ..., 0., 0., 0.]])\n",
            "1027\n"
          ],
          "name": "stdout"
        }
      ]
    },
    {
      "cell_type": "code",
      "metadata": {
        "colab": {
          "base_uri": "https://localhost:8080/"
        },
        "id": "_309aPJihNdq",
        "outputId": "a4004a4a-5523-40cc-ff23-c2e1af09c43f"
      },
      "source": [
        "# pytorch自带的one_hot函数\r\n",
        "\r\n",
        "x = torch.tensor([0,2])\r\n",
        "n = vocab_size\r\n",
        "one_hot_x = nn.functional.one_hot(x, n) # pytorch自带的one_hot函数\r\n",
        "\r\n",
        "print(one_hot_x)\r\n",
        "print(len(one_hot_x[0]))\r\n",
        "print(vocab_size)"
      ],
      "execution_count": null,
      "outputs": [
        {
          "output_type": "stream",
          "text": [
            "tensor([[1, 0, 0,  ..., 0, 0, 0],\n",
            "        [0, 0, 1,  ..., 0, 0, 0]])\n",
            "1027\n",
            "1027\n"
          ],
          "name": "stdout"
        }
      ]
    },
    {
      "cell_type": "markdown",
      "metadata": {
        "id": "VkapVDrrhM8_"
      },
      "source": [
        "我们每次采样的小批量的形状是(批量大小, 时间步数)。下面的函数将这样的小批量变换成数个可以输入进网络的形状为(批量大小, 词典大小)的矩阵，矩阵个数等于时间步数。也就是说，时间步tt的输入为Xt，其中n为批量大小，d为输入个数，即one-hot向量长度（词典大小）。"
      ]
    },
    {
      "cell_type": "code",
      "metadata": {
        "colab": {
          "base_uri": "https://localhost:8080/"
        },
        "id": "KBgzlDgIijzO",
        "outputId": "3a75b3d9-40af-4858-80d1-9eff9d544cf0"
      },
      "source": [
        "def to_onehot(X,n_class): #使用自带的one_hot函数\r\n",
        "    return [nn.functional.one_hot(X[:, i], n_class) for i in range(X.shape[1])]\r\n",
        "\r\n",
        "X = torch.arange(10).view(2, 5)\r\n",
        "inputs = to_onehot(X, vocab_size)\r\n",
        "print(inputs)\r\n",
        "print(len(inputs), inputs[0].shape)"
      ],
      "execution_count": null,
      "outputs": [
        {
          "output_type": "stream",
          "text": [
            "[tensor([[1, 0, 0,  ..., 0, 0, 0],\n",
            "        [0, 0, 0,  ..., 0, 0, 0]]), tensor([[0, 1, 0,  ..., 0, 0, 0],\n",
            "        [0, 0, 0,  ..., 0, 0, 0]]), tensor([[0, 0, 1,  ..., 0, 0, 0],\n",
            "        [0, 0, 0,  ..., 0, 0, 0]]), tensor([[0, 0, 0,  ..., 0, 0, 0],\n",
            "        [0, 0, 0,  ..., 0, 0, 0]]), tensor([[0, 0, 0,  ..., 0, 0, 0],\n",
            "        [0, 0, 0,  ..., 0, 0, 0]])]\n",
            "5 torch.Size([2, 1027])\n"
          ],
          "name": "stdout"
        }
      ]
    },
    {
      "cell_type": "code",
      "metadata": {
        "colab": {
          "base_uri": "https://localhost:8080/"
        },
        "id": "rzI9rceth3Sx",
        "outputId": "bb00fe61-965b-4508-ea60-b9508e230fed"
      },
      "source": [
        "# 本函数已保存在d2lzh_pytorch包中方便以后使用\r\n",
        "def to_onehot(X, n_class):  \r\n",
        "    # X shape: (batch, seq_len), output: seq_len elements of (batch, n_class)\r\n",
        "    return [one_hot(X[:, i], n_class) for i in range(X.shape[1])]\r\n",
        "\r\n",
        "X = torch.arange(10).view(2, 5)\r\n",
        "inputs = to_onehot(X, vocab_size)\r\n",
        "print(inputs)\r\n",
        "print(len(inputs), inputs[0].shape)"
      ],
      "execution_count": null,
      "outputs": [
        {
          "output_type": "stream",
          "text": [
            "[tensor([[1., 0., 0.,  ..., 0., 0., 0.],\n",
            "        [0., 0., 0.,  ..., 0., 0., 0.]]), tensor([[0., 1., 0.,  ..., 0., 0., 0.],\n",
            "        [0., 0., 0.,  ..., 0., 0., 0.]]), tensor([[0., 0., 1.,  ..., 0., 0., 0.],\n",
            "        [0., 0., 0.,  ..., 0., 0., 0.]]), tensor([[0., 0., 0.,  ..., 0., 0., 0.],\n",
            "        [0., 0., 0.,  ..., 0., 0., 0.]]), tensor([[0., 0., 0.,  ..., 0., 0., 0.],\n",
            "        [0., 0., 0.,  ..., 0., 0., 0.]])]\n",
            "5 torch.Size([2, 1027])\n"
          ],
          "name": "stdout"
        }
      ]
    },
    {
      "cell_type": "markdown",
      "metadata": {
        "id": "dd2KrtiAiY8o"
      },
      "source": [
        "## 2.初始化模型参数"
      ]
    },
    {
      "cell_type": "code",
      "metadata": {
        "colab": {
          "base_uri": "https://localhost:8080/"
        },
        "id": "Ozsyfwyvka66",
        "outputId": "be36b8dd-5ee0-4688-8067-5a4b94478a9d"
      },
      "source": [
        "num_inputs, num_hiddens, num_outputs = vocab_size, 256, vocab_size\r\n",
        "print('will use', device)\r\n",
        "\r\n",
        "def get_params():\r\n",
        "    def _one(shape):\r\n",
        "        ts = torch.tensor(np.random.normal(0, 0.01, size=shape), device=device, dtype=torch.float32)\r\n",
        "        return torch.nn.Parameter(ts, requires_grad=True)\r\n",
        "\r\n",
        "    # 隐藏层参数\r\n",
        "    W_xh = _one((num_inputs, num_hiddens))\r\n",
        "    W_hh = _one((num_hiddens, num_hiddens))\r\n",
        "    b_h = torch.nn.Parameter(torch.zeros(num_hiddens, device=device, requires_grad=True))\r\n",
        "    # 输出层参数\r\n",
        "    W_hq = _one((num_hiddens, num_outputs))\r\n",
        "    b_q = torch.nn.Parameter(torch.zeros(num_outputs, device=device, requires_grad=True))\r\n",
        "    return nn.ParameterList([W_xh, W_hh, b_h, W_hq, b_q])\r\n"
      ],
      "execution_count": null,
      "outputs": [
        {
          "output_type": "stream",
          "text": [
            "will use cuda\n"
          ],
          "name": "stdout"
        }
      ]
    },
    {
      "cell_type": "markdown",
      "metadata": {
        "id": "fEvtzK3Ru8wo"
      },
      "source": [
        "## 3.定义模型\r\n",
        "我们根据循环神经网络的计算表达式实现该模型。首先定义init_rnn_state函数来返回初始化的隐藏状态。它返回由一个形状为(批量大小, 隐藏单元个数)的值为0的NDArray组成的元组。使用元组是为了更便于处理隐藏状态含有多个NDArray的情况。\r\n"
      ]
    },
    {
      "cell_type": "code",
      "metadata": {
        "id": "GGS8ljlRsd-g"
      },
      "source": [
        "def init_rnn_state(batch_size, num_hiddens, device):\r\n",
        "    return (torch.zeros((batch_size, num_hiddens), device=device), )\r\n"
      ],
      "execution_count": null,
      "outputs": []
    },
    {
      "cell_type": "markdown",
      "metadata": {
        "id": "2OmD5KgBsssg"
      },
      "source": [
        "下面的rnn函数定义了在一个时间步里如何计算隐藏状态和输出，这里的激活函数使用了tanh函数，3.8（多层感知机）章节当元素在实数域上均匀分布时，tanh函数值的均值为0"
      ]
    },
    {
      "cell_type": "code",
      "metadata": {
        "id": "PXh3VYz2tGCh"
      },
      "source": [
        "def rnn(inputs, state, params):\r\n",
        "    # inputs和outputs皆为num_steps个形状为(batch_size, vocab_size)的矩阵\r\n",
        "    W_xh, W_hh, b_h, W_hq, b_q = params\r\n",
        "    H, = state\r\n",
        "    outputs = []\r\n",
        "    for X in inputs:\r\n",
        "        H = torch.tanh(torch.matmul(X, W_xh) + torch.matmul(H, W_hh) + b_h)\r\n",
        "        Y = torch.matmul(H, W_hq) + b_q\r\n",
        "        outputs.append(Y)\r\n",
        "    return outputs, (H,)"
      ],
      "execution_count": null,
      "outputs": []
    },
    {
      "cell_type": "markdown",
      "metadata": {
        "id": "rajxjF6xtrSH"
      },
      "source": [
        "做个简单的测试来观察输出结果的个数（时间步数），以及第一个时间步的输出层输出的形状和隐藏状态的形状。"
      ]
    },
    {
      "cell_type": "code",
      "metadata": {
        "colab": {
          "base_uri": "https://localhost:8080/"
        },
        "id": "LgGtFxg4tr__",
        "outputId": "08ec72fc-427a-4dd2-ef27-f4b87e56538d"
      },
      "source": [
        "state = init_rnn_state(X.shape[0],num_hiddens,device)\r\n",
        "inputs = to_onehot(X.to(device),vocab_size)\r\n",
        "params = get_params()\r\n",
        "outputs,state_new = rnn(inputs,state,params)\r\n",
        "print(len(outputs),outputs[0].shape,state_new[0].shape)"
      ],
      "execution_count": null,
      "outputs": [
        {
          "output_type": "stream",
          "text": [
            "5 torch.Size([2, 1027]) torch.Size([2, 256])\n"
          ],
          "name": "stdout"
        },
        {
          "output_type": "stream",
          "text": [
            "/usr/local/lib/python3.6/dist-packages/torch/nn/modules/container.py:434: UserWarning: Setting attributes on ParameterList is not supported.\n",
            "  warnings.warn(\"Setting attributes on ParameterList is not supported.\")\n"
          ],
          "name": "stderr"
        }
      ]
    },
    {
      "cell_type": "markdown",
      "metadata": {
        "id": "Fq3ZQP0vwXOD"
      },
      "source": [
        "## 4.定义预测函数\r\n",
        "以下函数基于前缀prefix（含有数个字符的字符串）来预测接下来的num_chars个字符。这个函数稍显复杂，其中我们将循环神经单元rnn设置成了函数参数，这样在后面小节介绍其他循环神经网络时能重复使用这个函数。"
      ]
    },
    {
      "cell_type": "code",
      "metadata": {
        "id": "cBgzodMKwVMy"
      },
      "source": [
        "def predict_rnn(prefix,num_chars,rnn,params,init_rnn_state,\r\n",
        "            num_hiddens,vocab_size,device,idx_to_char,char_to_idx):\r\n",
        "    state = init_rnn_state(1,num_hiddens,device)\r\n",
        "    output = [char_to_idx[prefix[0]]]\r\n",
        "    for t in range(num_chars + len(prefix)-1):\r\n",
        "        # 把上一个时间步的输出作为当前时间步的输入，\r\n",
        "        X = to_onehot(torch.tensor([[output[-1]]],device=device),vocab_size)\r\n",
        "        # 计算输出和更新隐藏状态\r\n",
        "        (Y,state) = rnn(X,state,params)\r\n",
        "        # 下一个时间步的输入是prefix里的字符或者当前的最佳预测字符\r\n",
        "        if t<len(prefix)-1:\r\n",
        "            output.append(char_to_idx[prefix[t+1]])\r\n",
        "        else:\r\n",
        "            output.append(int(Y[0].argmax(dim=1).item()))\r\n",
        "    return ''.join([idx_to_char[i] for i in output])"
      ],
      "execution_count": null,
      "outputs": []
    },
    {
      "cell_type": "markdown",
      "metadata": {
        "id": "dNLdTMtL1kgU"
      },
      "source": [
        "测试一下predict_rnn函数。根据前缀“分开”创作长度为10个字符（不考虑前缀长度）的一段歌词。因为模型参数为随机值，所以预测结果也是随机的。"
      ]
    },
    {
      "cell_type": "code",
      "metadata": {
        "colab": {
          "base_uri": "https://localhost:8080/",
          "height": 35
        },
        "id": "6LjK-fgP1lBm",
        "outputId": "9fb9d3f0-9edd-4569-865d-be7b0a361f51"
      },
      "source": [
        "predict_rnn('分开', 10, rnn, params, init_rnn_state, num_hiddens, vocab_size,\r\n",
        "            device, idx_to_char, char_to_idx)"
      ],
      "execution_count": null,
      "outputs": [
        {
          "output_type": "execute_result",
          "data": {
            "application/vnd.google.colaboratory.intrinsic+json": {
              "type": "string"
            },
            "text/plain": [
              "'分开游担篇墟惹离却将晰虽'"
            ]
          },
          "metadata": {
            "tags": []
          },
          "execution_count": 71
        }
      ]
    },
    {
      "cell_type": "markdown",
      "metadata": {
        "id": "mbrlxZrx2P_A"
      },
      "source": [
        "## 5.裁剪梯度\r\n",
        "循环神经网络中较容易出现梯度衰减或梯度爆炸。我们会在6.6节（通过时间反向传播）中解释原因。为了应对梯度爆炸，我们可以裁剪梯度（clip gradient）。假设我们把所有模型参数梯度的元素拼接成一个向量 g，并设裁剪的阈值是θ。裁剪后的梯度\r\n",
        "![image.png](data:image/png;base64,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)\r\n",
        "\r\n",
        "的L2范数不超过θ。"
      ]
    },
    {
      "cell_type": "code",
      "metadata": {
        "id": "aDm6zINk2eUI"
      },
      "source": [
        "# 本函数已保存在d2lzh_pytorch包中方便以后使用\r\n",
        "def grad_clipping(params, theta, device):\r\n",
        "    norm = torch.tensor([0.0], device=device)\r\n",
        "    for param in params:\r\n",
        "        norm += (param.grad.data ** 2).sum()\r\n",
        "    norm = norm.sqrt().item()\r\n",
        "    if norm > theta:\r\n",
        "        for param in params:\r\n",
        "            param.grad.data *= (theta / norm)\r\n"
      ],
      "execution_count": null,
      "outputs": []
    },
    {
      "cell_type": "markdown",
      "metadata": {
        "id": "Nn0wsRn_37HZ"
      },
      "source": [
        "## 6. 困惑度\r\n",
        "我们通常使用困惑度（perplexity）来评价语言模型的好坏。回忆一下3.4节（softmax回归）中交叉熵损失函数的定义。困惑度是对交叉熵损失函数做指数运算后得到的值。特别地，\r\n",
        "1. 最佳情况下，模型总是把标签类别的概率预测为1，此时困惑度为1；\r\n",
        "2. 最坏情况下，模型总是把标签类别的概率预测为0，此时困惑度为正无穷；\r\n",
        "3. 基线情况下，模型总是预测所有类别的概率都相同，此时困惑度为类别个数。\r\n",
        "显然，任何一个有效模型的困惑度必须小于类别个数。在本例中，困惑度必须小于词典大小vocab_size。"
      ]
    },
    {
      "cell_type": "markdown",
      "metadata": {
        "id": "FaOTiwf-4LKs"
      },
      "source": [
        "## 7. 定义模型训练函数\r\n",
        "跟之前章节的模型训练函数相比，这里的模型训练函数有以下几点不同：\r\n",
        "1. 使用困惑度评价模型。\r\n",
        "2. 在迭代模型参数前裁剪梯度。\r\n",
        "3. 对时序数据采用不同采样方法将导致隐藏状态初始化的不同。相关讨论可参考6.3节（语言模型数据集（周杰伦专辑歌词））。\r\n",
        "另外，考虑到后面将介绍的其他循环神经网络，为了更通用，这里的函数实现更长一些。"
      ]
    },
    {
      "cell_type": "code",
      "metadata": {
        "id": "dlZvS_r44SrR"
      },
      "source": [
        "# 本函数已保存在d2lzh_pytorch包中方便以后使用\r\n",
        "def train_and_predict_rnn(rnn, get_params, init_rnn_state, num_hiddens,\r\n",
        "                          vocab_size, device, corpus_indices, idx_to_char,\r\n",
        "                          char_to_idx, is_random_iter, num_epochs, num_steps,\r\n",
        "                          lr, clipping_theta, batch_size, pred_period,\r\n",
        "                          pred_len, prefixes):\r\n",
        "    if is_random_iter:\r\n",
        "        data_iter_fn = d2l.data_iter_random\r\n",
        "    else:\r\n",
        "        data_iter_fn = d2l.data_iter_consecutive\r\n",
        "    params = get_params()\r\n",
        "    loss = nn.CrossEntropyLoss()\r\n",
        "\r\n",
        "    for epoch in range(num_epochs):\r\n",
        "        if not is_random_iter:  # 如使用相邻采样，在epoch开始时初始化隐藏状态\r\n",
        "            state = init_rnn_state(batch_size, num_hiddens, device)\r\n",
        "        l_sum, n, start = 0.0, 0, time.time()\r\n",
        "        data_iter = data_iter_fn(corpus_indices, batch_size, num_steps, device)\r\n",
        "        for X, Y in data_iter:\r\n",
        "            if is_random_iter:  # 如使用随机采样，在每个小批量更新前初始化隐藏状态\r\n",
        "                state = init_rnn_state(batch_size, num_hiddens, device)\r\n",
        "            else:  \r\n",
        "            # 否则需要使用detach函数从计算图分离隐藏状态, 这是为了\r\n",
        "            # 使模型参数的梯度计算只依赖一次迭代读取的小批量序列(防止梯度计算开销太大)\r\n",
        "                for s in state:\r\n",
        "                    s.detach_()\r\n",
        "\r\n",
        "            inputs = to_onehot(X, vocab_size)\r\n",
        "            # outputs有num_steps个形状为(batch_size, vocab_size)的矩阵\r\n",
        "            (outputs, state) = rnn(inputs, state, params)\r\n",
        "            # 拼接之后形状为(num_steps * batch_size, vocab_size)\r\n",
        "            outputs = torch.cat(outputs, dim=0)\r\n",
        "            # Y的形状是(batch_size, num_steps)，转置后再变成长度为\r\n",
        "            # batch * num_steps 的向量，这样跟输出的行一一对应\r\n",
        "            y = torch.transpose(Y, 0, 1).contiguous().view(-1)\r\n",
        "            # 使用交叉熵损失计算平均分类误差\r\n",
        "            l = loss(outputs, y.long())\r\n",
        "\r\n",
        "            # 梯度清0\r\n",
        "            if params[0].grad is not None:\r\n",
        "                for param in params:\r\n",
        "                    param.grad.data.zero_()\r\n",
        "            l.backward()\r\n",
        "            grad_clipping(params, clipping_theta, device)  # 裁剪梯度\r\n",
        "            d2l.sgd(params, lr, 1)  # 因为误差已经取过均值，梯度不用再做平均\r\n",
        "            l_sum += l.item() * y.shape[0]\r\n",
        "            n += y.shape[0]\r\n",
        "\r\n",
        "        if (epoch + 1) % pred_period == 0:\r\n",
        "            print('epoch %d, perplexity %f, time %.2f sec' % (\r\n",
        "                epoch + 1, math.exp(l_sum / n), time.time() - start))\r\n",
        "            for prefix in prefixes:\r\n",
        "                print(' -', predict_rnn(prefix, pred_len, rnn, params, init_rnn_state,\r\n",
        "                    num_hiddens, vocab_size, device, idx_to_char, char_to_idx))\r\n"
      ],
      "execution_count": null,
      "outputs": []
    },
    {
      "cell_type": "markdown",
      "metadata": {
        "id": "VbdBuyxE_Wi6"
      },
      "source": [
        "## 8.训练模型并且创作歌词\r\n",
        "现在我们可以训练模型了。首先，设置模型超参数。我们将根据前缀“分开”和“不分开”分别创作长度为50个字符（不考虑前缀长度）的一段歌词。我们每过50个迭代周期便根据当前训练的模型创作一段歌词。"
      ]
    },
    {
      "cell_type": "code",
      "metadata": {
        "id": "aOqYeqNE_nct"
      },
      "source": [
        "num_epochs, num_steps, batch_size, lr, clipping_theta = 500, 35, 32, 1e2, 1e-2\r\n",
        "pred_period, pred_len, prefixes = 50, 50, ['分开', '明天', '中国']\r\n"
      ],
      "execution_count": null,
      "outputs": []
    },
    {
      "cell_type": "code",
      "metadata": {
        "colab": {
          "base_uri": "https://localhost:8080/"
        },
        "id": "GihnJe6l_pwY",
        "outputId": "3d86794b-5585-4c94-a061-f6ba40b93224"
      },
      "source": [
        "train_and_predict_rnn(rnn, get_params, init_rnn_state, num_hiddens,\r\n",
        "                      vocab_size, device, corpus_indices, idx_to_char,\r\n",
        "                      char_to_idx, True, num_epochs, num_steps, lr,\r\n",
        "                      clipping_theta, batch_size, pred_period, pred_len,\r\n",
        "                      prefixes)\r\n"
      ],
      "execution_count": null,
      "outputs": [
        {
          "output_type": "stream",
          "text": [
            "/usr/local/lib/python3.6/dist-packages/torch/nn/modules/container.py:434: UserWarning: Setting attributes on ParameterList is not supported.\n",
            "  warnings.warn(\"Setting attributes on ParameterList is not supported.\")\n"
          ],
          "name": "stderr"
        },
        {
          "output_type": "stream",
          "text": [
            "epoch 50, perplexity 66.344651, time 0.10 sec\n",
            " - 分开 我不要再想 我不要再想 我不要再想 我不要再想 我不要再想 我不要再想 我不要再想 我不要再想 我\n",
            " - 明天 我不要再想 我不要再想 我不要再想 我不要再想 我不要再想 我不要再想 我不要再想 我不要再想 我\n",
            " - 中国 我不要再想 我不要再想 我不要再想 我不要再想 我不要再想 我不要再想 我不要再想 我不要再想 我\n",
            "epoch 100, perplexity 10.276022, time 0.10 sec\n",
            " - 分开 不要再双 习谁了空 恨一定空 你不着  你的你空 我想多 爱你我 看想就 我给就这样牵 你知想好样\n",
            " - 明天 我不能 想爱走著 快些有 你想我 说你   你的回头 我想要这样  没有你在我有多 从小就耳 我来\n",
            " - 中国 不着用双 习使用双截棍 哼哼哈兮 快使用双截棍 哼哼哈兮 如果我有轻功  我不要看里 我不能 想你\n",
            "epoch 150, perplexity 2.855509, time 0.10 sec\n",
            " - 分开 娘子我 别地安 三壶四头 江人 一壶么 有在回 干什么纳霜 在唱盘 旧皮箱 装属了明信片的铁盒里藏\n",
            " - 明天 我不能 穿爱我 让我 恨你的事我早红 却因 没有你的玩笑 像通法重 让你的 不人光 什么都有 一漠\n",
            " - 中国对 周只人年酿的 有什的传女人  在穿了明我 一地莫 担怪箱 装属了明信片的铁盒 藏著一容次剧 也上\n",
            "epoch 200, perplexity 1.612630, time 0.10 sec\n",
            " - 分开 不想去用分直 有多抢靠我 轻学是乌鸦 别人掌怕羞 蜥蝪横著走 这里什么奇怪的事都有 包括像猫的狗 \n",
            " - 明天那我说那了透那 我给你的爱写在西元前 深埋在美索不达米亚平原 几十个文纪后出土发现 泥板上的字迹依然\n",
            " - 中国记 风姥人年酿的豆瓣酱 我对著黑白照片开始想像 爸和妈当年的模样 说著一口吴侬 语上完斤在排肉轻 还\n",
            "epoch 250, perplexity 1.316153, time 0.10 sec\n",
            " - 分开 装么的欢干 谁都盘停留的忧为还 我对著黑白照片开始想像 爸和妈当年的模样 说著一口吴侬软语的姑娘缓\n",
            " - 明天那手心边 我说得的让写有西元前 深埋在美索不达米亚平原 几十个世纪后出土发现 泥板上的字迹依然清晰可\n",
            " - 中国记 风杰人  却眼里跟一起 它牵手的手口桑老 思念下了险点的母斑鸠 印地安老斑鸠 腿短毛不多 几天都\n",
            "epoch 300, perplexity 1.211304, time 0.10 sec\n",
            " - 分开我 说物可 快给我 印地安的传说 还爱你 瞎不么你阳么南 干什么 干什么 气被我田手牵开 但什么 纪\n",
            " - 明天让我心无好可躲 我想要这样照着你知手是你远说害 我不要你想 我不能再想 我不 我不 我不要再想你 不\n",
            " - 中国记 温杰伦 告给了 我有店任手牵着你 说念太这最泪被光aby  我的世界已狂风暴雨 Wu  爱情来的\n",
            "epoch 350, perplexity 1.163998, time 0.14 sec\n",
            " - 分开我 说思可口潮个 哼属都我 你该我有轻功 飞檐走壁 为人耿直不屈 一身正气 快使用双截棍 哼哼哈兮 \n",
            " - 明天那手直边 我说还的让模片样 什么兵器最喜欢 双截棍柔中带刚 想要去河南嵩山 学少林跟武当 快使用双截\n",
            " - 中国记 姥姥当人酿廉 世有时以国手 漂亮的假栈人多 牧草有没有 我马儿有些瘦 世事看透 江湖上潮起不 仁\n",
            "epoch 400, perplexity 1.183874, time 0.10 sec\n",
            " - 分开 娘子我人多开  话去对不了 想经再 在满她下 手诉的脚 在谁的脚废极 一生水起 走们用双截棍 哼 \n",
            " - 明天那下直边一句 他们葛夕它口 我怀念 你爱我 说不 迷我跟始头球的 不要送待飞檐大 话说你  什么马不\n",
            " - 中国记 我后好够生你的世 别物让口阳布翔走 在 它底灌木妈妈出 如心理们武作用 你说 苦笑常常陪着你 在\n",
            "epoch 450, perplexity 1.147002, time 0.10 sec\n",
            " - 分开 娘子球人潮 白话它什么 一朵一朵因你而香 试图让夕阳飞翔 带领你我环绕大自然 迎著风 开始共渡每一\n",
            " - 明天让我感那了生  没有你 彷爸载著阳这 不管到哪里都是晴天 蝴蝶自在飞 花也布满天 一朵日角因 这样什\n",
            " - 中国自 帅杰伦 酿弄堂 什么都有 这故事 告诉我 印地安的手说 还 是你胸世棒如 像物样不 快谁我习轻的\n",
            "epoch 500, perplexity 1.168012, time 0.10 sec\n",
            " - 分开 不步她人哭  辛爱你烦不 你色心习 对我爱上你 那场却 一句惹毛开光四 干什么  什么云霜向我 手\n",
            " - 明天那过 那因却依口不 哼天哈兮 得使用双截棍 哼哼哈兮 如果我有轻功 飞檐走壁 为人耿直不屈 一身正气\n",
            " - 中国记 牛姥心没有江棒世我 没有你有 会果光 太墟真囱 停止在动不个 一生正对游手 快攻抢我们都睡着 我\n"
          ],
          "name": "stdout"
        }
      ]
    }
  ]
}