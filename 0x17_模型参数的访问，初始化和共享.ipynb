{
  "nbformat": 4,
  "nbformat_minor": 0,
  "metadata": {
    "colab": {
      "name": "0x17_模型参数的访问，初始化和共享.ipynb",
      "provenance": [],
      "collapsed_sections": [],
      "authorship_tag": "ABX9TyOjH6O+FCU7EiQqeNzJxLQK",
      "include_colab_link": true
    },
    "kernelspec": {
      "name": "python3",
      "display_name": "Python 3"
    }
  },
  "cells": [
    {
      "cell_type": "markdown",
      "metadata": {
        "id": "view-in-github",
        "colab_type": "text"
      },
      "source": [
        "<a href=\"https://colab.research.google.com/github/Matrixmax/Dive_into_DeepLearning/blob/main/0x17_%E6%A8%A1%E5%9E%8B%E5%8F%82%E6%95%B0%E7%9A%84%E8%AE%BF%E9%97%AE%EF%BC%8C%E5%88%9D%E5%A7%8B%E5%8C%96%E5%92%8C%E5%85%B1%E4%BA%AB.ipynb\" target=\"_parent\"><img src=\"https://colab.research.google.com/assets/colab-badge.svg\" alt=\"Open In Colab\"/></a>"
      ]
    },
    {
      "cell_type": "markdown",
      "metadata": {
        "id": "3ZI3NvQQFDV1"
      },
      "source": [
        "在3.3节（线性回归的简洁实现）中，我们通过init模块来初始化模型的参数。我们也介绍了访问模型参数的简单方法。本节将深入讲解如何访问和初始化模型参数，以及如何在多个层之间共享同一份模型参数。\r\n",
        "\r\n",
        "我们先定义一个与上一节中相同的含单隐藏层的多层感知机。我们依然使用默认方式初始化它的参数，并做一次前向计算。与之前不同的是，在这里我们从nn中导入了init模块，它包含了多种模型初始化方法。"
      ]
    },
    {
      "cell_type": "code",
      "metadata": {
        "colab": {
          "base_uri": "https://localhost:8080/"
        },
        "id": "Wn39whl4E9Sd",
        "outputId": "2732961d-d3f5-4aef-b8fc-c4e339423c71"
      },
      "source": [
        "import torch\r\n",
        "from torch import nn\r\n",
        "from torch.nn import init\r\n",
        "\r\n",
        "# pytorch已经进行默认初始化\r\n",
        "net = nn.Sequential(nn.Linear(4,3),nn.ReLU(),nn.Linear(3,1))\r\n",
        "\r\n",
        "print(net)\r\n",
        "X = torch.rand(2,4)\r\n",
        "Y = net(X).sum()"
      ],
      "execution_count": null,
      "outputs": [
        {
          "output_type": "stream",
          "text": [
            "Sequential(\n",
            "  (0): Linear(in_features=4, out_features=3, bias=True)\n",
            "  (1): ReLU()\n",
            "  (2): Linear(in_features=3, out_features=1, bias=True)\n",
            ")\n"
          ],
          "name": "stdout"
        }
      ]
    },
    {
      "cell_type": "markdown",
      "metadata": {
        "id": "nVXmMOeQFjv3"
      },
      "source": [
        "## 1. 访问模型参数\r\n",
        "回忆一下上一节中提到的Sequential类与Module类的继承关系。对于Sequential实例中含模型参数的层，我们可以通过Module类的parameters()或者named_parameters()方法来访问所有参数（以迭代器的形式返回），后者除了返回参数Tensor外还会返回其名字。下面，访问多层感知机net的所有参数："
      ]
    },
    {
      "cell_type": "code",
      "metadata": {
        "colab": {
          "base_uri": "https://localhost:8080/"
        },
        "id": "RwACJkkRFoWJ",
        "outputId": "98820915-af1d-4cde-fad9-4b8fef83e9a6"
      },
      "source": [
        "print(type(net.named_parameters()))\r\n",
        "for name,param in net.named_parameters():\r\n",
        "    print(str(name)+\" : \"+str(param.size()))"
      ],
      "execution_count": null,
      "outputs": [
        {
          "output_type": "stream",
          "text": [
            "<class 'generator'>\n",
            "0.weight : torch.Size([3, 4])\n",
            "0.bias : torch.Size([3])\n",
            "2.weight : torch.Size([1, 3])\n",
            "2.bias : torch.Size([1])\n"
          ],
          "name": "stdout"
        }
      ]
    },
    {
      "cell_type": "markdown",
      "metadata": {
        "id": "bzfxpzwhGWci"
      },
      "source": [
        "可见返回的名字自动加上了层数的索引作为前缀。 我们再来访问net中单层的参数。对于使用Sequential类构造的神经网络，我们可以通过方括号[]来访问网络的任一层。索引0表示隐藏层为Sequential实例最先添加的层。"
      ]
    },
    {
      "cell_type": "code",
      "metadata": {
        "colab": {
          "base_uri": "https://localhost:8080/"
        },
        "id": "BRbyj-ruGXnv",
        "outputId": "e4970b36-1152-457b-d7b9-9c74321379a6"
      },
      "source": [
        "for name,param in net[0].named_parameters():\r\n",
        "    print(name,param.size(),type(param))"
      ],
      "execution_count": null,
      "outputs": [
        {
          "output_type": "stream",
          "text": [
            "weight torch.Size([3, 4]) <class 'torch.nn.parameter.Parameter'>\n",
            "bias torch.Size([3]) <class 'torch.nn.parameter.Parameter'>\n"
          ],
          "name": "stdout"
        }
      ]
    },
    {
      "cell_type": "markdown",
      "metadata": {
        "id": "wUPiq2OLHpu3"
      },
      "source": [
        "因为这里是单层的所以没有了层数索引的前缀。另外返回的param的类型为torch.nn.parameter.Parameter，其实这是Tensor的子类，和Tensor不同的是如果一个Tensor是Parameter，那么它会自动被添加到模型的参数列表里，来看下面这个例子。"
      ]
    },
    {
      "cell_type": "code",
      "metadata": {
        "colab": {
          "base_uri": "https://localhost:8080/"
        },
        "id": "88i6OQckHs0b",
        "outputId": "a6bd6e2c-742c-4435-cb90-c574c52efcae"
      },
      "source": [
        "class MyModule(nn.Module):\r\n",
        "    def __init__(self,**kwargs):\r\n",
        "        super(MyModule,self).__init__(**kwargs)\r\n",
        "        self.weight1 = nn.Parameter(torch.rand(20,20))\r\n",
        "        self.weight2 = torch.rand(20,20)\r\n",
        "    def forward(self,x):\r\n",
        "        pass\r\n",
        "\r\n",
        "n = MyModule()\r\n",
        "for name,param in n.named_parameters():\r\n",
        "    print(name)"
      ],
      "execution_count": null,
      "outputs": [
        {
          "output_type": "stream",
          "text": [
            "weight1\n"
          ],
          "name": "stdout"
        }
      ]
    },
    {
      "cell_type": "markdown",
      "metadata": {
        "id": "Rpyrydo-IYqP"
      },
      "source": [
        "上面的代码中weight1在参数列表中但是weight2却没在参数列表中。\r\n",
        "\r\n",
        "因为Parameter是Tensor，即Tensor拥有的属性它都有，比如可以根据data来访问参数数值，用grad来访问参数梯度。"
      ]
    },
    {
      "cell_type": "code",
      "metadata": {
        "colab": {
          "base_uri": "https://localhost:8080/"
        },
        "id": "QXBLNlM8IZSx",
        "outputId": "6b2dcf1e-5ae3-4522-b271-ebbeba10b8e8"
      },
      "source": [
        "weight_0 = list(net[0].parameters())[0]\r\n",
        "print(weight_0.data)\r\n",
        "print(weight_0.grad) # 反向传播之前，梯度为None\r\n",
        "Y.backward()\r\n",
        "print(weight_0.grad)\r\n"
      ],
      "execution_count": null,
      "outputs": [
        {
          "output_type": "stream",
          "text": [
            "tensor([[-0.0427, -0.4227,  0.4240,  0.0940],\n",
            "        [ 0.4434,  0.3806,  0.4065,  0.2683],\n",
            "        [ 0.3830,  0.3362,  0.3729, -0.0349]])\n",
            "None\n",
            "tensor([[-0.1669, -0.5457, -0.5394, -0.8498],\n",
            "        [ 0.1356,  0.4435,  0.4384,  0.6907],\n",
            "        [-0.0597, -0.1952, -0.1930, -0.3040]])\n"
          ],
          "name": "stdout"
        }
      ]
    },
    {
      "cell_type": "markdown",
      "metadata": {
        "id": "vW3vC0M1JvKt"
      },
      "source": [
        "## 2.初始化模型参数\r\n",
        "我们经常需要使用其他方法来初始化权重。PyTorch的init模块里提供了多种预设的初始化方法。在下面的例子中，我们将权重参数初始化成均值为0、标准差为0.01的正态分布随机数，并依然将偏差参数清零。"
      ]
    },
    {
      "cell_type": "code",
      "metadata": {
        "colab": {
          "base_uri": "https://localhost:8080/"
        },
        "id": "JDhHGro9J0oP",
        "outputId": "3a455ac1-adca-463a-a88e-2918cdc288b1"
      },
      "source": [
        "for name,param in net.named_parameters():\r\n",
        "    if 'weight' in name:\r\n",
        "        init.normal_(param,mean=0,std=0.01)\r\n",
        "        print(name,param.data)"
      ],
      "execution_count": null,
      "outputs": [
        {
          "output_type": "stream",
          "text": [
            "0.weight tensor([[ 0.0088, -0.0079, -0.0070, -0.0157],\n",
            "        [ 0.0031, -0.0045,  0.0131,  0.0041],\n",
            "        [ 0.0027, -0.0098,  0.0134,  0.0007]])\n",
            "2.weight tensor([[-0.0054, -0.0123,  0.0017]])\n"
          ],
          "name": "stdout"
        }
      ]
    },
    {
      "cell_type": "code",
      "metadata": {
        "colab": {
          "base_uri": "https://localhost:8080/"
        },
        "id": "FbY0XVPBKFso",
        "outputId": "a1093e73-914e-42e0-dc08-2903d01f4d5e"
      },
      "source": [
        "# 下面使用常数来初始化权重参数\r\n",
        "for name, param in net.named_parameters():\r\n",
        "    if 'bias' in name:\r\n",
        "        init.constant_(param, val=0)\r\n",
        "        print(name, param.data)"
      ],
      "execution_count": null,
      "outputs": [
        {
          "output_type": "stream",
          "text": [
            "0.bias tensor([0., 0., 0.])\n",
            "2.bias tensor([0.])\n"
          ],
          "name": "stdout"
        }
      ]
    },
    {
      "cell_type": "markdown",
      "metadata": {
        "id": "JWkJRdGDKFJl"
      },
      "source": [
        "## 3.自定义初始化参数\r\n",
        "有时候我们需要的初始化方法并没有在init模块中提供。这时，可以实现一个初始化方法，从而能够像使用其他初始化方法那样使用它。在这之前我们先来看看PyTorch是怎么实现这些初始化方法的，例如torch.nn.init.normal_："
      ]
    },
    {
      "cell_type": "code",
      "metadata": {
        "id": "pTsHx6gXLZsW"
      },
      "source": [
        "def normal_(tensor,mean=0,std=1):\r\n",
        "    with ttorch.no_grad():\r\n",
        "        return tensor.normal_(mean,std)"
      ],
      "execution_count": null,
      "outputs": []
    },
    {
      "cell_type": "markdown",
      "metadata": {
        "id": "FglomvB7LkRI"
      },
      "source": [
        "可以看到这就是一个inplace改变Tensor值的函数，而且这个过程是不记录梯度的。 类似的我们来实现一个自定义的初始化方法。在下面的例子里，我们令权重有一半概率初始化为0，有另一半概率初始化为[−10,−5][−10,−5]和[5,10][5,10]两个区间里均匀分布的随机数。"
      ]
    },
    {
      "cell_type": "code",
      "metadata": {
        "id": "QAw3xjqRLkuk",
        "colab": {
          "base_uri": "https://localhost:8080/"
        },
        "outputId": "2dfa956e-e36d-43f3-a056-04bb0deb5cde"
      },
      "source": [
        "def init_weight_(tensor):\r\n",
        "    with torch.no_grad():\r\n",
        "        tensor.uniform_(-10,10)\r\n",
        "        tensor *= (tensor.abs()>=5).float()\r\n",
        "\r\n",
        "for name,param in net.named_parameters():\r\n",
        "    if 'weight' in name:\r\n",
        "        init_weight_(param)\r\n",
        "        print(name,param.data)"
      ],
      "execution_count": 10,
      "outputs": [
        {
          "output_type": "stream",
          "text": [
            "0.weight tensor([[-0.0000,  5.3147, -0.0000,  8.7943],\n",
            "        [ 7.7569, -7.8153,  9.3808,  6.1814],\n",
            "        [-0.0000, -5.5513,  0.0000,  7.8947]])\n",
            "2.weight tensor([[0., 0., -0.]])\n"
          ],
          "name": "stdout"
        }
      ]
    },
    {
      "cell_type": "markdown",
      "metadata": {
        "id": "qLwBWMqjMisi"
      },
      "source": [
        "我们还可以通过改变这些参数的data来改写模型参数值同时不会影响梯度:"
      ]
    },
    {
      "cell_type": "code",
      "metadata": {
        "colab": {
          "base_uri": "https://localhost:8080/"
        },
        "id": "8ArHu4eaMi_0",
        "outputId": "843c42d6-fdc6-47d4-8403-0691018cba3b"
      },
      "source": [
        "for name,param in net.named_parameters():\r\n",
        "    if 'bias' in name:\r\n",
        "        param.data +=1\r\n",
        "        print(name,param.data)"
      ],
      "execution_count": 12,
      "outputs": [
        {
          "output_type": "stream",
          "text": [
            "0.bias tensor([1., 1., 1.])\n",
            "2.bias tensor([1.])\n"
          ],
          "name": "stdout"
        }
      ]
    },
    {
      "cell_type": "markdown",
      "metadata": {
        "id": "k8EgvXdnMzG4"
      },
      "source": [
        "## 4.共享模型参数\r\n",
        "在有些情况下，我们希望在多个层之间共享模型参数。4.1.3节提到了如何共享模型参数: Module类的forward函数里多次调用同一个层。此外，如果我们传入Sequential的模块是同一个Module实例的话参数也是共享的，下面来看一个例子:"
      ]
    },
    {
      "cell_type": "code",
      "metadata": {
        "colab": {
          "base_uri": "https://localhost:8080/"
        },
        "id": "mLySnCx-M6Ki",
        "outputId": "5c93bfee-7a44-44a9-88b4-1e4752d56164"
      },
      "source": [
        "linear = nn.Linear(1,1,bias=False)\r\n",
        "net = nn.Sequential(linear,linear)\r\n",
        "print(net)\r\n",
        "for name,param in net.named_parameters():\r\n",
        "    init.constant_(param,val=3)\r\n",
        "    print(name,param.data)"
      ],
      "execution_count": 14,
      "outputs": [
        {
          "output_type": "stream",
          "text": [
            "Sequential(\n",
            "  (0): Linear(in_features=1, out_features=1, bias=False)\n",
            "  (1): Linear(in_features=1, out_features=1, bias=False)\n",
            ")\n",
            "0.weight tensor([[3.]])\n"
          ],
          "name": "stdout"
        }
      ]
    },
    {
      "cell_type": "markdown",
      "metadata": {
        "id": "IC7NmT4vNXY2"
      },
      "source": [
        "在内存中，这两个线性层其实一个对象:"
      ]
    },
    {
      "cell_type": "code",
      "metadata": {
        "colab": {
          "base_uri": "https://localhost:8080/"
        },
        "id": "9z5s9OazNX_r",
        "outputId": "61c7b30e-d27f-4284-8d24-6d2962fc2fe2"
      },
      "source": [
        "print(id(net[0]) == id(net[1]))\r\n",
        "print(id(net[0].weight) == id(net[1].weight))"
      ],
      "execution_count": 15,
      "outputs": [
        {
          "output_type": "stream",
          "text": [
            "True\n",
            "True\n"
          ],
          "name": "stdout"
        }
      ]
    },
    {
      "cell_type": "markdown",
      "metadata": {
        "id": "GpOqiQ0PNbcp"
      },
      "source": [
        "因为模型参数里包含了梯度，所以在反向传播计算时，这些共享的参数的梯度是累加的:\r\n",
        "\r\n"
      ]
    },
    {
      "cell_type": "code",
      "metadata": {
        "id": "ltw85f60NcB4",
        "outputId": "832bdde2-2a67-4b01-de3e-d1314f09189a",
        "colab": {
          "base_uri": "https://localhost:8080/"
        }
      },
      "source": [
        "x = torch.ones(1, 1)\r\n",
        "y = net(x).sum()\r\n",
        "print(y)\r\n",
        "y.backward()\r\n",
        "print(net[0].weight.grad) # 单次梯度是3，两次所以就是6\r\n"
      ],
      "execution_count": 16,
      "outputs": [
        {
          "output_type": "stream",
          "text": [
            "tensor(9., grad_fn=<SumBackward0>)\n",
            "tensor([[6.]])\n"
          ],
          "name": "stdout"
        }
      ]
    }
  ]
}