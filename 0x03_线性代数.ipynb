{
  "nbformat": 4,
  "nbformat_minor": 0,
  "metadata": {
    "colab": {
      "name": "0x03 线性代数.ipynb",
      "provenance": [],
      "collapsed_sections": [],
      "toc_visible": true,
      "authorship_tag": "ABX9TyNCjaELgjb87UFJzhxFahFT",
      "include_colab_link": true
    },
    "kernelspec": {
      "name": "python3",
      "display_name": "Python 3"
    },
    "language_info": {
      "name": "python"
    }
  },
  "cells": [
    {
      "cell_type": "markdown",
      "metadata": {
        "id": "view-in-github",
        "colab_type": "text"
      },
      "source": [
        "<a href=\"https://colab.research.google.com/github/Matrixmax/Dive_into_DeepLearning/blob/main/0x03_%E7%BA%BF%E6%80%A7%E4%BB%A3%E6%95%B0.ipynb\" target=\"_parent\"><img src=\"https://colab.research.google.com/assets/colab-badge.svg\" alt=\"Open In Colab\"/></a>"
      ]
    },
    {
      "cell_type": "markdown",
      "metadata": {
        "id": "IQL7rvdTuLMS"
      },
      "source": [
        "## 1. 标量"
      ]
    },
    {
      "cell_type": "code",
      "metadata": {
        "colab": {
          "base_uri": "https://localhost:8080/"
        },
        "id": "w7-ggMh-t0E2",
        "outputId": "dd15f8f5-b87a-4e0c-b9e3-038a20a89f8f"
      },
      "source": [
        "import torch\n",
        "\n",
        "x = torch.tensor([3.0])\n",
        "y = torch.tensor([2.0])\n",
        "\n",
        "x + y, x * y, x / y, x**y"
      ],
      "execution_count": 1,
      "outputs": [
        {
          "output_type": "execute_result",
          "data": {
            "text/plain": [
              "(tensor([5.]), tensor([6.]), tensor([1.5000]), tensor([9.]))"
            ]
          },
          "metadata": {
            "tags": []
          },
          "execution_count": 1
        }
      ]
    },
    {
      "cell_type": "markdown",
      "metadata": {
        "id": "H6YpIotxuNNw"
      },
      "source": [
        "## 2. 向量"
      ]
    },
    {
      "cell_type": "code",
      "metadata": {
        "colab": {
          "base_uri": "https://localhost:8080/"
        },
        "id": "TklFNOzbuPPQ",
        "outputId": "60253d68-467a-48c9-f3c0-7846bf1323cf"
      },
      "source": [
        "x = torch.arange(4)\n",
        "x"
      ],
      "execution_count": 2,
      "outputs": [
        {
          "output_type": "execute_result",
          "data": {
            "text/plain": [
              "tensor([0, 1, 2, 3])"
            ]
          },
          "metadata": {
            "tags": []
          },
          "execution_count": 2
        }
      ]
    },
    {
      "cell_type": "markdown",
      "metadata": {
        "id": "r2jKLOSAuj6q"
      },
      "source": [
        "## 3. 矩阵"
      ]
    },
    {
      "cell_type": "code",
      "metadata": {
        "colab": {
          "base_uri": "https://localhost:8080/"
        },
        "id": "-jEcAR2KumCg",
        "outputId": "d79e887a-038a-4645-8ca0-4ba7af17de34"
      },
      "source": [
        "A = torch.arange(20).reshape(5,4)\n",
        "A"
      ],
      "execution_count": 3,
      "outputs": [
        {
          "output_type": "execute_result",
          "data": {
            "text/plain": [
              "tensor([[ 0,  1,  2,  3],\n",
              "        [ 4,  5,  6,  7],\n",
              "        [ 8,  9, 10, 11],\n",
              "        [12, 13, 14, 15],\n",
              "        [16, 17, 18, 19]])"
            ]
          },
          "metadata": {
            "tags": []
          },
          "execution_count": 3
        }
      ]
    },
    {
      "cell_type": "code",
      "metadata": {
        "colab": {
          "base_uri": "https://localhost:8080/"
        },
        "id": "s2L6PBzAuzeS",
        "outputId": "67ae2f58-42ec-47dc-c57c-dcf2965eea79"
      },
      "source": [
        "# 实现矩阵的转置\n",
        "A.T"
      ],
      "execution_count": 4,
      "outputs": [
        {
          "output_type": "execute_result",
          "data": {
            "text/plain": [
              "tensor([[ 0,  4,  8, 12, 16],\n",
              "        [ 1,  5,  9, 13, 17],\n",
              "        [ 2,  6, 10, 14, 18],\n",
              "        [ 3,  7, 11, 15, 19]])"
            ]
          },
          "metadata": {
            "tags": []
          },
          "execution_count": 4
        }
      ]
    },
    {
      "cell_type": "code",
      "metadata": {
        "colab": {
          "base_uri": "https://localhost:8080/"
        },
        "id": "lMYCuvJJvEqF",
        "outputId": "ff9b7dd2-77db-47a2-a2fc-522b89f6f775"
      },
      "source": [
        "# 对称矩阵A等于其转置At\n",
        "B = torch.tensor([[1, 2, 3], [2, 0, 4], [3, 4, 5]])\n",
        "B"
      ],
      "execution_count": 5,
      "outputs": [
        {
          "output_type": "execute_result",
          "data": {
            "text/plain": [
              "tensor([[1, 2, 3],\n",
              "        [2, 0, 4],\n",
              "        [3, 4, 5]])"
            ]
          },
          "metadata": {
            "tags": []
          },
          "execution_count": 5
        }
      ]
    },
    {
      "cell_type": "code",
      "metadata": {
        "colab": {
          "base_uri": "https://localhost:8080/"
        },
        "id": "p-pOFarsvSu6",
        "outputId": "5ac20a3c-8981-4b72-8a79-cea844f2ba0a"
      },
      "source": [
        "B ==B.T"
      ],
      "execution_count": 6,
      "outputs": [
        {
          "output_type": "execute_result",
          "data": {
            "text/plain": [
              "tensor([[True, True, True],\n",
              "        [True, True, True],\n",
              "        [True, True, True]])"
            ]
          },
          "metadata": {
            "tags": []
          },
          "execution_count": 6
        }
      ]
    },
    {
      "cell_type": "markdown",
      "metadata": {
        "id": "siAygIBfuzDo"
      },
      "source": [
        "## 4. 张量\n"
      ]
    },
    {
      "cell_type": "code",
      "metadata": {
        "colab": {
          "base_uri": "https://localhost:8080/"
        },
        "id": "CdD6mlv6vroJ",
        "outputId": "e4a8c2be-e1af-403e-b8e8-169ebd2ccb65"
      },
      "source": [
        "X = torch.arange(24).reshape(2,3,4)\n",
        "X"
      ],
      "execution_count": 7,
      "outputs": [
        {
          "output_type": "execute_result",
          "data": {
            "text/plain": [
              "tensor([[[ 0,  1,  2,  3],\n",
              "         [ 4,  5,  6,  7],\n",
              "         [ 8,  9, 10, 11]],\n",
              "\n",
              "        [[12, 13, 14, 15],\n",
              "         [16, 17, 18, 19],\n",
              "         [20, 21, 22, 23]]])"
            ]
          },
          "metadata": {
            "tags": []
          },
          "execution_count": 7
        }
      ]
    },
    {
      "cell_type": "code",
      "metadata": {
        "colab": {
          "base_uri": "https://localhost:8080/"
        },
        "id": "48lQBF49wNty",
        "outputId": "92c39a1e-1c5a-4adb-fdd2-2704b8b7433a"
      },
      "source": [
        "A = torch.arange(20, dtype=torch.float32).reshape(5, 4)\n",
        "B = A.clone()  # 通过分配新内存，将A的一个副本分配给B\n",
        "A, A + B"
      ],
      "execution_count": 8,
      "outputs": [
        {
          "output_type": "execute_result",
          "data": {
            "text/plain": [
              "(tensor([[ 0.,  1.,  2.,  3.],\n",
              "         [ 4.,  5.,  6.,  7.],\n",
              "         [ 8.,  9., 10., 11.],\n",
              "         [12., 13., 14., 15.],\n",
              "         [16., 17., 18., 19.]]), tensor([[ 0.,  2.,  4.,  6.],\n",
              "         [ 8., 10., 12., 14.],\n",
              "         [16., 18., 20., 22.],\n",
              "         [24., 26., 28., 30.],\n",
              "         [32., 34., 36., 38.]]))"
            ]
          },
          "metadata": {
            "tags": []
          },
          "execution_count": 8
        }
      ]
    },
    {
      "cell_type": "code",
      "metadata": {
        "colab": {
          "base_uri": "https://localhost:8080/"
        },
        "id": "yjwbfHzp79S9",
        "outputId": "0f3d28f2-5139-406d-bc71-7b10681c3358"
      },
      "source": [
        "A * B"
      ],
      "execution_count": 9,
      "outputs": [
        {
          "output_type": "execute_result",
          "data": {
            "text/plain": [
              "tensor([[  0.,   1.,   4.,   9.],\n",
              "        [ 16.,  25.,  36.,  49.],\n",
              "        [ 64.,  81., 100., 121.],\n",
              "        [144., 169., 196., 225.],\n",
              "        [256., 289., 324., 361.]])"
            ]
          },
          "metadata": {
            "tags": []
          },
          "execution_count": 9
        }
      ]
    },
    {
      "cell_type": "code",
      "metadata": {
        "colab": {
          "base_uri": "https://localhost:8080/"
        },
        "id": "jXrTF5jt9SSW",
        "outputId": "7bba2da0-f05f-40d8-d87d-d8f542acbf88"
      },
      "source": [
        "a = 2\n",
        "X = torch.arange(24).reshape(2,3,4)\n",
        "a+X,(a*X).shape"
      ],
      "execution_count": 10,
      "outputs": [
        {
          "output_type": "execute_result",
          "data": {
            "text/plain": [
              "(tensor([[[ 2,  3,  4,  5],\n",
              "          [ 6,  7,  8,  9],\n",
              "          [10, 11, 12, 13]],\n",
              " \n",
              "         [[14, 15, 16, 17],\n",
              "          [18, 19, 20, 21],\n",
              "          [22, 23, 24, 25]]]), torch.Size([2, 3, 4]))"
            ]
          },
          "metadata": {
            "tags": []
          },
          "execution_count": 10
        }
      ]
    },
    {
      "cell_type": "code",
      "metadata": {
        "colab": {
          "base_uri": "https://localhost:8080/"
        },
        "id": "7wGu2PQC-AMN",
        "outputId": "0f0788f1-040b-4c92-c89e-21ac5e9786c5"
      },
      "source": [
        "x = torch.arange(4, dtype=torch.float32)\n",
        "x, x.sum()"
      ],
      "execution_count": 11,
      "outputs": [
        {
          "output_type": "execute_result",
          "data": {
            "text/plain": [
              "(tensor([0., 1., 2., 3.]), tensor(6.))"
            ]
          },
          "metadata": {
            "tags": []
          },
          "execution_count": 11
        }
      ]
    },
    {
      "cell_type": "code",
      "metadata": {
        "colab": {
          "base_uri": "https://localhost:8080/"
        },
        "id": "1wD1UNl2-Veb",
        "outputId": "4c542fae-88d5-487a-88e2-b842b9ec9d9d"
      },
      "source": [
        "A.shape, A.sum()"
      ],
      "execution_count": 12,
      "outputs": [
        {
          "output_type": "execute_result",
          "data": {
            "text/plain": [
              "(torch.Size([5, 4]), tensor(190.))"
            ]
          },
          "metadata": {
            "tags": []
          },
          "execution_count": 12
        }
      ]
    },
    {
      "cell_type": "markdown",
      "metadata": {
        "id": "_xL7RfSW-ig0"
      },
      "source": [
        "默认情况下，调用求和函数会将一个张量在所有轴上汇总为一个标量。 我们还可以指定求和汇总张量的轴。以矩阵为例。为了通过求和所有行的元素来汇总行维度（轴0），我们可以在调用函数时指定axis=0。 由于输入矩阵沿0轴汇总以生成输出向量，因此输入的轴0的维数在输出形状中丢失。"
      ]
    },
    {
      "cell_type": "code",
      "metadata": {
        "colab": {
          "base_uri": "https://localhost:8080/"
        },
        "id": "lT8zrPaw-YZz",
        "outputId": "4773b093-69fb-4ced-98c6-c3e768ea2613"
      },
      "source": [
        "A_sum_axis0 = A.sum(axis=0)\n",
        "A_sum_axis0, A_sum_axis0.shape"
      ],
      "execution_count": 13,
      "outputs": [
        {
          "output_type": "execute_result",
          "data": {
            "text/plain": [
              "(tensor([40., 45., 50., 55.]), torch.Size([4]))"
            ]
          },
          "metadata": {
            "tags": []
          },
          "execution_count": 13
        }
      ]
    },
    {
      "cell_type": "code",
      "metadata": {
        "colab": {
          "base_uri": "https://localhost:8080/"
        },
        "id": "a205KW4B-jTq",
        "outputId": "953b193b-6d7b-4b8c-c593-22714c8db334"
      },
      "source": [
        "# 有时在调用函数来计算总和或均值时保持轴数不变会很有用。\n",
        "sum_A = A.sum(axis=1, keepdims=True)\n",
        "sum_A"
      ],
      "execution_count": 14,
      "outputs": [
        {
          "output_type": "execute_result",
          "data": {
            "text/plain": [
              "tensor([[ 6.],\n",
              "        [22.],\n",
              "        [38.],\n",
              "        [54.],\n",
              "        [70.]])"
            ]
          },
          "metadata": {
            "tags": []
          },
          "execution_count": 14
        }
      ]
    },
    {
      "cell_type": "code",
      "metadata": {
        "colab": {
          "base_uri": "https://localhost:8080/"
        },
        "id": "lr68EaW4_ZGR",
        "outputId": "10e8bbd9-addb-4433-be91-311b149e15f7"
      },
      "source": [
        "# 如果我们想沿某个轴计算 A 元素的累积总和，比如 axis=0（按行计算），\n",
        "# 我们可以调用 cumsum 函数。此函数不会沿任何轴汇总输入张量。\n",
        "A.cumsum(axis=0)\n"
      ],
      "execution_count": 15,
      "outputs": [
        {
          "output_type": "execute_result",
          "data": {
            "text/plain": [
              "tensor([[ 0.,  1.,  2.,  3.],\n",
              "        [ 4.,  6.,  8., 10.],\n",
              "        [12., 15., 18., 21.],\n",
              "        [24., 28., 32., 36.],\n",
              "        [40., 45., 50., 55.]])"
            ]
          },
          "metadata": {
            "tags": []
          },
          "execution_count": 15
        }
      ]
    },
    {
      "cell_type": "markdown",
      "metadata": {
        "id": "gncL8RDh_Yh_"
      },
      "source": [
        "## 7. 点积"
      ]
    },
    {
      "cell_type": "code",
      "metadata": {
        "colab": {
          "base_uri": "https://localhost:8080/"
        },
        "id": "tlugf-I1AFhC",
        "outputId": "ef643fda-89ff-48af-b704-c14a05fa2d39"
      },
      "source": [
        "y = torch.ones(4,dtype=torch.float32)\n",
        "x, y, torch.dot(x,y)"
      ],
      "execution_count": 16,
      "outputs": [
        {
          "output_type": "execute_result",
          "data": {
            "text/plain": [
              "(tensor([0., 1., 2., 3.]), tensor([1., 1., 1., 1.]), tensor(6.))"
            ]
          },
          "metadata": {
            "tags": []
          },
          "execution_count": 16
        }
      ]
    },
    {
      "cell_type": "code",
      "metadata": {
        "colab": {
          "base_uri": "https://localhost:8080/"
        },
        "id": "zABz4zMpAO_u",
        "outputId": "6e792891-910e-4efa-9930-8004fd2ee0e7"
      },
      "source": [
        "torch.sum(x*y)"
      ],
      "execution_count": 17,
      "outputs": [
        {
          "output_type": "execute_result",
          "data": {
            "text/plain": [
              "tensor(6.)"
            ]
          },
          "metadata": {
            "tags": []
          },
          "execution_count": 17
        }
      ]
    },
    {
      "cell_type": "markdown",
      "metadata": {
        "id": "yuqm_tpRAiS1"
      },
      "source": [
        "## 8. 矩阵向量积\n"
      ]
    },
    {
      "cell_type": "code",
      "metadata": {
        "colab": {
          "base_uri": "https://localhost:8080/"
        },
        "id": "y5YXqtzSBR_v",
        "outputId": "4106df8f-783d-42b2-b54b-fa0ce116b6ef"
      },
      "source": [
        "A.shape, x.shape, torch.mv(A, x)"
      ],
      "execution_count": 18,
      "outputs": [
        {
          "output_type": "execute_result",
          "data": {
            "text/plain": [
              "(torch.Size([5, 4]), torch.Size([4]), tensor([ 14.,  38.,  62.,  86., 110.]))"
            ]
          },
          "metadata": {
            "tags": []
          },
          "execution_count": 18
        }
      ]
    },
    {
      "cell_type": "code",
      "metadata": {
        "colab": {
          "base_uri": "https://localhost:8080/"
        },
        "id": "PHWT_ml0kRWN",
        "outputId": "8b457932-9a75-480c-ce4a-2cc76f79e387"
      },
      "source": [
        "B = torch.ones(4,3)\n",
        "torch.mm(A,B)"
      ],
      "execution_count": 19,
      "outputs": [
        {
          "output_type": "execute_result",
          "data": {
            "text/plain": [
              "tensor([[ 6.,  6.,  6.],\n",
              "        [22., 22., 22.],\n",
              "        [38., 38., 38.],\n",
              "        [54., 54., 54.],\n",
              "        [70., 70., 70.]])"
            ]
          },
          "metadata": {
            "tags": []
          },
          "execution_count": 19
        }
      ]
    },
    {
      "cell_type": "markdown",
      "metadata": {
        "id": "7KDb7YFrkX3R"
      },
      "source": [
        "## 10. 范数"
      ]
    },
    {
      "cell_type": "markdown",
      "metadata": {
        "id": "Wkw45-80kdtO"
      },
      "source": [
        "线性代数中一些最有用的运算符是 范数（norms）。非正式地说，一个向量的范数告诉我们一个向量有多大。 这里考虑的 大小（size） 概念不涉及维度，而是分量的大小。\n",
        "在线性代数中，向量范数是将向量映射到标量的函数  f 。向量范数要满足一些属性。 给定任意向量  x ，第一个性质说，如果我们按常数因子  α  缩放向量的所有元素，其范数也会按相同常数因子的 绝对值 缩放：\n",
        "第二个性质是我们熟悉的三角不等式:\n",
        "第三个性质简单地说范数必须是非负的:\n",
        "\n",
        "\n",
        "范数听起来很像距离的度量。如果你还记得小学时的欧几里得距离(想想毕达哥拉斯定理)，那么非负性的概念和三角不等式可能会给你一些启发。 事实上，欧几里得距离是一个范数：具体而言，它是  L2  范数。假设 n -维向量:math:mathbf{x}中的元素是 x1,…,xn  的  L2  范数 是向量元素平方和的平方根：\n",
        "\n",
        "![image.png](data:image/png;base64,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)\n",
        "\n",
        "\n"
      ]
    },
    {
      "cell_type": "code",
      "metadata": {
        "colab": {
          "base_uri": "https://localhost:8080/"
        },
        "id": "pUCwZgQ7kXWM",
        "outputId": "15bfd25b-14e7-420f-b6ab-225aa87a6b08"
      },
      "source": [
        "# 计算L2范数\n",
        "u = torch.tensor([3.0,-4.0])\n",
        "torch.norm(u)"
      ],
      "execution_count": 21,
      "outputs": [
        {
          "output_type": "execute_result",
          "data": {
            "text/plain": [
              "tensor(5.)"
            ]
          },
          "metadata": {
            "tags": []
          },
          "execution_count": 21
        }
      ]
    },
    {
      "cell_type": "markdown",
      "metadata": {
        "id": "ARcT3aHnlA93"
      },
      "source": [
        "你还会经常遇到  L1  范数，它表示为向量元素的绝对值之和：\n",
        "\n",
        "![image.png](data:image/png;base64,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)\n"
      ]
    },
    {
      "cell_type": "code",
      "metadata": {
        "colab": {
          "base_uri": "https://localhost:8080/"
        },
        "id": "bCJG-QI9lDTw",
        "outputId": "10d2dce3-183c-4f64-970e-afb24dc5f6c6"
      },
      "source": [
        "torch.abs(u).sum()"
      ],
      "execution_count": 22,
      "outputs": [
        {
          "output_type": "execute_result",
          "data": {
            "text/plain": [
              "tensor(7.)"
            ]
          },
          "metadata": {
            "tags": []
          },
          "execution_count": 22
        }
      ]
    }
  ]
}